{
  "nbformat": 4,
  "nbformat_minor": 0,
  "metadata": {
    "colab": {
      "provenance": [],
      "authorship_tag": "ABX9TyPQxSrlZ10Fnlqb9sK44MoX",
      "include_colab_link": true
    },
    "kernelspec": {
      "name": "python3",
      "display_name": "Python 3"
    },
    "language_info": {
      "name": "python"
    }
  },
  "cells": [
    {
      "cell_type": "markdown",
      "metadata": {
        "id": "view-in-github",
        "colab_type": "text"
      },
      "source": [
        "<a href=\"https://colab.research.google.com/github/Ashubapun/Customer-Churn-Prediction/blob/main/CCP.ipynb\" target=\"_parent\"><img src=\"https://colab.research.google.com/assets/colab-badge.svg\" alt=\"Open In Colab\"/></a>"
      ]
    },
    {
      "cell_type": "code",
      "execution_count": 162,
      "metadata": {
        "id": "3u04oZtpe5k-"
      },
      "outputs": [],
      "source": [
        "import numpy as np\n",
        "import pandas as pd\n",
        "import matplotlib.pyplot as plt\n",
        "%matplotlib inline\n",
        "import seaborn as sns\n",
        "import plotly.express as px"
      ]
    },
    {
      "cell_type": "code",
      "source": [
        "df = pd.read_csv('/content/WA_Fn-UseC_-Telco-Customer-Churn.csv')\n",
        "df"
      ],
      "metadata": {
        "colab": {
          "base_uri": "https://localhost:8080/",
          "height": 661
        },
        "id": "Vq0GYxEZfNyF",
        "outputId": "8360de98-538b-454c-e1d5-a0cb5a660ff7"
      },
      "execution_count": 163,
      "outputs": [
        {
          "output_type": "execute_result",
          "data": {
            "text/plain": [
              "      customerID  gender  SeniorCitizen Partner Dependents  tenure  \\\n",
              "0     7590-VHVEG  Female              0     Yes         No       1   \n",
              "1     5575-GNVDE    Male              0      No         No      34   \n",
              "2     3668-QPYBK    Male              0      No         No       2   \n",
              "3     7795-CFOCW    Male              0      No         No      45   \n",
              "4     9237-HQITU  Female              0      No         No       2   \n",
              "...          ...     ...            ...     ...        ...     ...   \n",
              "7038  6840-RESVB    Male              0     Yes        Yes      24   \n",
              "7039  2234-XADUH  Female              0     Yes        Yes      72   \n",
              "7040  4801-JZAZL  Female              0     Yes        Yes      11   \n",
              "7041  8361-LTMKD    Male              1     Yes         No       4   \n",
              "7042  3186-AJIEK    Male              0      No         No      66   \n",
              "\n",
              "     PhoneService     MultipleLines InternetService OnlineSecurity  ...  \\\n",
              "0              No  No phone service             DSL             No  ...   \n",
              "1             Yes                No             DSL            Yes  ...   \n",
              "2             Yes                No             DSL            Yes  ...   \n",
              "3              No  No phone service             DSL            Yes  ...   \n",
              "4             Yes                No     Fiber optic             No  ...   \n",
              "...           ...               ...             ...            ...  ...   \n",
              "7038          Yes               Yes             DSL            Yes  ...   \n",
              "7039          Yes               Yes     Fiber optic             No  ...   \n",
              "7040           No  No phone service             DSL            Yes  ...   \n",
              "7041          Yes               Yes     Fiber optic             No  ...   \n",
              "7042          Yes                No     Fiber optic            Yes  ...   \n",
              "\n",
              "     DeviceProtection TechSupport StreamingTV StreamingMovies        Contract  \\\n",
              "0                  No          No          No              No  Month-to-month   \n",
              "1                 Yes          No          No              No        One year   \n",
              "2                  No          No          No              No  Month-to-month   \n",
              "3                 Yes         Yes          No              No        One year   \n",
              "4                  No          No          No              No  Month-to-month   \n",
              "...               ...         ...         ...             ...             ...   \n",
              "7038              Yes         Yes         Yes             Yes        One year   \n",
              "7039              Yes          No         Yes             Yes        One year   \n",
              "7040               No          No          No              No  Month-to-month   \n",
              "7041               No          No          No              No  Month-to-month   \n",
              "7042              Yes         Yes         Yes             Yes        Two year   \n",
              "\n",
              "     PaperlessBilling              PaymentMethod MonthlyCharges  TotalCharges  \\\n",
              "0                 Yes           Electronic check          29.85         29.85   \n",
              "1                  No               Mailed check          56.95        1889.5   \n",
              "2                 Yes               Mailed check          53.85        108.15   \n",
              "3                  No  Bank transfer (automatic)          42.30       1840.75   \n",
              "4                 Yes           Electronic check          70.70        151.65   \n",
              "...               ...                        ...            ...           ...   \n",
              "7038              Yes               Mailed check          84.80        1990.5   \n",
              "7039              Yes    Credit card (automatic)         103.20        7362.9   \n",
              "7040              Yes           Electronic check          29.60        346.45   \n",
              "7041              Yes               Mailed check          74.40         306.6   \n",
              "7042              Yes  Bank transfer (automatic)         105.65        6844.5   \n",
              "\n",
              "     Churn  \n",
              "0       No  \n",
              "1       No  \n",
              "2      Yes  \n",
              "3       No  \n",
              "4      Yes  \n",
              "...    ...  \n",
              "7038    No  \n",
              "7039    No  \n",
              "7040    No  \n",
              "7041   Yes  \n",
              "7042    No  \n",
              "\n",
              "[7043 rows x 21 columns]"
            ],
            "text/html": [
              "\n",
              "  <div id=\"df-664b20ce-3628-41c5-a6cd-30d31d4a2d13\">\n",
              "    <div class=\"colab-df-container\">\n",
              "      <div>\n",
              "<style scoped>\n",
              "    .dataframe tbody tr th:only-of-type {\n",
              "        vertical-align: middle;\n",
              "    }\n",
              "\n",
              "    .dataframe tbody tr th {\n",
              "        vertical-align: top;\n",
              "    }\n",
              "\n",
              "    .dataframe thead th {\n",
              "        text-align: right;\n",
              "    }\n",
              "</style>\n",
              "<table border=\"1\" class=\"dataframe\">\n",
              "  <thead>\n",
              "    <tr style=\"text-align: right;\">\n",
              "      <th></th>\n",
              "      <th>customerID</th>\n",
              "      <th>gender</th>\n",
              "      <th>SeniorCitizen</th>\n",
              "      <th>Partner</th>\n",
              "      <th>Dependents</th>\n",
              "      <th>tenure</th>\n",
              "      <th>PhoneService</th>\n",
              "      <th>MultipleLines</th>\n",
              "      <th>InternetService</th>\n",
              "      <th>OnlineSecurity</th>\n",
              "      <th>...</th>\n",
              "      <th>DeviceProtection</th>\n",
              "      <th>TechSupport</th>\n",
              "      <th>StreamingTV</th>\n",
              "      <th>StreamingMovies</th>\n",
              "      <th>Contract</th>\n",
              "      <th>PaperlessBilling</th>\n",
              "      <th>PaymentMethod</th>\n",
              "      <th>MonthlyCharges</th>\n",
              "      <th>TotalCharges</th>\n",
              "      <th>Churn</th>\n",
              "    </tr>\n",
              "  </thead>\n",
              "  <tbody>\n",
              "    <tr>\n",
              "      <th>0</th>\n",
              "      <td>7590-VHVEG</td>\n",
              "      <td>Female</td>\n",
              "      <td>0</td>\n",
              "      <td>Yes</td>\n",
              "      <td>No</td>\n",
              "      <td>1</td>\n",
              "      <td>No</td>\n",
              "      <td>No phone service</td>\n",
              "      <td>DSL</td>\n",
              "      <td>No</td>\n",
              "      <td>...</td>\n",
              "      <td>No</td>\n",
              "      <td>No</td>\n",
              "      <td>No</td>\n",
              "      <td>No</td>\n",
              "      <td>Month-to-month</td>\n",
              "      <td>Yes</td>\n",
              "      <td>Electronic check</td>\n",
              "      <td>29.85</td>\n",
              "      <td>29.85</td>\n",
              "      <td>No</td>\n",
              "    </tr>\n",
              "    <tr>\n",
              "      <th>1</th>\n",
              "      <td>5575-GNVDE</td>\n",
              "      <td>Male</td>\n",
              "      <td>0</td>\n",
              "      <td>No</td>\n",
              "      <td>No</td>\n",
              "      <td>34</td>\n",
              "      <td>Yes</td>\n",
              "      <td>No</td>\n",
              "      <td>DSL</td>\n",
              "      <td>Yes</td>\n",
              "      <td>...</td>\n",
              "      <td>Yes</td>\n",
              "      <td>No</td>\n",
              "      <td>No</td>\n",
              "      <td>No</td>\n",
              "      <td>One year</td>\n",
              "      <td>No</td>\n",
              "      <td>Mailed check</td>\n",
              "      <td>56.95</td>\n",
              "      <td>1889.5</td>\n",
              "      <td>No</td>\n",
              "    </tr>\n",
              "    <tr>\n",
              "      <th>2</th>\n",
              "      <td>3668-QPYBK</td>\n",
              "      <td>Male</td>\n",
              "      <td>0</td>\n",
              "      <td>No</td>\n",
              "      <td>No</td>\n",
              "      <td>2</td>\n",
              "      <td>Yes</td>\n",
              "      <td>No</td>\n",
              "      <td>DSL</td>\n",
              "      <td>Yes</td>\n",
              "      <td>...</td>\n",
              "      <td>No</td>\n",
              "      <td>No</td>\n",
              "      <td>No</td>\n",
              "      <td>No</td>\n",
              "      <td>Month-to-month</td>\n",
              "      <td>Yes</td>\n",
              "      <td>Mailed check</td>\n",
              "      <td>53.85</td>\n",
              "      <td>108.15</td>\n",
              "      <td>Yes</td>\n",
              "    </tr>\n",
              "    <tr>\n",
              "      <th>3</th>\n",
              "      <td>7795-CFOCW</td>\n",
              "      <td>Male</td>\n",
              "      <td>0</td>\n",
              "      <td>No</td>\n",
              "      <td>No</td>\n",
              "      <td>45</td>\n",
              "      <td>No</td>\n",
              "      <td>No phone service</td>\n",
              "      <td>DSL</td>\n",
              "      <td>Yes</td>\n",
              "      <td>...</td>\n",
              "      <td>Yes</td>\n",
              "      <td>Yes</td>\n",
              "      <td>No</td>\n",
              "      <td>No</td>\n",
              "      <td>One year</td>\n",
              "      <td>No</td>\n",
              "      <td>Bank transfer (automatic)</td>\n",
              "      <td>42.30</td>\n",
              "      <td>1840.75</td>\n",
              "      <td>No</td>\n",
              "    </tr>\n",
              "    <tr>\n",
              "      <th>4</th>\n",
              "      <td>9237-HQITU</td>\n",
              "      <td>Female</td>\n",
              "      <td>0</td>\n",
              "      <td>No</td>\n",
              "      <td>No</td>\n",
              "      <td>2</td>\n",
              "      <td>Yes</td>\n",
              "      <td>No</td>\n",
              "      <td>Fiber optic</td>\n",
              "      <td>No</td>\n",
              "      <td>...</td>\n",
              "      <td>No</td>\n",
              "      <td>No</td>\n",
              "      <td>No</td>\n",
              "      <td>No</td>\n",
              "      <td>Month-to-month</td>\n",
              "      <td>Yes</td>\n",
              "      <td>Electronic check</td>\n",
              "      <td>70.70</td>\n",
              "      <td>151.65</td>\n",
              "      <td>Yes</td>\n",
              "    </tr>\n",
              "    <tr>\n",
              "      <th>...</th>\n",
              "      <td>...</td>\n",
              "      <td>...</td>\n",
              "      <td>...</td>\n",
              "      <td>...</td>\n",
              "      <td>...</td>\n",
              "      <td>...</td>\n",
              "      <td>...</td>\n",
              "      <td>...</td>\n",
              "      <td>...</td>\n",
              "      <td>...</td>\n",
              "      <td>...</td>\n",
              "      <td>...</td>\n",
              "      <td>...</td>\n",
              "      <td>...</td>\n",
              "      <td>...</td>\n",
              "      <td>...</td>\n",
              "      <td>...</td>\n",
              "      <td>...</td>\n",
              "      <td>...</td>\n",
              "      <td>...</td>\n",
              "      <td>...</td>\n",
              "    </tr>\n",
              "    <tr>\n",
              "      <th>7038</th>\n",
              "      <td>6840-RESVB</td>\n",
              "      <td>Male</td>\n",
              "      <td>0</td>\n",
              "      <td>Yes</td>\n",
              "      <td>Yes</td>\n",
              "      <td>24</td>\n",
              "      <td>Yes</td>\n",
              "      <td>Yes</td>\n",
              "      <td>DSL</td>\n",
              "      <td>Yes</td>\n",
              "      <td>...</td>\n",
              "      <td>Yes</td>\n",
              "      <td>Yes</td>\n",
              "      <td>Yes</td>\n",
              "      <td>Yes</td>\n",
              "      <td>One year</td>\n",
              "      <td>Yes</td>\n",
              "      <td>Mailed check</td>\n",
              "      <td>84.80</td>\n",
              "      <td>1990.5</td>\n",
              "      <td>No</td>\n",
              "    </tr>\n",
              "    <tr>\n",
              "      <th>7039</th>\n",
              "      <td>2234-XADUH</td>\n",
              "      <td>Female</td>\n",
              "      <td>0</td>\n",
              "      <td>Yes</td>\n",
              "      <td>Yes</td>\n",
              "      <td>72</td>\n",
              "      <td>Yes</td>\n",
              "      <td>Yes</td>\n",
              "      <td>Fiber optic</td>\n",
              "      <td>No</td>\n",
              "      <td>...</td>\n",
              "      <td>Yes</td>\n",
              "      <td>No</td>\n",
              "      <td>Yes</td>\n",
              "      <td>Yes</td>\n",
              "      <td>One year</td>\n",
              "      <td>Yes</td>\n",
              "      <td>Credit card (automatic)</td>\n",
              "      <td>103.20</td>\n",
              "      <td>7362.9</td>\n",
              "      <td>No</td>\n",
              "    </tr>\n",
              "    <tr>\n",
              "      <th>7040</th>\n",
              "      <td>4801-JZAZL</td>\n",
              "      <td>Female</td>\n",
              "      <td>0</td>\n",
              "      <td>Yes</td>\n",
              "      <td>Yes</td>\n",
              "      <td>11</td>\n",
              "      <td>No</td>\n",
              "      <td>No phone service</td>\n",
              "      <td>DSL</td>\n",
              "      <td>Yes</td>\n",
              "      <td>...</td>\n",
              "      <td>No</td>\n",
              "      <td>No</td>\n",
              "      <td>No</td>\n",
              "      <td>No</td>\n",
              "      <td>Month-to-month</td>\n",
              "      <td>Yes</td>\n",
              "      <td>Electronic check</td>\n",
              "      <td>29.60</td>\n",
              "      <td>346.45</td>\n",
              "      <td>No</td>\n",
              "    </tr>\n",
              "    <tr>\n",
              "      <th>7041</th>\n",
              "      <td>8361-LTMKD</td>\n",
              "      <td>Male</td>\n",
              "      <td>1</td>\n",
              "      <td>Yes</td>\n",
              "      <td>No</td>\n",
              "      <td>4</td>\n",
              "      <td>Yes</td>\n",
              "      <td>Yes</td>\n",
              "      <td>Fiber optic</td>\n",
              "      <td>No</td>\n",
              "      <td>...</td>\n",
              "      <td>No</td>\n",
              "      <td>No</td>\n",
              "      <td>No</td>\n",
              "      <td>No</td>\n",
              "      <td>Month-to-month</td>\n",
              "      <td>Yes</td>\n",
              "      <td>Mailed check</td>\n",
              "      <td>74.40</td>\n",
              "      <td>306.6</td>\n",
              "      <td>Yes</td>\n",
              "    </tr>\n",
              "    <tr>\n",
              "      <th>7042</th>\n",
              "      <td>3186-AJIEK</td>\n",
              "      <td>Male</td>\n",
              "      <td>0</td>\n",
              "      <td>No</td>\n",
              "      <td>No</td>\n",
              "      <td>66</td>\n",
              "      <td>Yes</td>\n",
              "      <td>No</td>\n",
              "      <td>Fiber optic</td>\n",
              "      <td>Yes</td>\n",
              "      <td>...</td>\n",
              "      <td>Yes</td>\n",
              "      <td>Yes</td>\n",
              "      <td>Yes</td>\n",
              "      <td>Yes</td>\n",
              "      <td>Two year</td>\n",
              "      <td>Yes</td>\n",
              "      <td>Bank transfer (automatic)</td>\n",
              "      <td>105.65</td>\n",
              "      <td>6844.5</td>\n",
              "      <td>No</td>\n",
              "    </tr>\n",
              "  </tbody>\n",
              "</table>\n",
              "<p>7043 rows × 21 columns</p>\n",
              "</div>\n",
              "      <button class=\"colab-df-convert\" onclick=\"convertToInteractive('df-664b20ce-3628-41c5-a6cd-30d31d4a2d13')\"\n",
              "              title=\"Convert this dataframe to an interactive table.\"\n",
              "              style=\"display:none;\">\n",
              "        \n",
              "  <svg xmlns=\"http://www.w3.org/2000/svg\" height=\"24px\"viewBox=\"0 0 24 24\"\n",
              "       width=\"24px\">\n",
              "    <path d=\"M0 0h24v24H0V0z\" fill=\"none\"/>\n",
              "    <path d=\"M18.56 5.44l.94 2.06.94-2.06 2.06-.94-2.06-.94-.94-2.06-.94 2.06-2.06.94zm-11 1L8.5 8.5l.94-2.06 2.06-.94-2.06-.94L8.5 2.5l-.94 2.06-2.06.94zm10 10l.94 2.06.94-2.06 2.06-.94-2.06-.94-.94-2.06-.94 2.06-2.06.94z\"/><path d=\"M17.41 7.96l-1.37-1.37c-.4-.4-.92-.59-1.43-.59-.52 0-1.04.2-1.43.59L10.3 9.45l-7.72 7.72c-.78.78-.78 2.05 0 2.83L4 21.41c.39.39.9.59 1.41.59.51 0 1.02-.2 1.41-.59l7.78-7.78 2.81-2.81c.8-.78.8-2.07 0-2.86zM5.41 20L4 18.59l7.72-7.72 1.47 1.35L5.41 20z\"/>\n",
              "  </svg>\n",
              "      </button>\n",
              "      \n",
              "  <style>\n",
              "    .colab-df-container {\n",
              "      display:flex;\n",
              "      flex-wrap:wrap;\n",
              "      gap: 12px;\n",
              "    }\n",
              "\n",
              "    .colab-df-convert {\n",
              "      background-color: #E8F0FE;\n",
              "      border: none;\n",
              "      border-radius: 50%;\n",
              "      cursor: pointer;\n",
              "      display: none;\n",
              "      fill: #1967D2;\n",
              "      height: 32px;\n",
              "      padding: 0 0 0 0;\n",
              "      width: 32px;\n",
              "    }\n",
              "\n",
              "    .colab-df-convert:hover {\n",
              "      background-color: #E2EBFA;\n",
              "      box-shadow: 0px 1px 2px rgba(60, 64, 67, 0.3), 0px 1px 3px 1px rgba(60, 64, 67, 0.15);\n",
              "      fill: #174EA6;\n",
              "    }\n",
              "\n",
              "    [theme=dark] .colab-df-convert {\n",
              "      background-color: #3B4455;\n",
              "      fill: #D2E3FC;\n",
              "    }\n",
              "\n",
              "    [theme=dark] .colab-df-convert:hover {\n",
              "      background-color: #434B5C;\n",
              "      box-shadow: 0px 1px 3px 1px rgba(0, 0, 0, 0.15);\n",
              "      filter: drop-shadow(0px 1px 2px rgba(0, 0, 0, 0.3));\n",
              "      fill: #FFFFFF;\n",
              "    }\n",
              "  </style>\n",
              "\n",
              "      <script>\n",
              "        const buttonEl =\n",
              "          document.querySelector('#df-664b20ce-3628-41c5-a6cd-30d31d4a2d13 button.colab-df-convert');\n",
              "        buttonEl.style.display =\n",
              "          google.colab.kernel.accessAllowed ? 'block' : 'none';\n",
              "\n",
              "        async function convertToInteractive(key) {\n",
              "          const element = document.querySelector('#df-664b20ce-3628-41c5-a6cd-30d31d4a2d13');\n",
              "          const dataTable =\n",
              "            await google.colab.kernel.invokeFunction('convertToInteractive',\n",
              "                                                     [key], {});\n",
              "          if (!dataTable) return;\n",
              "\n",
              "          const docLinkHtml = 'Like what you see? Visit the ' +\n",
              "            '<a target=\"_blank\" href=https://colab.research.google.com/notebooks/data_table.ipynb>data table notebook</a>'\n",
              "            + ' to learn more about interactive tables.';\n",
              "          element.innerHTML = '';\n",
              "          dataTable['output_type'] = 'display_data';\n",
              "          await google.colab.output.renderOutput(dataTable, element);\n",
              "          const docLink = document.createElement('div');\n",
              "          docLink.innerHTML = docLinkHtml;\n",
              "          element.appendChild(docLink);\n",
              "        }\n",
              "      </script>\n",
              "    </div>\n",
              "  </div>\n",
              "  "
            ]
          },
          "metadata": {},
          "execution_count": 163
        }
      ]
    },
    {
      "cell_type": "code",
      "source": [
        "df.info()"
      ],
      "metadata": {
        "colab": {
          "base_uri": "https://localhost:8080/"
        },
        "id": "sVnMHGUtfUFR",
        "outputId": "17e2e0ca-842c-47e6-ed16-06e62230a9e8"
      },
      "execution_count": 164,
      "outputs": [
        {
          "output_type": "stream",
          "name": "stdout",
          "text": [
            "<class 'pandas.core.frame.DataFrame'>\n",
            "RangeIndex: 7043 entries, 0 to 7042\n",
            "Data columns (total 21 columns):\n",
            " #   Column            Non-Null Count  Dtype  \n",
            "---  ------            --------------  -----  \n",
            " 0   customerID        7043 non-null   object \n",
            " 1   gender            7043 non-null   object \n",
            " 2   SeniorCitizen     7043 non-null   int64  \n",
            " 3   Partner           7043 non-null   object \n",
            " 4   Dependents        7043 non-null   object \n",
            " 5   tenure            7043 non-null   int64  \n",
            " 6   PhoneService      7043 non-null   object \n",
            " 7   MultipleLines     7043 non-null   object \n",
            " 8   InternetService   7043 non-null   object \n",
            " 9   OnlineSecurity    7043 non-null   object \n",
            " 10  OnlineBackup      7043 non-null   object \n",
            " 11  DeviceProtection  7043 non-null   object \n",
            " 12  TechSupport       7043 non-null   object \n",
            " 13  StreamingTV       7043 non-null   object \n",
            " 14  StreamingMovies   7043 non-null   object \n",
            " 15  Contract          7043 non-null   object \n",
            " 16  PaperlessBilling  7043 non-null   object \n",
            " 17  PaymentMethod     7043 non-null   object \n",
            " 18  MonthlyCharges    7043 non-null   float64\n",
            " 19  TotalCharges      7043 non-null   object \n",
            " 20  Churn             7043 non-null   object \n",
            "dtypes: float64(1), int64(2), object(18)\n",
            "memory usage: 1.1+ MB\n"
          ]
        }
      ]
    },
    {
      "cell_type": "code",
      "source": [
        "df.columns"
      ],
      "metadata": {
        "colab": {
          "base_uri": "https://localhost:8080/"
        },
        "id": "FG5ZW9zNhwzK",
        "outputId": "abe06215-8a88-47f3-f774-731cb249ecff"
      },
      "execution_count": 165,
      "outputs": [
        {
          "output_type": "execute_result",
          "data": {
            "text/plain": [
              "Index(['customerID', 'gender', 'SeniorCitizen', 'Partner', 'Dependents',\n",
              "       'tenure', 'PhoneService', 'MultipleLines', 'InternetService',\n",
              "       'OnlineSecurity', 'OnlineBackup', 'DeviceProtection', 'TechSupport',\n",
              "       'StreamingTV', 'StreamingMovies', 'Contract', 'PaperlessBilling',\n",
              "       'PaymentMethod', 'MonthlyCharges', 'TotalCharges', 'Churn'],\n",
              "      dtype='object')"
            ]
          },
          "metadata": {},
          "execution_count": 165
        }
      ]
    },
    {
      "cell_type": "code",
      "source": [
        "df.shape"
      ],
      "metadata": {
        "colab": {
          "base_uri": "https://localhost:8080/"
        },
        "id": "3qwbyqIBf2_P",
        "outputId": "089fd901-af61-4db5-fdc1-12152b361720"
      },
      "execution_count": 166,
      "outputs": [
        {
          "output_type": "execute_result",
          "data": {
            "text/plain": [
              "(7043, 21)"
            ]
          },
          "metadata": {},
          "execution_count": 166
        }
      ]
    },
    {
      "cell_type": "code",
      "source": [
        "df.duplicated().sum()"
      ],
      "metadata": {
        "colab": {
          "base_uri": "https://localhost:8080/"
        },
        "id": "HePkAeTbf4KX",
        "outputId": "6b575d79-18ab-4d30-99df-7a2d6a550a75"
      },
      "execution_count": 167,
      "outputs": [
        {
          "output_type": "execute_result",
          "data": {
            "text/plain": [
              "0"
            ]
          },
          "metadata": {},
          "execution_count": 167
        }
      ]
    },
    {
      "cell_type": "code",
      "source": [
        "df = df.drop(df[df['TotalCharges'] == ' '].index, axis = 0)"
      ],
      "metadata": {
        "id": "YaY-iFBopwW6"
      },
      "execution_count": 168,
      "outputs": []
    },
    {
      "cell_type": "code",
      "source": [
        "df['gender'].value_counts()"
      ],
      "metadata": {
        "colab": {
          "base_uri": "https://localhost:8080/"
        },
        "id": "SGTT5o02f7Ez",
        "outputId": "0c9c585c-636a-4db2-f0b9-07552d43971a"
      },
      "execution_count": 169,
      "outputs": [
        {
          "output_type": "execute_result",
          "data": {
            "text/plain": [
              "Male      3549\n",
              "Female    3483\n",
              "Name: gender, dtype: int64"
            ]
          },
          "metadata": {},
          "execution_count": 169
        }
      ]
    },
    {
      "cell_type": "code",
      "source": [
        "df['Partner'].value_counts()"
      ],
      "metadata": {
        "colab": {
          "base_uri": "https://localhost:8080/"
        },
        "id": "ZyD2MPNNgB6c",
        "outputId": "3012a522-5b6c-4c77-94c9-d5744cc20fae"
      },
      "execution_count": 170,
      "outputs": [
        {
          "output_type": "execute_result",
          "data": {
            "text/plain": [
              "No     3639\n",
              "Yes    3393\n",
              "Name: Partner, dtype: int64"
            ]
          },
          "metadata": {},
          "execution_count": 170
        }
      ]
    },
    {
      "cell_type": "code",
      "source": [
        "df['Dependents'].value_counts()"
      ],
      "metadata": {
        "colab": {
          "base_uri": "https://localhost:8080/"
        },
        "id": "7sp1ao48ho-x",
        "outputId": "af308cc8-0d1c-4ede-c1d0-04302cacfca9"
      },
      "execution_count": 171,
      "outputs": [
        {
          "output_type": "execute_result",
          "data": {
            "text/plain": [
              "No     4933\n",
              "Yes    2099\n",
              "Name: Dependents, dtype: int64"
            ]
          },
          "metadata": {},
          "execution_count": 171
        }
      ]
    },
    {
      "cell_type": "code",
      "source": [
        "df['MultipleLines'].value_counts()"
      ],
      "metadata": {
        "colab": {
          "base_uri": "https://localhost:8080/"
        },
        "id": "REnH4z5Uh6bT",
        "outputId": "c2f99ba1-6c07-48cb-80be-06c05061abf2"
      },
      "execution_count": 172,
      "outputs": [
        {
          "output_type": "execute_result",
          "data": {
            "text/plain": [
              "No                  3385\n",
              "Yes                 2967\n",
              "No phone service     680\n",
              "Name: MultipleLines, dtype: int64"
            ]
          },
          "metadata": {},
          "execution_count": 172
        }
      ]
    },
    {
      "cell_type": "code",
      "source": [
        "df['InternetService'].value_counts()"
      ],
      "metadata": {
        "colab": {
          "base_uri": "https://localhost:8080/"
        },
        "id": "wPhl5y-_kAK7",
        "outputId": "b5c70b91-e507-4dfb-c45b-fcaee385a218"
      },
      "execution_count": 173,
      "outputs": [
        {
          "output_type": "execute_result",
          "data": {
            "text/plain": [
              "Fiber optic    3096\n",
              "DSL            2416\n",
              "No             1520\n",
              "Name: InternetService, dtype: int64"
            ]
          },
          "metadata": {},
          "execution_count": 173
        }
      ]
    },
    {
      "cell_type": "code",
      "source": [
        "df['OnlineSecurity'].value_counts()"
      ],
      "metadata": {
        "colab": {
          "base_uri": "https://localhost:8080/"
        },
        "id": "20USt6PglBL2",
        "outputId": "331a3d9c-b731-41a7-ed8a-42940b3929e4"
      },
      "execution_count": 174,
      "outputs": [
        {
          "output_type": "execute_result",
          "data": {
            "text/plain": [
              "No                     3497\n",
              "Yes                    2015\n",
              "No internet service    1520\n",
              "Name: OnlineSecurity, dtype: int64"
            ]
          },
          "metadata": {},
          "execution_count": 174
        }
      ]
    },
    {
      "cell_type": "code",
      "source": [
        "df['OnlineBackup'].value_counts()"
      ],
      "metadata": {
        "colab": {
          "base_uri": "https://localhost:8080/"
        },
        "id": "0wtGe8R1lBA3",
        "outputId": "ac6c9e5f-e364-49ab-9649-77a092767b0e"
      },
      "execution_count": 175,
      "outputs": [
        {
          "output_type": "execute_result",
          "data": {
            "text/plain": [
              "No                     3087\n",
              "Yes                    2425\n",
              "No internet service    1520\n",
              "Name: OnlineBackup, dtype: int64"
            ]
          },
          "metadata": {},
          "execution_count": 175
        }
      ]
    },
    {
      "cell_type": "code",
      "source": [
        "df['DeviceProtection'].value_counts()"
      ],
      "metadata": {
        "colab": {
          "base_uri": "https://localhost:8080/"
        },
        "id": "xJ3SXlWvlA2x",
        "outputId": "a5bd1d63-4adb-4576-dd8c-a16437f671a1"
      },
      "execution_count": 176,
      "outputs": [
        {
          "output_type": "execute_result",
          "data": {
            "text/plain": [
              "No                     3094\n",
              "Yes                    2418\n",
              "No internet service    1520\n",
              "Name: DeviceProtection, dtype: int64"
            ]
          },
          "metadata": {},
          "execution_count": 176
        }
      ]
    },
    {
      "cell_type": "code",
      "source": [
        "df['TechSupport'].value_counts()"
      ],
      "metadata": {
        "colab": {
          "base_uri": "https://localhost:8080/"
        },
        "id": "WUIcuMZ3lAj1",
        "outputId": "a08b6aa8-6b4c-4ecc-9626-3b64baa8d001"
      },
      "execution_count": 177,
      "outputs": [
        {
          "output_type": "execute_result",
          "data": {
            "text/plain": [
              "No                     3472\n",
              "Yes                    2040\n",
              "No internet service    1520\n",
              "Name: TechSupport, dtype: int64"
            ]
          },
          "metadata": {},
          "execution_count": 177
        }
      ]
    },
    {
      "cell_type": "code",
      "source": [
        "df['StreamingTV'].value_counts()"
      ],
      "metadata": {
        "colab": {
          "base_uri": "https://localhost:8080/"
        },
        "id": "Bn4gE6-Tlj6s",
        "outputId": "e96228fe-eb0c-4e58-f3c4-5ad53cc5eed6"
      },
      "execution_count": 178,
      "outputs": [
        {
          "output_type": "execute_result",
          "data": {
            "text/plain": [
              "No                     2809\n",
              "Yes                    2703\n",
              "No internet service    1520\n",
              "Name: StreamingTV, dtype: int64"
            ]
          },
          "metadata": {},
          "execution_count": 178
        }
      ]
    },
    {
      "cell_type": "code",
      "source": [
        "df['MonthlyCharges'] = df['MonthlyCharges'].astype('float')"
      ],
      "metadata": {
        "id": "26tdlsxvm65r"
      },
      "execution_count": 179,
      "outputs": []
    },
    {
      "cell_type": "code",
      "source": [
        "df['TotalCharges'] = df['TotalCharges'].astype('float')"
      ],
      "metadata": {
        "id": "CFOjxu1Yljju"
      },
      "execution_count": 180,
      "outputs": []
    },
    {
      "cell_type": "code",
      "source": [
        "df['Churn'].value_counts()"
      ],
      "metadata": {
        "colab": {
          "base_uri": "https://localhost:8080/"
        },
        "id": "vWZxAMxNiJXb",
        "outputId": "112aeb60-9c2e-445d-f2ef-3743b280a594"
      },
      "execution_count": 181,
      "outputs": [
        {
          "output_type": "execute_result",
          "data": {
            "text/plain": [
              "No     5163\n",
              "Yes    1869\n",
              "Name: Churn, dtype: int64"
            ]
          },
          "metadata": {},
          "execution_count": 181
        }
      ]
    },
    {
      "cell_type": "code",
      "source": [
        "sns.countplot(data = df, x = df['Churn'])"
      ],
      "metadata": {
        "colab": {
          "base_uri": "https://localhost:8080/",
          "height": 466
        },
        "id": "R41S-ghBjKk_",
        "outputId": "721db8cd-a0d8-4b41-a54e-adee27470d7f"
      },
      "execution_count": 182,
      "outputs": [
        {
          "output_type": "execute_result",
          "data": {
            "text/plain": [
              "<Axes: xlabel='Churn', ylabel='count'>"
            ]
          },
          "metadata": {},
          "execution_count": 182
        },
        {
          "output_type": "display_data",
          "data": {
            "text/plain": [
              "<Figure size 640x480 with 1 Axes>"
            ],
            "image/png": "[encoded data removed]"
          },
          "metadata": {}
        }
      ]
    },
    {
      "cell_type": "code",
      "source": [
        "df.info()"
      ],
      "metadata": {
        "colab": {
          "base_uri": "https://localhost:8080/"
        },
        "id": "_6F6fRSOtx3p",
        "outputId": "e17c6a6a-e5f7-48ba-914d-6674cc92a916"
      },
      "execution_count": 183,
      "outputs": [
        {
          "output_type": "stream",
          "name": "stdout",
          "text": [
            "<class 'pandas.core.frame.DataFrame'>\n",
            "Int64Index: 7032 entries, 0 to 7042\n",
            "Data columns (total 21 columns):\n",
            " #   Column            Non-Null Count  Dtype  \n",
            "---  ------            --------------  -----  \n",
            " 0   customerID        7032 non-null   object \n",
            " 1   gender            7032 non-null   object \n",
            " 2   SeniorCitizen     7032 non-null   int64  \n",
            " 3   Partner           7032 non-null   object \n",
            " 4   Dependents        7032 non-null   object \n",
            " 5   tenure            7032 non-null   int64  \n",
            " 6   PhoneService      7032 non-null   object \n",
            " 7   MultipleLines     7032 non-null   object \n",
            " 8   InternetService   7032 non-null   object \n",
            " 9   OnlineSecurity    7032 non-null   object \n",
            " 10  OnlineBackup      7032 non-null   object \n",
            " 11  DeviceProtection  7032 non-null   object \n",
            " 12  TechSupport       7032 non-null   object \n",
            " 13  StreamingTV       7032 non-null   object \n",
            " 14  StreamingMovies   7032 non-null   object \n",
            " 15  Contract          7032 non-null   object \n",
            " 16  PaperlessBilling  7032 non-null   object \n",
            " 17  PaymentMethod     7032 non-null   object \n",
            " 18  MonthlyCharges    7032 non-null   float64\n",
            " 19  TotalCharges      7032 non-null   float64\n",
            " 20  Churn             7032 non-null   object \n",
            "dtypes: float64(2), int64(2), object(17)\n",
            "memory usage: 1.2+ MB\n"
          ]
        }
      ]
    },
    {
      "cell_type": "code",
      "source": [
        "df_new = pd.get_dummies(df,columns=['gender', 'SeniorCitizen', 'Partner', 'Dependents',\n",
        "       'PhoneService', 'MultipleLines', 'InternetService',\n",
        "       'OnlineSecurity', 'OnlineBackup', 'DeviceProtection', 'TechSupport',\n",
        "       'StreamingTV', 'StreamingMovies', 'Contract', 'PaperlessBilling',\n",
        "       'PaymentMethod'],drop_first=True)"
      ],
      "metadata": {
        "id": "KQLVYaGOiZOF"
      },
      "execution_count": 184,
      "outputs": []
    },
    {
      "cell_type": "code",
      "source": [
        "df_new.head()"
      ],
      "metadata": {
        "colab": {
          "base_uri": "https://localhost:8080/",
          "height": 421
        },
        "id": "47rljtzRuddD",
        "outputId": "b89533db-8f03-484f-a0ef-d4e97cabc92c"
      },
      "execution_count": 185,
      "outputs": [
        {
          "output_type": "execute_result",
          "data": {
            "text/plain": [
              "   customerID  tenure  MonthlyCharges  TotalCharges Churn  gender_Male  \\\n",
              "0  7590-VHVEG       1           29.85         29.85    No            0   \n",
              "1  5575-GNVDE      34           56.95       1889.50    No            1   \n",
              "2  3668-QPYBK       2           53.85        108.15   Yes            1   \n",
              "3  7795-CFOCW      45           42.30       1840.75    No            1   \n",
              "4  9237-HQITU       2           70.70        151.65   Yes            0   \n",
              "\n",
              "   SeniorCitizen_1  Partner_Yes  Dependents_Yes  PhoneService_Yes  ...  \\\n",
              "0                0            1               0                 0  ...   \n",
              "1                0            0               0                 1  ...   \n",
              "2                0            0               0                 1  ...   \n",
              "3                0            0               0                 0  ...   \n",
              "4                0            0               0                 1  ...   \n",
              "\n",
              "   StreamingTV_No internet service  StreamingTV_Yes  \\\n",
              "0                                0                0   \n",
              "1                                0                0   \n",
              "2                                0                0   \n",
              "3                                0                0   \n",
              "4                                0                0   \n",
              "\n",
              "   StreamingMovies_No internet service  StreamingMovies_Yes  \\\n",
              "0                                    0                    0   \n",
              "1                                    0                    0   \n",
              "2                                    0                    0   \n",
              "3                                    0                    0   \n",
              "4                                    0                    0   \n",
              "\n",
              "   Contract_One year  Contract_Two year  PaperlessBilling_Yes  \\\n",
              "0                  0                  0                     1   \n",
              "1                  1                  0                     0   \n",
              "2                  0                  0                     1   \n",
              "3                  1                  0                     0   \n",
              "4                  0                  0                     1   \n",
              "\n",
              "   PaymentMethod_Credit card (automatic)  PaymentMethod_Electronic check  \\\n",
              "0                                      0                               1   \n",
              "1                                      0                               0   \n",
              "2                                      0                               0   \n",
              "3                                      0                               0   \n",
              "4                                      0                               1   \n",
              "\n",
              "   PaymentMethod_Mailed check  \n",
              "0                           0  \n",
              "1                           1  \n",
              "2                           1  \n",
              "3                           0  \n",
              "4                           0  \n",
              "\n",
              "[5 rows x 32 columns]"
            ],
            "text/html": [
              "\n",
              "  <div id=\"df-3f00ee38-9546-44ed-a5cd-4d4734f4d6a6\">\n",
              "    <div class=\"colab-df-container\">\n",
              "      <div>\n",
              "<style scoped>\n",
              "    .dataframe tbody tr th:only-of-type {\n",
              "        vertical-align: middle;\n",
              "    }\n",
              "\n",
              "    .dataframe tbody tr th {\n",
              "        vertical-align: top;\n",
              "    }\n",
              "\n",
              "    .dataframe thead th {\n",
              "        text-align: right;\n",
              "    }\n",
              "</style>\n",
              "<table border=\"1\" class=\"dataframe\">\n",
              "  <thead>\n",
              "    <tr style=\"text-align: right;\">\n",
              "      <th></th>\n",
              "      <th>customerID</th>\n",
              "      <th>tenure</th>\n",
              "      <th>MonthlyCharges</th>\n",
              "      <th>TotalCharges</th>\n",
              "      <th>Churn</th>\n",
              "      <th>gender_Male</th>\n",
              "      <th>SeniorCitizen_1</th>\n",
              "      <th>Partner_Yes</th>\n",
              "      <th>Dependents_Yes</th>\n",
              "      <th>PhoneService_Yes</th>\n",
              "      <th>...</th>\n",
              "      <th>StreamingTV_No internet service</th>\n",
              "      <th>StreamingTV_Yes</th>\n",
              "      <th>StreamingMovies_No internet service</th>\n",
              "      <th>StreamingMovies_Yes</th>\n",
              "      <th>Contract_One year</th>\n",
              "      <th>Contract_Two year</th>\n",
              "      <th>PaperlessBilling_Yes</th>\n",
              "      <th>PaymentMethod_Credit card (automatic)</th>\n",
              "      <th>PaymentMethod_Electronic check</th>\n",
              "      <th>PaymentMethod_Mailed check</th>\n",
              "    </tr>\n",
              "  </thead>\n",
              "  <tbody>\n",
              "    <tr>\n",
              "      <th>0</th>\n",
              "      <td>7590-VHVEG</td>\n",
              "      <td>1</td>\n",
              "      <td>29.85</td>\n",
              "      <td>29.85</td>\n",
              "      <td>No</td>\n",
              "      <td>0</td>\n",
              "      <td>0</td>\n",
              "      <td>1</td>\n",
              "      <td>0</td>\n",
              "      <td>0</td>\n",
              "      <td>...</td>\n",
              "      <td>0</td>\n",
              "      <td>0</td>\n",
              "      <td>0</td>\n",
              "      <td>0</td>\n",
              "      <td>0</td>\n",
              "      <td>0</td>\n",
              "      <td>1</td>\n",
              "      <td>0</td>\n",
              "      <td>1</td>\n",
              "      <td>0</td>\n",
              "    </tr>\n",
              "    <tr>\n",
              "      <th>1</th>\n",
              "      <td>5575-GNVDE</td>\n",
              "      <td>34</td>\n",
              "      <td>56.95</td>\n",
              "      <td>1889.50</td>\n",
              "      <td>No</td>\n",
              "      <td>1</td>\n",
              "      <td>0</td>\n",
              "      <td>0</td>\n",
              "      <td>0</td>\n",
              "      <td>1</td>\n",
              "      <td>...</td>\n",
              "      <td>0</td>\n",
              "      <td>0</td>\n",
              "      <td>0</td>\n",
              "      <td>0</td>\n",
              "      <td>1</td>\n",
              "      <td>0</td>\n",
              "      <td>0</td>\n",
              "      <td>0</td>\n",
              "      <td>0</td>\n",
              "      <td>1</td>\n",
              "    </tr>\n",
              "    <tr>\n",
              "      <th>2</th>\n",
              "      <td>3668-QPYBK</td>\n",
              "      <td>2</td>\n",
              "      <td>53.85</td>\n",
              "      <td>108.15</td>\n",
              "      <td>Yes</td>\n",
              "      <td>1</td>\n",
              "      <td>0</td>\n",
              "      <td>0</td>\n",
              "      <td>0</td>\n",
              "      <td>1</td>\n",
              "      <td>...</td>\n",
              "      <td>0</td>\n",
              "      <td>0</td>\n",
              "      <td>0</td>\n",
              "      <td>0</td>\n",
              "      <td>0</td>\n",
              "      <td>0</td>\n",
              "      <td>1</td>\n",
              "      <td>0</td>\n",
              "      <td>0</td>\n",
              "      <td>1</td>\n",
              "    </tr>\n",
              "    <tr>\n",
              "      <th>3</th>\n",
              "      <td>7795-CFOCW</td>\n",
              "      <td>45</td>\n",
              "      <td>42.30</td>\n",
              "      <td>1840.75</td>\n",
              "      <td>No</td>\n",
              "      <td>1</td>\n",
              "      <td>0</td>\n",
              "      <td>0</td>\n",
              "      <td>0</td>\n",
              "      <td>0</td>\n",
              "      <td>...</td>\n",
              "      <td>0</td>\n",
              "      <td>0</td>\n",
              "      <td>0</td>\n",
              "      <td>0</td>\n",
              "      <td>1</td>\n",
              "      <td>0</td>\n",
              "      <td>0</td>\n",
              "      <td>0</td>\n",
              "      <td>0</td>\n",
              "      <td>0</td>\n",
              "    </tr>\n",
              "    <tr>\n",
              "      <th>4</th>\n",
              "      <td>9237-HQITU</td>\n",
              "      <td>2</td>\n",
              "      <td>70.70</td>\n",
              "      <td>151.65</td>\n",
              "      <td>Yes</td>\n",
              "      <td>0</td>\n",
              "      <td>0</td>\n",
              "      <td>0</td>\n",
              "      <td>0</td>\n",
              "      <td>1</td>\n",
              "      <td>...</td>\n",
              "      <td>0</td>\n",
              "      <td>0</td>\n",
              "      <td>0</td>\n",
              "      <td>0</td>\n",
              "      <td>0</td>\n",
              "      <td>0</td>\n",
              "      <td>1</td>\n",
              "      <td>0</td>\n",
              "      <td>1</td>\n",
              "      <td>0</td>\n",
              "    </tr>\n",
              "  </tbody>\n",
              "</table>\n",
              "<p>5 rows × 32 columns</p>\n",
              "</div>\n",
              "      <button class=\"colab-df-convert\" onclick=\"convertToInteractive('df-3f00ee38-9546-44ed-a5cd-4d4734f4d6a6')\"\n",
              "              title=\"Convert this dataframe to an interactive table.\"\n",
              "              style=\"display:none;\">\n",
              "        \n",
              "  <svg xmlns=\"http://www.w3.org/2000/svg\" height=\"24px\"viewBox=\"0 0 24 24\"\n",
              "       width=\"24px\">\n",
              "    <path d=\"M0 0h24v24H0V0z\" fill=\"none\"/>\n",
              "    <path d=\"M18.56 5.44l.94 2.06.94-2.06 2.06-.94-2.06-.94-.94-2.06-.94 2.06-2.06.94zm-11 1L8.5 8.5l.94-2.06 2.06-.94-2.06-.94L8.5 2.5l-.94 2.06-2.06.94zm10 10l.94 2.06.94-2.06 2.06-.94-2.06-.94-.94-2.06-.94 2.06-2.06.94z\"/><path d=\"M17.41 7.96l-1.37-1.37c-.4-.4-.92-.59-1.43-.59-.52 0-1.04.2-1.43.59L10.3 9.45l-7.72 7.72c-.78.78-.78 2.05 0 2.83L4 21.41c.39.39.9.59 1.41.59.51 0 1.02-.2 1.41-.59l7.78-7.78 2.81-2.81c.8-.78.8-2.07 0-2.86zM5.41 20L4 18.59l7.72-7.72 1.47 1.35L5.41 20z\"/>\n",
              "  </svg>\n",
              "      </button>\n",
              "      \n",
              "  <style>\n",
              "    .colab-df-container {\n",
              "      display:flex;\n",
              "      flex-wrap:wrap;\n",
              "      gap: 12px;\n",
              "    }\n",
              "\n",
              "    .colab-df-convert {\n",
              "      background-color: #E8F0FE;\n",
              "      border: none;\n",
              "      border-radius: 50%;\n",
              "      cursor: pointer;\n",
              "      display: none;\n",
              "      fill: #1967D2;\n",
              "      height: 32px;\n",
              "      padding: 0 0 0 0;\n",
              "      width: 32px;\n",
              "    }\n",
              "\n",
              "    .colab-df-convert:hover {\n",
              "      background-color: #E2EBFA;\n",
              "      box-shadow: 0px 1px 2px rgba(60, 64, 67, 0.3), 0px 1px 3px 1px rgba(60, 64, 67, 0.15);\n",
              "      fill: #174EA6;\n",
              "    }\n",
              "\n",
              "    [theme=dark] .colab-df-convert {\n",
              "      background-color: #3B4455;\n",
              "      fill: #D2E3FC;\n",
              "    }\n",
              "\n",
              "    [theme=dark] .colab-df-convert:hover {\n",
              "      background-color: #434B5C;\n",
              "      box-shadow: 0px 1px 3px 1px rgba(0, 0, 0, 0.15);\n",
              "      filter: drop-shadow(0px 1px 2px rgba(0, 0, 0, 0.3));\n",
              "      fill: #FFFFFF;\n",
              "    }\n",
              "  </style>\n",
              "\n",
              "      <script>\n",
              "        const buttonEl =\n",
              "          document.querySelector('#df-3f00ee38-9546-44ed-a5cd-4d4734f4d6a6 button.colab-df-convert');\n",
              "        buttonEl.style.display =\n",
              "          google.colab.kernel.accessAllowed ? 'block' : 'none';\n",
              "\n",
              "        async function convertToInteractive(key) {\n",
              "          const element = document.querySelector('#df-3f00ee38-9546-44ed-a5cd-4d4734f4d6a6');\n",
              "          const dataTable =\n",
              "            await google.colab.kernel.invokeFunction('convertToInteractive',\n",
              "                                                     [key], {});\n",
              "          if (!dataTable) return;\n",
              "\n",
              "          const docLinkHtml = 'Like what you see? Visit the ' +\n",
              "            '<a target=\"_blank\" href=https://colab.research.google.com/notebooks/data_table.ipynb>data table notebook</a>'\n",
              "            + ' to learn more about interactive tables.';\n",
              "          element.innerHTML = '';\n",
              "          dataTable['output_type'] = 'display_data';\n",
              "          await google.colab.output.renderOutput(dataTable, element);\n",
              "          const docLink = document.createElement('div');\n",
              "          docLink.innerHTML = docLinkHtml;\n",
              "          element.appendChild(docLink);\n",
              "        }\n",
              "      </script>\n",
              "    </div>\n",
              "  </div>\n",
              "  "
            ]
          },
          "metadata": {},
          "execution_count": 185
        }
      ]
    },
    {
      "cell_type": "code",
      "source": [
        "df_x = df_new.drop(columns = ['customerID', 'Churn'])\n",
        "df_x.head()"
      ],
      "metadata": {
        "colab": {
          "base_uri": "https://localhost:8080/",
          "height": 334
        },
        "id": "QmpCvDvsujDA",
        "outputId": "b7faf081-5a24-4696-a5cf-12f423cd2ef0"
      },
      "execution_count": 186,
      "outputs": [
        {
          "output_type": "execute_result",
          "data": {
            "text/plain": [
              "   tenure  MonthlyCharges  TotalCharges  gender_Male  SeniorCitizen_1  \\\n",
              "0       1           29.85         29.85            0                0   \n",
              "1      34           56.95       1889.50            1                0   \n",
              "2       2           53.85        108.15            1                0   \n",
              "3      45           42.30       1840.75            1                0   \n",
              "4       2           70.70        151.65            0                0   \n",
              "\n",
              "   Partner_Yes  Dependents_Yes  PhoneService_Yes  \\\n",
              "0            1               0                 0   \n",
              "1            0               0                 1   \n",
              "2            0               0                 1   \n",
              "3            0               0                 0   \n",
              "4            0               0                 1   \n",
              "\n",
              "   MultipleLines_No phone service  MultipleLines_Yes  ...  \\\n",
              "0                               1                  0  ...   \n",
              "1                               0                  0  ...   \n",
              "2                               0                  0  ...   \n",
              "3                               1                  0  ...   \n",
              "4                               0                  0  ...   \n",
              "\n",
              "   StreamingTV_No internet service  StreamingTV_Yes  \\\n",
              "0                                0                0   \n",
              "1                                0                0   \n",
              "2                                0                0   \n",
              "3                                0                0   \n",
              "4                                0                0   \n",
              "\n",
              "   StreamingMovies_No internet service  StreamingMovies_Yes  \\\n",
              "0                                    0                    0   \n",
              "1                                    0                    0   \n",
              "2                                    0                    0   \n",
              "3                                    0                    0   \n",
              "4                                    0                    0   \n",
              "\n",
              "   Contract_One year  Contract_Two year  PaperlessBilling_Yes  \\\n",
              "0                  0                  0                     1   \n",
              "1                  1                  0                     0   \n",
              "2                  0                  0                     1   \n",
              "3                  1                  0                     0   \n",
              "4                  0                  0                     1   \n",
              "\n",
              "   PaymentMethod_Credit card (automatic)  PaymentMethod_Electronic check  \\\n",
              "0                                      0                               1   \n",
              "1                                      0                               0   \n",
              "2                                      0                               0   \n",
              "3                                      0                               0   \n",
              "4                                      0                               1   \n",
              "\n",
              "   PaymentMethod_Mailed check  \n",
              "0                           0  \n",
              "1                           1  \n",
              "2                           1  \n",
              "3                           0  \n",
              "4                           0  \n",
              "\n",
              "[5 rows x 30 columns]"
            ],
            "text/html": [
              "\n",
              "  <div id=\"df-5a4659fb-3c3f-40b5-9b3e-b20ec1f3c240\">\n",
              "    <div class=\"colab-df-container\">\n",
              "      <div>\n",
              "<style scoped>\n",
              "    .dataframe tbody tr th:only-of-type {\n",
              "        vertical-align: middle;\n",
              "    }\n",
              "\n",
              "    .dataframe tbody tr th {\n",
              "        vertical-align: top;\n",
              "    }\n",
              "\n",
              "    .dataframe thead th {\n",
              "        text-align: right;\n",
              "    }\n",
              "</style>\n",
              "<table border=\"1\" class=\"dataframe\">\n",
              "  <thead>\n",
              "    <tr style=\"text-align: right;\">\n",
              "      <th></th>\n",
              "      <th>tenure</th>\n",
              "      <th>MonthlyCharges</th>\n",
              "      <th>TotalCharges</th>\n",
              "      <th>gender_Male</th>\n",
              "      <th>SeniorCitizen_1</th>\n",
              "      <th>Partner_Yes</th>\n",
              "      <th>Dependents_Yes</th>\n",
              "      <th>PhoneService_Yes</th>\n",
              "      <th>MultipleLines_No phone service</th>\n",
              "      <th>MultipleLines_Yes</th>\n",
              "      <th>...</th>\n",
              "      <th>StreamingTV_No internet service</th>\n",
              "      <th>StreamingTV_Yes</th>\n",
              "      <th>StreamingMovies_No internet service</th>\n",
              "      <th>StreamingMovies_Yes</th>\n",
              "      <th>Contract_One year</th>\n",
              "      <th>Contract_Two year</th>\n",
              "      <th>PaperlessBilling_Yes</th>\n",
              "      <th>PaymentMethod_Credit card (automatic)</th>\n",
              "      <th>PaymentMethod_Electronic check</th>\n",
              "      <th>PaymentMethod_Mailed check</th>\n",
              "    </tr>\n",
              "  </thead>\n",
              "  <tbody>\n",
              "    <tr>\n",
              "      <th>0</th>\n",
              "      <td>1</td>\n",
              "      <td>29.85</td>\n",
              "      <td>29.85</td>\n",
              "      <td>0</td>\n",
              "      <td>0</td>\n",
              "      <td>1</td>\n",
              "      <td>0</td>\n",
              "      <td>0</td>\n",
              "      <td>1</td>\n",
              "      <td>0</td>\n",
              "      <td>...</td>\n",
              "      <td>0</td>\n",
              "      <td>0</td>\n",
              "      <td>0</td>\n",
              "      <td>0</td>\n",
              "      <td>0</td>\n",
              "      <td>0</td>\n",
              "      <td>1</td>\n",
              "      <td>0</td>\n",
              "      <td>1</td>\n",
              "      <td>0</td>\n",
              "    </tr>\n",
              "    <tr>\n",
              "      <th>1</th>\n",
              "      <td>34</td>\n",
              "      <td>56.95</td>\n",
              "      <td>1889.50</td>\n",
              "      <td>1</td>\n",
              "      <td>0</td>\n",
              "      <td>0</td>\n",
              "      <td>0</td>\n",
              "      <td>1</td>\n",
              "      <td>0</td>\n",
              "      <td>0</td>\n",
              "      <td>...</td>\n",
              "      <td>0</td>\n",
              "      <td>0</td>\n",
              "      <td>0</td>\n",
              "      <td>0</td>\n",
              "      <td>1</td>\n",
              "      <td>0</td>\n",
              "      <td>0</td>\n",
              "      <td>0</td>\n",
              "      <td>0</td>\n",
              "      <td>1</td>\n",
              "    </tr>\n",
              "    <tr>\n",
              "      <th>2</th>\n",
              "      <td>2</td>\n",
              "      <td>53.85</td>\n",
              "      <td>108.15</td>\n",
              "      <td>1</td>\n",
              "      <td>0</td>\n",
              "      <td>0</td>\n",
              "      <td>0</td>\n",
              "      <td>1</td>\n",
              "      <td>0</td>\n",
              "      <td>0</td>\n",
              "      <td>...</td>\n",
              "      <td>0</td>\n",
              "      <td>0</td>\n",
              "      <td>0</td>\n",
              "      <td>0</td>\n",
              "      <td>0</td>\n",
              "      <td>0</td>\n",
              "      <td>1</td>\n",
              "      <td>0</td>\n",
              "      <td>0</td>\n",
              "      <td>1</td>\n",
              "    </tr>\n",
              "    <tr>\n",
              "      <th>3</th>\n",
              "      <td>45</td>\n",
              "      <td>42.30</td>\n",
              "      <td>1840.75</td>\n",
              "      <td>1</td>\n",
              "      <td>0</td>\n",
              "      <td>0</td>\n",
              "      <td>0</td>\n",
              "      <td>0</td>\n",
              "      <td>1</td>\n",
              "      <td>0</td>\n",
              "      <td>...</td>\n",
              "      <td>0</td>\n",
              "      <td>0</td>\n",
              "      <td>0</td>\n",
              "      <td>0</td>\n",
              "      <td>1</td>\n",
              "      <td>0</td>\n",
              "      <td>0</td>\n",
              "      <td>0</td>\n",
              "      <td>0</td>\n",
              "      <td>0</td>\n",
              "    </tr>\n",
              "    <tr>\n",
              "      <th>4</th>\n",
              "      <td>2</td>\n",
              "      <td>70.70</td>\n",
              "      <td>151.65</td>\n",
              "      <td>0</td>\n",
              "      <td>0</td>\n",
              "      <td>0</td>\n",
              "      <td>0</td>\n",
              "      <td>1</td>\n",
              "      <td>0</td>\n",
              "      <td>0</td>\n",
              "      <td>...</td>\n",
              "      <td>0</td>\n",
              "      <td>0</td>\n",
              "      <td>0</td>\n",
              "      <td>0</td>\n",
              "      <td>0</td>\n",
              "      <td>0</td>\n",
              "      <td>1</td>\n",
              "      <td>0</td>\n",
              "      <td>1</td>\n",
              "      <td>0</td>\n",
              "    </tr>\n",
              "  </tbody>\n",
              "</table>\n",
              "<p>5 rows × 30 columns</p>\n",
              "</div>\n",
              "      <button class=\"colab-df-convert\" onclick=\"convertToInteractive('df-5a4659fb-3c3f-40b5-9b3e-b20ec1f3c240')\"\n",
              "              title=\"Convert this dataframe to an interactive table.\"\n",
              "              style=\"display:none;\">\n",
              "        \n",
              "  <svg xmlns=\"http://www.w3.org/2000/svg\" height=\"24px\"viewBox=\"0 0 24 24\"\n",
              "       width=\"24px\">\n",
              "    <path d=\"M0 0h24v24H0V0z\" fill=\"none\"/>\n",
              "    <path d=\"M18.56 5.44l.94 2.06.94-2.06 2.06-.94-2.06-.94-.94-2.06-.94 2.06-2.06.94zm-11 1L8.5 8.5l.94-2.06 2.06-.94-2.06-.94L8.5 2.5l-.94 2.06-2.06.94zm10 10l.94 2.06.94-2.06 2.06-.94-2.06-.94-.94-2.06-.94 2.06-2.06.94z\"/><path d=\"M17.41 7.96l-1.37-1.37c-.4-.4-.92-.59-1.43-.59-.52 0-1.04.2-1.43.59L10.3 9.45l-7.72 7.72c-.78.78-.78 2.05 0 2.83L4 21.41c.39.39.9.59 1.41.59.51 0 1.02-.2 1.41-.59l7.78-7.78 2.81-2.81c.8-.78.8-2.07 0-2.86zM5.41 20L4 18.59l7.72-7.72 1.47 1.35L5.41 20z\"/>\n",
              "  </svg>\n",
              "      </button>\n",
              "      \n",
              "  <style>\n",
              "    .colab-df-container {\n",
              "      display:flex;\n",
              "      flex-wrap:wrap;\n",
              "      gap: 12px;\n",
              "    }\n",
              "\n",
              "    .colab-df-convert {\n",
              "      background-color: #E8F0FE;\n",
              "      border: none;\n",
              "      border-radius: 50%;\n",
              "      cursor: pointer;\n",
              "      display: none;\n",
              "      fill: #1967D2;\n",
              "      height: 32px;\n",
              "      padding: 0 0 0 0;\n",
              "      width: 32px;\n",
              "    }\n",
              "\n",
              "    .colab-df-convert:hover {\n",
              "      background-color: #E2EBFA;\n",
              "      box-shadow: 0px 1px 2px rgba(60, 64, 67, 0.3), 0px 1px 3px 1px rgba(60, 64, 67, 0.15);\n",
              "      fill: #174EA6;\n",
              "    }\n",
              "\n",
              "    [theme=dark] .colab-df-convert {\n",
              "      background-color: #3B4455;\n",
              "      fill: #D2E3FC;\n",
              "    }\n",
              "\n",
              "    [theme=dark] .colab-df-convert:hover {\n",
              "      background-color: #434B5C;\n",
              "      box-shadow: 0px 1px 3px 1px rgba(0, 0, 0, 0.15);\n",
              "      filter: drop-shadow(0px 1px 2px rgba(0, 0, 0, 0.3));\n",
              "      fill: #FFFFFF;\n",
              "    }\n",
              "  </style>\n",
              "\n",
              "      <script>\n",
              "        const buttonEl =\n",
              "          document.querySelector('#df-5a4659fb-3c3f-40b5-9b3e-b20ec1f3c240 button.colab-df-convert');\n",
              "        buttonEl.style.display =\n",
              "          google.colab.kernel.accessAllowed ? 'block' : 'none';\n",
              "\n",
              "        async function convertToInteractive(key) {\n",
              "          const element = document.querySelector('#df-5a4659fb-3c3f-40b5-9b3e-b20ec1f3c240');\n",
              "          const dataTable =\n",
              "            await google.colab.kernel.invokeFunction('convertToInteractive',\n",
              "                                                     [key], {});\n",
              "          if (!dataTable) return;\n",
              "\n",
              "          const docLinkHtml = 'Like what you see? Visit the ' +\n",
              "            '<a target=\"_blank\" href=https://colab.research.google.com/notebooks/data_table.ipynb>data table notebook</a>'\n",
              "            + ' to learn more about interactive tables.';\n",
              "          element.innerHTML = '';\n",
              "          dataTable['output_type'] = 'display_data';\n",
              "          await google.colab.output.renderOutput(dataTable, element);\n",
              "          const docLink = document.createElement('div');\n",
              "          docLink.innerHTML = docLinkHtml;\n",
              "          element.appendChild(docLink);\n",
              "        }\n",
              "      </script>\n",
              "    </div>\n",
              "  </div>\n",
              "  "
            ]
          },
          "metadata": {},
          "execution_count": 186
        }
      ]
    },
    {
      "cell_type": "code",
      "source": [
        "df_y =  df_new['Churn']\n",
        "df_y"
      ],
      "metadata": {
        "colab": {
          "base_uri": "https://localhost:8080/"
        },
        "id": "vuKAloAIu1TL",
        "outputId": "d822f3d6-0b61-4430-99e2-839e89073a79"
      },
      "execution_count": 187,
      "outputs": [
        {
          "output_type": "execute_result",
          "data": {
            "text/plain": [
              "0        No\n",
              "1        No\n",
              "2       Yes\n",
              "3        No\n",
              "4       Yes\n",
              "       ... \n",
              "7038     No\n",
              "7039     No\n",
              "7040     No\n",
              "7041    Yes\n",
              "7042     No\n",
              "Name: Churn, Length: 7032, dtype: object"
            ]
          },
          "metadata": {},
          "execution_count": 187
        }
      ]
    },
    {
      "cell_type": "code",
      "source": [
        "from sklearn.preprocessing import LabelEncoder\n",
        "le = LabelEncoder()\n",
        "df_y = le.fit_transform(df_y)"
      ],
      "metadata": {
        "id": "H9ray5kPu9xR"
      },
      "execution_count": 188,
      "outputs": []
    },
    {
      "cell_type": "code",
      "source": [
        "df_y"
      ],
      "metadata": {
        "id": "ps25Enyyv345",
        "outputId": "0ffd4d7b-147b-4ab2-c828-a7a3431c43d1",
        "colab": {
          "base_uri": "https://localhost:8080/"
        }
      },
      "execution_count": 189,
      "outputs": [
        {
          "output_type": "execute_result",
          "data": {
            "text/plain": [
              "array([0, 0, 1, ..., 0, 1, 0])"
            ]
          },
          "metadata": {},
          "execution_count": 189
        }
      ]
    },
    {
      "cell_type": "code",
      "source": [
        "from imblearn.combine import SMOTETomek\n",
        "# # Implementing Oversampling for Handling Imbalanced \n",
        "smt = SMOTETomek(random_state=42)\n",
        "x, y = smt.fit_resample(df_x,df_y)"
      ],
      "metadata": {
        "id": "pk0r9pGYv6Cl"
      },
      "execution_count": 190,
      "outputs": []
    },
    {
      "cell_type": "code",
      "source": [
        "x.shape"
      ],
      "metadata": {
        "colab": {
          "base_uri": "https://localhost:8080/"
        },
        "id": "CbalDC6H6qeS",
        "outputId": "7f0b6013-808d-4042-e2c2-7efcd3236fa2"
      },
      "execution_count": 191,
      "outputs": [
        {
          "output_type": "execute_result",
          "data": {
            "text/plain": [
              "(9484, 30)"
            ]
          },
          "metadata": {},
          "execution_count": 191
        }
      ]
    },
    {
      "cell_type": "code",
      "source": [
        "y.shape"
      ],
      "metadata": {
        "colab": {
          "base_uri": "https://localhost:8080/"
        },
        "id": "gc2eP7Kz6r4K",
        "outputId": "4375f2f5-40b7-4322-8bfc-99ecbf32b17e"
      },
      "execution_count": 192,
      "outputs": [
        {
          "output_type": "execute_result",
          "data": {
            "text/plain": [
              "(9484,)"
            ]
          },
          "metadata": {},
          "execution_count": 192
        }
      ]
    },
    {
      "cell_type": "code",
      "source": [
        "from sklearn.model_selection import train_test_split\n",
        "x_train, x_test, y_train, y_test = train_test_split(x, y, random_state = 21, test_size = 0.3)"
      ],
      "metadata": {
        "id": "eZsge9m56uVI"
      },
      "execution_count": 193,
      "outputs": []
    },
    {
      "cell_type": "code",
      "source": [
        "x_train.shape, y_train.shape"
      ],
      "metadata": {
        "colab": {
          "base_uri": "https://localhost:8080/"
        },
        "id": "j7ejjksE7NMy",
        "outputId": "56b1caa9-9b92-4cc9-d152-3dbaa27744bc"
      },
      "execution_count": 194,
      "outputs": [
        {
          "output_type": "execute_result",
          "data": {
            "text/plain": [
              "((6638, 30), (6638,))"
            ]
          },
          "metadata": {},
          "execution_count": 194
        }
      ]
    },
    {
      "cell_type": "code",
      "source": [
        "x_test.shape, y_test.shape"
      ],
      "metadata": {
        "colab": {
          "base_uri": "https://localhost:8080/"
        },
        "id": "372KCDLK7SxC",
        "outputId": "91d77f4b-e439-4ed1-ccba-9002804865cc"
      },
      "execution_count": 195,
      "outputs": [
        {
          "output_type": "execute_result",
          "data": {
            "text/plain": [
              "((2846, 30), (2846,))"
            ]
          },
          "metadata": {},
          "execution_count": 195
        }
      ]
    },
    {
      "cell_type": "code",
      "source": [
        "import tensorflow\n",
        "from tensorflow import keras\n",
        "from tensorflow.keras import Sequential\n",
        "from tensorflow.keras.layers import Dense"
      ],
      "metadata": {
        "id": "dvAWQYIp7XOY"
      },
      "execution_count": 196,
      "outputs": []
    },
    {
      "cell_type": "code",
      "source": [
        "model = Sequential()\n",
        "model.add(Dense(30,activation='relu',input_dim=30))\n",
        "model.add(Dense(1,activation='sigmoid'))"
      ],
      "metadata": {
        "id": "suR_Kcr-7xJm"
      },
      "execution_count": 197,
      "outputs": []
    },
    {
      "cell_type": "code",
      "source": [
        "model.summary()"
      ],
      "metadata": {
        "colab": {
          "base_uri": "https://localhost:8080/"
        },
        "id": "mlgZXe0v70fE",
        "outputId": "be62f06e-8cb5-40e5-a31f-50fea791c386"
      },
      "execution_count": 198,
      "outputs": [
        {
          "output_type": "stream",
          "name": "stdout",
          "text": [
            "Model: \"sequential_4\"\n",
            "_________________________________________________________________\n",
            " Layer (type)                Output Shape              Param #   \n",
            "=================================================================\n",
            " dense_8 (Dense)             (None, 30)                930       \n",
            "                                                                 \n",
            " dense_9 (Dense)             (None, 1)                 31        \n",
            "                                                                 \n",
            "=================================================================\n",
            "Total params: 961\n",
            "Trainable params: 961\n",
            "Non-trainable params: 0\n",
            "_________________________________________________________________\n"
          ]
        }
      ]
    },
    {
      "cell_type": "code",
      "source": [
        "model.compile(optimizer='Adam',loss='binary_crossentropy',metrics=['accuracy'])"
      ],
      "metadata": {
        "id": "xpdKlRcd8LQx"
      },
      "execution_count": 199,
      "outputs": []
    },
    {
      "cell_type": "code",
      "source": [
        "history = model.fit(x_train,y_train,batch_size=50,epochs=50, verbose=1,validation_split=0.2)"
      ],
      "metadata": {
        "colab": {
          "base_uri": "https://localhost:8080/"
        },
        "id": "VNRKSMib8Qq8",
        "outputId": "efca54ed-7317-4878-92da-18f9ddd37354"
      },
      "execution_count": 200,
      "outputs": [
        {
          "output_type": "stream",
          "name": "stdout",
          "text": [
            "Epoch 1/50\n",
            "107/107 [==============================] - 1s 4ms/step - loss: 64.7040 - accuracy: 0.5655 - val_loss: 1.9318 - val_accuracy: 0.5008\n",
            "Epoch 2/50\n",
            "107/107 [==============================] - 0s 3ms/step - loss: 0.8056 - accuracy: 0.7303 - val_loss: 0.4760 - val_accuracy: 0.7764\n",
            "Epoch 3/50\n",
            "107/107 [==============================] - 0s 3ms/step - loss: 0.7144 - accuracy: 0.7416 - val_loss: 0.5633 - val_accuracy: 0.7681\n",
            "Epoch 4/50\n",
            "107/107 [==============================] - 0s 3ms/step - loss: 0.5948 - accuracy: 0.7680 - val_loss: 0.4073 - val_accuracy: 0.8110\n",
            "Epoch 5/50\n",
            "107/107 [==============================] - 0s 3ms/step - loss: 0.5599 - accuracy: 0.7772 - val_loss: 0.5844 - val_accuracy: 0.7417\n",
            "Epoch 6/50\n",
            "107/107 [==============================] - 0s 3ms/step - loss: 0.4796 - accuracy: 0.7898 - val_loss: 0.4312 - val_accuracy: 0.8057\n",
            "Epoch 7/50\n",
            "107/107 [==============================] - 0s 3ms/step - loss: 0.5250 - accuracy: 0.7857 - val_loss: 0.3924 - val_accuracy: 0.8245\n",
            "Epoch 8/50\n",
            "107/107 [==============================] - 0s 3ms/step - loss: 0.5348 - accuracy: 0.7849 - val_loss: 0.9645 - val_accuracy: 0.7372\n",
            "Epoch 9/50\n",
            "107/107 [==============================] - 0s 3ms/step - loss: 0.9692 - accuracy: 0.7514 - val_loss: 0.3770 - val_accuracy: 0.8306\n",
            "Epoch 10/50\n",
            "107/107 [==============================] - 0s 3ms/step - loss: 0.4945 - accuracy: 0.7983 - val_loss: 0.5736 - val_accuracy: 0.7944\n",
            "Epoch 11/50\n",
            "107/107 [==============================] - 0s 3ms/step - loss: 0.4583 - accuracy: 0.8056 - val_loss: 0.6358 - val_accuracy: 0.7696\n",
            "Epoch 12/50\n",
            "107/107 [==============================] - 0s 3ms/step - loss: 0.5340 - accuracy: 0.7955 - val_loss: 0.5904 - val_accuracy: 0.7643\n",
            "Epoch 13/50\n",
            "107/107 [==============================] - 0s 3ms/step - loss: 0.5069 - accuracy: 0.8040 - val_loss: 0.4499 - val_accuracy: 0.7929\n",
            "Epoch 14/50\n",
            "107/107 [==============================] - 0s 3ms/step - loss: 0.4357 - accuracy: 0.8137 - val_loss: 0.3487 - val_accuracy: 0.8464\n",
            "Epoch 15/50\n",
            "107/107 [==============================] - 0s 3ms/step - loss: 0.4979 - accuracy: 0.7992 - val_loss: 0.4109 - val_accuracy: 0.8245\n",
            "Epoch 16/50\n",
            "107/107 [==============================] - 0s 3ms/step - loss: 0.4435 - accuracy: 0.8171 - val_loss: 0.3460 - val_accuracy: 0.8486\n",
            "Epoch 17/50\n",
            "107/107 [==============================] - 0s 3ms/step - loss: 0.5213 - accuracy: 0.8053 - val_loss: 0.4565 - val_accuracy: 0.8163\n",
            "Epoch 18/50\n",
            "107/107 [==============================] - 0s 3ms/step - loss: 0.7605 - accuracy: 0.7810 - val_loss: 0.4449 - val_accuracy: 0.8020\n",
            "Epoch 19/50\n",
            "107/107 [==============================] - 0s 3ms/step - loss: 0.4297 - accuracy: 0.8196 - val_loss: 0.3455 - val_accuracy: 0.8471\n",
            "Epoch 20/50\n",
            "107/107 [==============================] - 0s 4ms/step - loss: 0.4402 - accuracy: 0.8181 - val_loss: 0.3467 - val_accuracy: 0.8366\n",
            "Epoch 21/50\n",
            "107/107 [==============================] - 0s 4ms/step - loss: 0.4015 - accuracy: 0.8273 - val_loss: 0.4962 - val_accuracy: 0.7839\n",
            "Epoch 22/50\n",
            "107/107 [==============================] - 0s 4ms/step - loss: 0.4426 - accuracy: 0.8145 - val_loss: 0.5649 - val_accuracy: 0.7869\n",
            "Epoch 23/50\n",
            "107/107 [==============================] - 0s 4ms/step - loss: 0.7054 - accuracy: 0.7881 - val_loss: 1.0387 - val_accuracy: 0.7161\n",
            "Epoch 24/50\n",
            "107/107 [==============================] - 0s 3ms/step - loss: 0.6341 - accuracy: 0.7938 - val_loss: 0.3524 - val_accuracy: 0.8449\n",
            "Epoch 25/50\n",
            "107/107 [==============================] - 0s 4ms/step - loss: 0.5325 - accuracy: 0.8124 - val_loss: 1.1800 - val_accuracy: 0.7048\n",
            "Epoch 26/50\n",
            "107/107 [==============================] - 0s 3ms/step - loss: 0.4892 - accuracy: 0.8132 - val_loss: 0.3671 - val_accuracy: 0.8456\n",
            "Epoch 27/50\n",
            "107/107 [==============================] - 0s 3ms/step - loss: 0.4878 - accuracy: 0.8169 - val_loss: 1.3645 - val_accuracy: 0.6883\n",
            "Epoch 28/50\n",
            "107/107 [==============================] - 0s 3ms/step - loss: 0.7299 - accuracy: 0.7887 - val_loss: 0.9019 - val_accuracy: 0.7425\n",
            "Epoch 29/50\n",
            "107/107 [==============================] - 0s 3ms/step - loss: 0.5397 - accuracy: 0.8043 - val_loss: 0.7092 - val_accuracy: 0.7598\n",
            "Epoch 30/50\n",
            "107/107 [==============================] - 0s 3ms/step - loss: 0.5396 - accuracy: 0.8126 - val_loss: 0.4093 - val_accuracy: 0.8148\n",
            "Epoch 31/50\n",
            "107/107 [==============================] - 0s 3ms/step - loss: 0.4707 - accuracy: 0.8160 - val_loss: 0.6289 - val_accuracy: 0.7711\n",
            "Epoch 32/50\n",
            "107/107 [==============================] - 0s 3ms/step - loss: 0.5889 - accuracy: 0.8098 - val_loss: 0.4370 - val_accuracy: 0.8200\n",
            "Epoch 33/50\n",
            "107/107 [==============================] - 0s 3ms/step - loss: 0.4488 - accuracy: 0.8192 - val_loss: 0.3472 - val_accuracy: 0.8502\n",
            "Epoch 34/50\n",
            "107/107 [==============================] - 0s 3ms/step - loss: 0.4447 - accuracy: 0.8215 - val_loss: 0.3958 - val_accuracy: 0.8178\n",
            "Epoch 35/50\n",
            "107/107 [==============================] - 0s 3ms/step - loss: 0.4112 - accuracy: 0.8266 - val_loss: 0.3780 - val_accuracy: 0.8434\n",
            "Epoch 36/50\n",
            "107/107 [==============================] - 0s 3ms/step - loss: 0.6789 - accuracy: 0.7898 - val_loss: 0.5090 - val_accuracy: 0.8133\n",
            "Epoch 37/50\n",
            "107/107 [==============================] - 0s 3ms/step - loss: 0.4252 - accuracy: 0.8267 - val_loss: 0.4052 - val_accuracy: 0.8336\n",
            "Epoch 38/50\n",
            "107/107 [==============================] - 0s 3ms/step - loss: 0.4558 - accuracy: 0.8198 - val_loss: 0.4379 - val_accuracy: 0.8215\n",
            "Epoch 39/50\n",
            "107/107 [==============================] - 0s 2ms/step - loss: 0.6239 - accuracy: 0.7962 - val_loss: 0.4274 - val_accuracy: 0.8291\n",
            "Epoch 40/50\n",
            "107/107 [==============================] - 0s 3ms/step - loss: 0.4825 - accuracy: 0.8202 - val_loss: 0.4133 - val_accuracy: 0.8193\n",
            "Epoch 41/50\n",
            "107/107 [==============================] - 0s 3ms/step - loss: 0.4847 - accuracy: 0.8151 - val_loss: 0.5089 - val_accuracy: 0.7967\n",
            "Epoch 42/50\n",
            "107/107 [==============================] - 0s 3ms/step - loss: 0.5100 - accuracy: 0.8124 - val_loss: 0.3610 - val_accuracy: 0.8336\n",
            "Epoch 43/50\n",
            "107/107 [==============================] - 0s 3ms/step - loss: 0.4059 - accuracy: 0.8277 - val_loss: 0.5758 - val_accuracy: 0.7831\n",
            "Epoch 44/50\n",
            "107/107 [==============================] - 0s 3ms/step - loss: 0.4967 - accuracy: 0.8111 - val_loss: 1.2160 - val_accuracy: 0.7056\n",
            "Epoch 45/50\n",
            "107/107 [==============================] - 0s 3ms/step - loss: 0.5729 - accuracy: 0.8154 - val_loss: 0.3413 - val_accuracy: 0.8532\n",
            "Epoch 46/50\n",
            "107/107 [==============================] - 0s 3ms/step - loss: 0.4422 - accuracy: 0.8215 - val_loss: 0.4946 - val_accuracy: 0.8117\n",
            "Epoch 47/50\n",
            "107/107 [==============================] - 0s 3ms/step - loss: 0.4857 - accuracy: 0.8113 - val_loss: 0.3495 - val_accuracy: 0.8396\n",
            "Epoch 48/50\n",
            "107/107 [==============================] - 0s 3ms/step - loss: 0.4534 - accuracy: 0.8215 - val_loss: 0.8696 - val_accuracy: 0.7666\n",
            "Epoch 49/50\n",
            "107/107 [==============================] - 0s 2ms/step - loss: 0.5849 - accuracy: 0.8096 - val_loss: 0.7132 - val_accuracy: 0.7673\n",
            "Epoch 50/50\n",
            "107/107 [==============================] - 0s 3ms/step - loss: 0.6841 - accuracy: 0.7870 - val_loss: 0.3708 - val_accuracy: 0.8471\n"
          ]
        }
      ]
    },
    {
      "cell_type": "code",
      "source": [
        "model.layers[0].get_weights()"
      ],
      "metadata": {
        "colab": {
          "base_uri": "https://localhost:8080/"
        },
        "id": "-d2bY2Fr8abQ",
        "outputId": "aaf996f4-a2aa-4bb1-d9af-715986ea75fd"
      },
      "execution_count": 201,
      "outputs": [
        {
          "output_type": "execute_result",
          "data": {
            "text/plain": [
              "[array([[-1.02291971e-01, -2.19526827e-01, -9.57768783e-02,\n",
              "          1.31425947e-01,  1.42040431e-01,  3.70743871e-03,\n",
              "         -2.16785222e-01,  3.08477908e-01,  1.25409737e-01,\n",
              "          1.83740377e-01,  1.98928669e-01, -1.64205749e-02,\n",
              "         -2.20911935e-01,  4.14741397e-01, -6.19270802e-02,\n",
              "         -1.83478892e-01,  3.01910490e-01, -2.04041004e-01,\n",
              "          1.49866328e-01,  1.79963484e-01, -6.33212179e-02,\n",
              "          2.80203074e-01,  8.50792229e-02, -1.17932983e-01,\n",
              "          1.09210461e-01, -8.26376677e-02,  1.57736421e-01,\n",
              "         -1.54243961e-01, -1.01934262e-01, -3.92681956e-02],\n",
              "        [-6.15050793e-02, -2.51384497e-01,  3.18108171e-01,\n",
              "         -2.38584548e-01, -3.15259457e-01,  3.35867107e-02,\n",
              "          1.73927873e-01,  1.15828395e-01,  1.45970151e-01,\n",
              "         -1.01525702e-01,  1.93663388e-01,  2.72648782e-01,\n",
              "          2.48995926e-02,  2.78536886e-01, -3.03952932e-01,\n",
              "         -9.36325546e-03, -1.20528787e-01, -1.67398125e-01,\n",
              "          1.46784661e-02,  1.63506836e-01,  9.94143710e-02,\n",
              "          9.06273946e-02, -2.50581473e-01, -1.83070540e-01,\n",
              "          1.66606903e-02, -3.04851443e-01, -1.09518789e-01,\n",
              "         -8.47776532e-02, -1.35634784e-02, -1.14009187e-01],\n",
              "        [-6.31011128e-02, -1.09264001e-01,  1.12044886e-01,\n",
              "         -2.76910067e-02, -1.63178518e-01, -9.97394770e-02,\n",
              "          3.33636820e-01, -1.79831207e-01,  2.21641138e-01,\n",
              "          1.31672606e-01,  1.07696205e-01, -1.16959624e-01,\n",
              "          3.13729823e-01, -1.75012946e-01, -2.36120731e-01,\n",
              "          1.31964535e-01, -2.05736935e-01, -2.01628983e-01,\n",
              "         -4.41372506e-02,  1.01489842e-01,  1.92036390e-01,\n",
              "          2.43950188e-01, -2.38178104e-01,  3.00218672e-01,\n",
              "         -1.03761628e-01,  2.36927822e-01,  2.81022370e-01,\n",
              "         -1.37735710e-01,  6.39148504e-02, -7.61150420e-02],\n",
              "        [-1.58306062e-01,  6.77004755e-02, -1.99303225e-01,\n",
              "         -1.64088294e-01, -2.73941576e-01, -1.76530823e-01,\n",
              "         -3.33416015e-01, -5.56279123e-02,  4.10713524e-01,\n",
              "          8.91311318e-02, -1.57928571e-01, -6.34846687e-01,\n",
              "         -1.47919908e-01,  3.23038936e-01,  1.16279930e-01,\n",
              "         -4.14761715e-02,  2.29398608e-02,  1.71019733e-02,\n",
              "         -2.90152967e-01, -2.96660006e-01, -7.73454681e-02,\n",
              "          1.67278364e-01, -2.51847655e-01, -1.95828259e-01,\n",
              "         -1.08443558e-01,  1.54214008e-02, -1.63701102e-01,\n",
              "          7.59759545e-03, -3.25233489e-01, -2.57854342e-01],\n",
              "        [ 7.57118464e-02,  1.87920839e-01, -3.77810329e-01,\n",
              "          1.24465197e-01, -9.75555331e-02, -6.24921918e-03,\n",
              "         -9.51903388e-02,  5.34855127e-02,  3.99792135e-01,\n",
              "         -1.38769537e-01, -1.93758875e-01, -5.64487338e-01,\n",
              "         -1.97991226e-02,  6.69354081e-01, -2.71913707e-01,\n",
              "          4.68249947e-01,  2.58773535e-01, -5.90899587e-02,\n",
              "         -7.58739933e-02, -4.32967633e-01, -1.11814000e-01,\n",
              "         -1.02096789e-01, -1.72778666e-02, -5.40265366e-02,\n",
              "          2.21630841e-01,  3.09434325e-01, -1.32970065e-01,\n",
              "          2.42415339e-01,  3.09541859e-02,  1.78146809e-01],\n",
              "        [-1.11097977e-01,  9.25061107e-03, -5.83279952e-02,\n",
              "         -2.41418928e-01, -3.09760422e-01, -9.61618572e-02,\n",
              "         -3.98946553e-01, -2.68374979e-01,  2.98302114e-01,\n",
              "          4.34799194e-01, -4.07983780e-01, -1.80812001e-01,\n",
              "         -4.58144367e-01,  4.02980268e-01,  2.37519443e-02,\n",
              "          1.32146314e-01,  5.66318035e-02, -1.74466506e-01,\n",
              "          3.17392647e-01, -1.04496539e-01, -9.71861109e-02,\n",
              "         -7.04538077e-02,  2.31993705e-01,  3.52872945e-02,\n",
              "          2.80993015e-01,  3.05102855e-01, -5.25559187e-01,\n",
              "          3.03466827e-01,  8.12004879e-02,  2.10706562e-01],\n",
              "        [ 2.36064196e-04, -3.90924513e-02, -3.09618384e-01,\n",
              "          2.05531269e-01, -9.88453627e-03, -6.27183318e-02,\n",
              "          6.99265748e-02,  1.08420789e-01, -2.43848320e-02,\n",
              "          3.81052375e-01, -4.47334081e-01, -2.61190504e-01,\n",
              "         -2.72838175e-01,  8.50029409e-01,  1.26070797e-01,\n",
              "          4.66728151e-01, -2.23014355e-01, -2.36594349e-01,\n",
              "         -2.16037892e-02, -2.09254265e-01,  3.44031632e-01,\n",
              "          3.82567614e-01,  1.30787581e-01, -2.80482203e-01,\n",
              "         -2.35698968e-01,  2.04454362e-01, -4.13308561e-01,\n",
              "          2.03875393e-01,  5.67787215e-02,  2.30548531e-01],\n",
              "        [-1.79418132e-01, -1.55416191e-01, -3.57623070e-01,\n",
              "          2.31007189e-01, -7.64235556e-02,  2.85387367e-01,\n",
              "         -2.11916670e-01, -1.07344300e-01,  2.90665209e-01,\n",
              "          4.63456996e-02, -1.36851102e-01, -1.68458953e-01,\n",
              "         -4.64858085e-01, -8.64263996e-02,  1.16483480e-01,\n",
              "          3.99737000e-01,  3.08779985e-01,  3.56044769e-02,\n",
              "          1.43488601e-01, -2.86960155e-01,  1.23272970e-01,\n",
              "          2.87341237e-01, -1.35911465e-01, -5.11701584e-01,\n",
              "         -1.90288424e-02,  4.51952696e-01, -1.62631378e-01,\n",
              "         -1.64093971e-02, -5.97974658e-02,  1.67689145e-01],\n",
              "        [ 2.98902541e-01,  2.16849715e-01,  2.83087313e-01,\n",
              "          1.04716867e-01,  2.71414369e-01,  4.63041663e-02,\n",
              "          2.22851083e-01,  2.21093625e-01, -4.45025146e-01,\n",
              "         -4.21277046e-01,  4.40831780e-01, -4.02703673e-01,\n",
              "          4.31567818e-01,  2.68482059e-01,  7.46411681e-02,\n",
              "         -4.90793586e-01,  6.90063238e-02,  1.80657297e-01,\n",
              "          1.94952801e-01,  4.32129920e-01, -5.52164093e-02,\n",
              "         -3.15205842e-01, -4.34262156e-02,  5.39198101e-01,\n",
              "          2.98625380e-01, -1.44327208e-01,  2.30994612e-01,\n",
              "         -7.84625262e-02,  3.48724961e-01, -7.03086108e-02],\n",
              "        [-1.74972787e-01, -3.10970247e-02,  2.63876654e-02,\n",
              "          2.40688413e-01, -1.55057088e-01, -3.15466523e-03,\n",
              "         -1.53546214e-01, -1.08619332e-02, -7.48324171e-02,\n",
              "          3.18721160e-02, -8.61818641e-02,  4.33011651e-01,\n",
              "          4.11071517e-02, -1.39750242e-01,  2.01547056e-01,\n",
              "          4.06833500e-01,  2.39440203e-02, -2.03825682e-01,\n",
              "         -1.33531824e-01,  1.18279375e-01,  3.92672062e-01,\n",
              "          1.25257326e-02,  3.75746191e-02, -2.77140848e-02,\n",
              "         -1.06076241e-01,  3.04744244e-01,  1.70899823e-03,\n",
              "          2.34734267e-01, -1.23917907e-01,  1.28476351e-01],\n",
              "        [-1.22694969e-02,  2.43348926e-01, -9.19134170e-02,\n",
              "          2.71639228e-02,  1.99698895e-01, -2.16234267e-01,\n",
              "         -2.14178100e-01,  2.66834766e-01,  2.52649426e-01,\n",
              "         -1.11547224e-01, -2.37723455e-01,  8.90777260e-03,\n",
              "         -5.13651595e-02, -1.11034773e-01,  2.21072584e-01,\n",
              "          5.43462709e-02, -2.03051686e-01, -2.05787152e-01,\n",
              "         -1.29970104e-01, -3.58724356e-01, -8.50315318e-02,\n",
              "          2.28025407e-01, -2.27526724e-01, -4.08911645e-01,\n",
              "          5.10585010e-02,  1.04789928e-01, -1.17110759e-01,\n",
              "         -1.97220743e-01, -4.07881141e-01,  7.17887580e-02],\n",
              "        [ 2.35946745e-01,  2.90158004e-01, -2.52755553e-01,\n",
              "         -1.89321876e-01, -2.99729615e-01, -3.09062600e-02,\n",
              "         -9.22571346e-02, -1.21907890e-02, -4.47577573e-02,\n",
              "         -2.68265724e-01,  1.85133498e-02, -3.23225737e-01,\n",
              "          1.69851750e-01,  9.98981372e-02,  2.53290683e-01,\n",
              "         -5.57627007e-02, -2.48465762e-01,  1.06642395e-01,\n",
              "          2.54011359e-02,  2.29205117e-01,  1.76037118e-01,\n",
              "          2.84812421e-01,  1.71900392e-01,  1.39479592e-01,\n",
              "         -2.20631659e-02,  2.26958439e-01, -1.10117652e-01,\n",
              "         -2.03710556e-01, -3.69353950e-01,  7.65307844e-02],\n",
              "        [ 3.61160338e-02,  1.93609446e-01,  2.52519041e-01,\n",
              "         -2.15287998e-01,  3.14702064e-01, -2.14813992e-01,\n",
              "          2.47729525e-01,  9.92519855e-02, -3.05234313e-01,\n",
              "          1.46614313e-02, -7.21404031e-02, -1.72404915e-01,\n",
              "          1.29740685e-01,  4.94009048e-01,  1.27049804e-01,\n",
              "         -1.53060317e-01, -1.79597646e-01, -1.86667234e-01,\n",
              "          1.01292789e-01,  1.22749552e-01,  2.56131411e-01,\n",
              "         -1.35251239e-01,  7.66580999e-02, -1.82974592e-01,\n",
              "         -2.28435069e-01,  3.27659518e-01,  1.22937582e-01,\n",
              "          8.93829167e-02, -1.16099983e-01, -1.67604178e-01],\n",
              "        [ 1.58826500e-01,  1.16666019e-01, -7.96805322e-01,\n",
              "         -2.24932402e-01, -5.37753105e-03,  3.04474205e-01,\n",
              "         -8.16667140e-01,  2.20604390e-01,  3.79437089e-01,\n",
              "          3.82406235e-01, -6.49131835e-01, -1.04590394e-02,\n",
              "         -6.20009959e-01,  2.54678100e-01, -2.84563243e-01,\n",
              "          3.85460407e-01, -2.29437053e-02, -1.42511576e-01,\n",
              "          2.67192841e-01, -7.91759074e-01,  4.79711056e-01,\n",
              "          3.84684741e-01, -2.96951562e-01, -9.53665495e-01,\n",
              "         -3.88163030e-02,  5.85646868e-01, -7.21124709e-01,\n",
              "          2.22744673e-01, -7.50883281e-01,  4.99995649e-02],\n",
              "        [ 5.45997024e-02, -8.58419985e-02, -1.85143963e-01,\n",
              "          1.29418164e-01, -1.32844567e-01, -3.73466313e-02,\n",
              "         -7.33292475e-02,  4.27923799e-02, -3.30188036e-01,\n",
              "         -2.47958571e-01,  8.50910917e-02, -2.67718017e-01,\n",
              "         -9.19584744e-03,  2.12101936e-02, -9.65818763e-02,\n",
              "         -2.36678928e-01,  1.98156685e-01,  7.27877319e-02,\n",
              "         -2.55808651e-01, -1.50401816e-01,  8.72934312e-02,\n",
              "          2.22060338e-01,  4.32247519e-02,  1.96495131e-01,\n",
              "         -3.87433767e-02,  3.14849049e-01, -2.44607508e-01,\n",
              "          1.67087406e-01,  1.86855495e-01,  1.11941099e-01],\n",
              "        [ 1.84501141e-01,  6.26082718e-02, -1.51072264e-01,\n",
              "          1.34817183e-01, -5.45555055e-02, -1.90708458e-01,\n",
              "         -5.32682598e-01, -2.78525651e-01,  2.91258514e-01,\n",
              "          4.75482553e-01, -5.77000380e-01,  2.83490151e-01,\n",
              "         -3.43935221e-01, -2.92541087e-01, -1.07473761e-01,\n",
              "          2.65397727e-01,  1.22943133e-01,  8.15154016e-02,\n",
              "          2.21332222e-01, -4.08594042e-01,  4.05884534e-01,\n",
              "          4.37289357e-01, -1.66791275e-01, -3.59794617e-01,\n",
              "          1.67268902e-01,  4.48521644e-01, -4.39482361e-01,\n",
              "          1.96176201e-01, -5.25610149e-02, -3.00321162e-01],\n",
              "        [ 2.29383409e-02,  2.48621553e-01,  2.45013580e-01,\n",
              "         -2.55900115e-01,  2.14499086e-01,  2.74456054e-01,\n",
              "          2.58479826e-02,  1.01672709e-02, -2.55144924e-01,\n",
              "         -1.87907621e-01,  1.25072569e-01, -2.11389452e-01,\n",
              "          3.31398338e-01,  3.81871223e-01,  2.42854148e-01,\n",
              "          1.77506089e-01,  1.68392271e-01, -1.69205174e-01,\n",
              "         -7.39833489e-02,  1.30708739e-01, -2.07290575e-01,\n",
              "          1.13280214e-01, -1.15990475e-01, -2.45566383e-01,\n",
              "         -3.97448540e-02, -1.92647353e-01, -1.80311561e-01,\n",
              "          5.74437976e-02, -2.26530045e-01,  1.78565651e-01],\n",
              "        [ 1.96187705e-01,  2.03263909e-01, -2.94987351e-01,\n",
              "          1.42186701e-01,  2.03386694e-01, -4.13349867e-02,\n",
              "         -8.63595903e-02, -4.22496796e-02, -2.61450536e-03,\n",
              "          2.12564781e-01, -2.50955850e-01, -1.12673306e+00,\n",
              "         -2.95030892e-01,  6.86634123e-01, -1.90050945e-01,\n",
              "          5.73790014e-01, -2.05327630e-01, -1.70216143e-01,\n",
              "         -8.96544531e-02, -5.12068033e-01,  3.27068657e-01,\n",
              "          4.79713678e-01, -5.96211255e-02, -4.91774917e-01,\n",
              "         -7.17892051e-02,  2.90292978e-01, -4.07810397e-02,\n",
              "          8.57277811e-02, -3.73616606e-01, -1.49557129e-01],\n",
              "        [-1.07781902e-01, -2.64488459e-01,  2.47225434e-01,\n",
              "         -4.81977165e-02,  2.88484305e-01, -8.81486982e-02,\n",
              "         -2.06288353e-01,  1.69711709e-02,  2.79306411e-03,\n",
              "         -2.76549876e-01, -2.05137476e-01,  9.80176628e-02,\n",
              "         -1.07834943e-01,  4.50601522e-03,  1.82512313e-01,\n",
              "         -4.18842211e-02,  1.78043753e-01, -5.39852381e-02,\n",
              "          1.58440635e-01,  3.18437397e-01, -2.20538393e-01,\n",
              "         -2.81156272e-01,  2.30292708e-01, -4.77392487e-02,\n",
              "         -1.58493116e-01,  3.96415621e-01, -1.27533525e-01,\n",
              "          3.75942290e-02,  1.91383719e-01,  8.69827867e-02],\n",
              "        [ 8.55941772e-02,  8.77946317e-02, -3.26836914e-01,\n",
              "         -2.74095833e-01,  1.92297786e-01, -1.06433690e-01,\n",
              "         -5.62996387e-01,  1.92151338e-01,  6.62531972e-01,\n",
              "          5.67832053e-01, -6.77501798e-01,  3.22415143e-01,\n",
              "         -5.57488203e-01,  8.80033448e-02,  2.28490025e-01,\n",
              "          5.64609945e-01,  2.07529455e-01, -2.01618969e-01,\n",
              "         -2.27475986e-01, -5.29241621e-01,  2.37665027e-01,\n",
              "          5.31105042e-01, -2.34898120e-01, -4.75402564e-01,\n",
              "          2.23887175e-01,  6.28931761e-01, -2.93086588e-01,\n",
              "          5.74633479e-03, -7.50699937e-01, -1.50097176e-01],\n",
              "        [ 7.42253661e-02, -2.85526782e-01, -1.75734684e-01,\n",
              "         -3.09155524e-01,  2.83592254e-01,  2.54110605e-01,\n",
              "         -2.58266963e-02,  1.57954872e-01,  5.88116609e-03,\n",
              "          2.88687766e-01,  1.59165338e-01, -2.87890792e-01,\n",
              "          5.11911549e-02,  1.83664948e-01, -8.98061693e-02,\n",
              "         -2.64406595e-02,  1.34232193e-01, -1.63329676e-01,\n",
              "          9.61484015e-02,  2.43432567e-01, -1.69733509e-01,\n",
              "          1.71770528e-01,  3.14353615e-01, -7.94653818e-02,\n",
              "          1.28151178e-01, -1.21226802e-01,  1.10720940e-01,\n",
              "          2.86653787e-01, -1.30963027e-01,  1.67986035e-01],\n",
              "        [-3.81481349e-02,  2.15067834e-01,  3.00294580e-03,\n",
              "         -1.08240679e-01, -1.58488214e-01, -3.10455412e-01,\n",
              "         -2.91345447e-01,  3.01200241e-01,  3.56180549e-01,\n",
              "         -3.34286899e-03,  4.08978872e-02,  3.35103124e-02,\n",
              "          1.53431177e-01, -1.34093463e-01, -2.34760836e-01,\n",
              "          2.82527715e-01,  1.15012467e-01,  2.65775889e-01,\n",
              "         -7.77868330e-02, -1.23829842e-01, -1.60017386e-01,\n",
              "          2.71228731e-01,  2.52963632e-01,  1.04217358e-01,\n",
              "          1.53966874e-01,  3.32593858e-01, -3.00245762e-01,\n",
              "         -2.18442082e-03, -3.29902321e-02,  2.79660970e-01],\n",
              "        [ 1.60720944e-02,  6.36150837e-02, -1.93860129e-01,\n",
              "          2.74974018e-01,  1.31342560e-01, -2.33803853e-01,\n",
              "          2.21053675e-01,  2.86992162e-01,  9.09147561e-02,\n",
              "         -2.11941496e-01, -1.79806247e-01, -3.02583218e-01,\n",
              "          2.10206211e-01,  3.13484251e-01, -8.59859288e-02,\n",
              "          1.52417243e-01,  3.62735987e-02, -1.90403789e-01,\n",
              "         -2.69162655e-01,  3.43522243e-02,  1.07755810e-01,\n",
              "          2.59332091e-01, -1.60070151e-01, -2.59182900e-01,\n",
              "         -1.32033393e-01, -1.02150895e-01, -7.17778578e-02,\n",
              "          3.15740019e-01, -3.64737630e-01,  1.82556063e-01],\n",
              "        [-1.28448159e-01,  1.90079957e-01, -1.18929654e-01,\n",
              "         -2.82107711e-01, -4.12435532e-02,  2.08787918e-02,\n",
              "          4.28478532e-02,  2.08207041e-01,  5.95048107e-02,\n",
              "          2.37390265e-01,  1.40908346e-01, -8.73007894e-01,\n",
              "         -1.89857364e-01,  4.37520087e-01,  2.27049887e-02,\n",
              "          1.77757502e-01, -6.97693825e-02, -2.39182264e-01,\n",
              "         -1.88394442e-01, -2.48525411e-01,  3.91475439e-01,\n",
              "          8.13174993e-02,  1.32629156e-01,  7.82955959e-02,\n",
              "         -1.11537829e-01,  1.44536868e-01, -4.02176946e-01,\n",
              "         -3.06660563e-01, -2.97590315e-01,  2.68543363e-02],\n",
              "        [ 1.29161388e-01, -2.47309208e-01, -6.16952777e-01,\n",
              "          4.95795608e-02, -2.88231343e-01,  7.85017014e-03,\n",
              "         -6.50984585e-01, -2.17088044e-01,  3.90372664e-01,\n",
              "          8.70696679e-02, -4.91170079e-01,  8.23604941e-01,\n",
              "         -5.41450024e-01, -6.91237748e-02,  1.44169956e-01,\n",
              "          3.15096945e-01, -7.25068152e-02, -1.16995335e-01,\n",
              "          6.16936386e-01, -4.74002093e-01,  1.12895668e-01,\n",
              "          4.49028105e-01,  2.80836791e-01, -1.82549924e-01,\n",
              "         -1.14949510e-01,  2.98747152e-01, -6.82545662e-01,\n",
              "          2.68039703e-02, -6.45584106e-01, -2.54190624e-01],\n",
              "        [ 2.09809154e-01, -2.01088637e-01, -1.41790390e+00,\n",
              "          2.19259709e-01, -2.05145091e-01,  2.65394151e-02,\n",
              "         -1.23078167e+00, -2.32050478e-01,  1.05834186e+00,\n",
              "          1.47697413e+00, -1.50988638e+00, -1.83055177e-01,\n",
              "         -1.33543897e+00,  2.44777188e-01, -2.42202580e-01,\n",
              "          1.10031617e+00,  4.96578813e-02, -3.03958416e-01,\n",
              "         -2.90065229e-01, -1.39129829e+00,  9.70530808e-01,\n",
              "          1.12526834e+00, -9.57820266e-02, -1.25141311e+00,\n",
              "         -2.81560600e-01,  1.13811469e+00, -1.54465353e+00,\n",
              "         -4.01310921e-02, -1.53770697e+00, -2.34367847e-02],\n",
              "        [-1.93221137e-01,  2.41279513e-01,  1.48231849e-01,\n",
              "          1.12237334e-01, -2.13881820e-01,  3.00504535e-01,\n",
              "         -1.07589766e-01, -8.41583610e-02,  1.30363926e-01,\n",
              "          4.12186570e-02,  1.80028662e-01, -2.87331372e-01,\n",
              "         -4.14178297e-02,  3.77096146e-01,  9.08449590e-02,\n",
              "          2.98436999e-01,  2.76504308e-01,  2.26760238e-01,\n",
              "          1.85827643e-01, -2.82311112e-01, -2.88478792e-01,\n",
              "          2.07768798e-01,  2.96602875e-01,  1.00870959e-01,\n",
              "          1.58566773e-01, -1.94302738e-01,  2.32321262e-01,\n",
              "          1.14565283e-01,  2.64010161e-01, -2.76045859e-01],\n",
              "        [ 3.06417048e-02, -2.96015084e-01, -3.07297468e-01,\n",
              "         -1.19910628e-01, -4.67300415e-04,  2.29772002e-01,\n",
              "         -4.11750972e-01,  1.11404896e-01,  3.13200504e-01,\n",
              "          5.83652794e-01, -3.56076926e-01,  1.40872151e-01,\n",
              "         -4.34380740e-01, -2.02516750e-01, -1.03038296e-01,\n",
              "          5.56017578e-01,  2.69486457e-01, -7.80454427e-02,\n",
              "          1.00478984e-01, -6.70897365e-01,  5.60624599e-01,\n",
              "          8.83244336e-01,  4.43942845e-02, -8.93288672e-01,\n",
              "          3.07742923e-01,  6.43590689e-01, -7.64845014e-01,\n",
              "          1.49864495e-01, -4.86125320e-01,  1.29252315e-01],\n",
              "        [-8.49827230e-02,  1.12614453e-01, -5.75159609e-01,\n",
              "          9.36911106e-02, -1.97358787e-01, -2.74852872e-01,\n",
              "         -3.64298910e-01, -2.21979797e-01,  5.29774576e-02,\n",
              "          5.71398079e-01, -3.94950092e-01,  2.03496546e-01,\n",
              "          8.20356421e-03, -1.06650248e-01, -2.96570599e-01,\n",
              "          4.85397935e-01, -1.84309646e-01, -3.12519193e-01,\n",
              "         -1.40545323e-01, -5.10551259e-02,  4.21091199e-01,\n",
              "          1.99716557e-02, -1.20578617e-01, -2.34090332e-02,\n",
              "         -1.24940723e-01,  1.98083609e-01, -4.25979853e-01,\n",
              "         -2.87665576e-01, -4.80040908e-02, -1.23135328e-01],\n",
              "        [ 1.93013102e-01,  1.19939208e-01, -5.02511442e-01,\n",
              "          2.91970521e-01, -1.44972980e-01, -2.90588558e-01,\n",
              "         -8.07926357e-01,  2.06457883e-01,  2.33959913e-01,\n",
              "          2.73565888e-01, -2.57483214e-01,  2.33574398e-02,\n",
              "         -2.49360815e-01, -3.62036452e-02,  2.63864249e-01,\n",
              "          7.41493165e-01, -1.10971019e-01, -1.54887825e-01,\n",
              "          3.04014862e-01, -5.00687361e-01,  5.24237692e-01,\n",
              "          3.17645758e-01, -4.28613722e-02, -5.74966252e-01,\n",
              "          3.12182158e-01,  3.67984086e-01, -3.70071441e-01,\n",
              "          4.10442650e-02, -5.92900753e-01,  1.75025344e-01]], dtype=float32),\n",
              " array([ 0.        ,  0.        ,  0.00306312,  0.        ,  0.        ,\n",
              "         0.        ,  0.01278595,  0.        , -0.02236004, -0.0263681 ,\n",
              "         0.01396362, -0.03758726,  0.01263114,  0.10286774,  0.        ,\n",
              "        -0.02088914,  0.        ,  0.        , -0.0370685 ,  0.01510751,\n",
              "        -0.02172958, -0.02080708,  0.        ,  0.01410351,  0.        ,\n",
              "        -0.02059563,  0.00908274,  0.        ,  0.00353743,  0.        ],\n",
              "       dtype=float32)]"
            ]
          },
          "metadata": {},
          "execution_count": 201
        }
      ]
    },
    {
      "cell_type": "code",
      "source": [
        "model.layers[1].get_weights()"
      ],
      "metadata": {
        "colab": {
          "base_uri": "https://localhost:8080/"
        },
        "id": "amT-Oxl78poA",
        "outputId": "a74950a4-2534-432f-8005-f1917ccfb56e"
      },
      "execution_count": 202,
      "outputs": [
        {
          "output_type": "execute_result",
          "data": {
            "text/plain": [
              "[array([[-0.13703558],\n",
              "        [-0.02768084],\n",
              "        [ 0.05565709],\n",
              "        [ 0.10852224],\n",
              "        [-0.08923763],\n",
              "        [-0.397748  ],\n",
              "        [ 0.17951521],\n",
              "        [ 0.27391362],\n",
              "        [-0.22625546],\n",
              "        [-0.1097424 ],\n",
              "        [ 0.23000659],\n",
              "        [-0.1918987 ],\n",
              "        [ 0.17479996],\n",
              "        [ 0.38580623],\n",
              "        [ 0.22979093],\n",
              "        [-0.35658664],\n",
              "        [ 0.32850915],\n",
              "        [-0.11284465],\n",
              "        [-0.45972937],\n",
              "        [ 0.31382135],\n",
              "        [-0.26858076],\n",
              "        [-0.37147313],\n",
              "        [-0.12527382],\n",
              "        [ 0.23051576],\n",
              "        [-0.05015701],\n",
              "        [-0.21234827],\n",
              "        [ 0.10558298],\n",
              "        [ 0.05228975],\n",
              "        [ 0.4402855 ],\n",
              "        [-0.2754212 ]], dtype=float32),\n",
              " array([0.01831207], dtype=float32)]"
            ]
          },
          "metadata": {},
          "execution_count": 202
        }
      ]
    },
    {
      "cell_type": "code",
      "source": [
        "y_pred = model.predict(x_test)\n",
        "y_pred"
      ],
      "metadata": {
        "colab": {
          "base_uri": "https://localhost:8080/"
        },
        "id": "7W9n52d98zLg",
        "outputId": "3b147320-70b0-46da-9b2b-84861125b49b"
      },
      "execution_count": 203,
      "outputs": [
        {
          "output_type": "stream",
          "name": "stdout",
          "text": [
            "89/89 [==============================] - 0s 1ms/step\n"
          ]
        },
        {
          "output_type": "execute_result",
          "data": {
            "text/plain": [
              "array([[8.5788900e-01],\n",
              "       [9.8094606e-01],\n",
              "       [8.8408770e-04],\n",
              "       ...,\n",
              "       [5.6802309e-01],\n",
              "       [2.5844849e-03],\n",
              "       [9.7030503e-01]], dtype=float32)"
            ]
          },
          "metadata": {},
          "execution_count": 203
        }
      ]
    },
    {
      "cell_type": "code",
      "source": [
        "y_pred = np.where(y_pred>0.5, 1, 0)\n",
        "y_pred"
      ],
      "metadata": {
        "colab": {
          "base_uri": "https://localhost:8080/"
        },
        "id": "aeW8SvqA88Nu",
        "outputId": "2acec54e-b716-42ba-8602-84eec72e28a9"
      },
      "execution_count": 204,
      "outputs": [
        {
          "output_type": "execute_result",
          "data": {
            "text/plain": [
              "array([[1],\n",
              "       [1],\n",
              "       [0],\n",
              "       ...,\n",
              "       [1],\n",
              "       [0],\n",
              "       [1]])"
            ]
          },
          "metadata": {},
          "execution_count": 204
        }
      ]
    },
    {
      "cell_type": "code",
      "source": [
        "from sklearn.metrics import accuracy_score\n",
        "score = accuracy_score(y_test, y_pred)\n",
        "score"
      ],
      "metadata": {
        "colab": {
          "base_uri": "https://localhost:8080/"
        },
        "id": "Hf23kPZC9ILs",
        "outputId": "d7d73ff6-535f-4999-e700-02b076c02a4c"
      },
      "execution_count": 205,
      "outputs": [
        {
          "output_type": "execute_result",
          "data": {
            "text/plain": [
              "0.8376669009135629"
            ]
          },
          "metadata": {},
          "execution_count": 205
        }
      ]
    },
    {
      "cell_type": "code",
      "source": [],
      "metadata": {
        "id": "wWw9KmUk9nJ-"
      },
      "execution_count": 205,
      "outputs": []
    },
    {
      "cell_type": "code",
      "source": [
        "model = Sequential()\n",
        "model.add(Dense(30,activation='relu',input_dim=30))\n",
        "model.add(Dense(30, activation = 'relu'))\n",
        "model.add(Dense(1,activation='sigmoid'))\n",
        "model.compile(optimizer='Adam',loss='binary_crossentropy',metrics=['accuracy'])\n",
        "history = model.fit(x_train,y_train,batch_size=50,epochs=100, verbose=1,validation_split=0.2)"
      ],
      "metadata": {
        "colab": {
          "base_uri": "https://localhost:8080/"
        },
        "id": "HRU7fEXR9hcP",
        "outputId": "9ab3f8a2-fa6f-462e-8875-a33990c9a354"
      },
      "execution_count": 206,
      "outputs": [
        {
          "output_type": "stream",
          "name": "stdout",
          "text": [
            "Epoch 1/100\n",
            "107/107 [==============================] - 1s 4ms/step - loss: 6.9222 - accuracy: 0.5687 - val_loss: 0.7498 - val_accuracy: 0.6965\n",
            "Epoch 2/100\n",
            "107/107 [==============================] - 0s 3ms/step - loss: 0.5883 - accuracy: 0.7232 - val_loss: 0.8932 - val_accuracy: 0.6295\n",
            "Epoch 3/100\n",
            "107/107 [==============================] - 0s 3ms/step - loss: 0.6212 - accuracy: 0.7324 - val_loss: 1.2639 - val_accuracy: 0.7048\n",
            "Epoch 4/100\n",
            "107/107 [==============================] - 0s 4ms/step - loss: 0.6478 - accuracy: 0.7386 - val_loss: 0.6394 - val_accuracy: 0.7455\n",
            "Epoch 5/100\n",
            "107/107 [==============================] - 0s 4ms/step - loss: 0.5563 - accuracy: 0.7588 - val_loss: 0.4821 - val_accuracy: 0.7801\n",
            "Epoch 6/100\n",
            "107/107 [==============================] - 0s 4ms/step - loss: 0.6220 - accuracy: 0.7405 - val_loss: 0.4381 - val_accuracy: 0.7914\n",
            "Epoch 7/100\n",
            "107/107 [==============================] - 1s 5ms/step - loss: 0.4805 - accuracy: 0.7783 - val_loss: 0.6177 - val_accuracy: 0.7560\n",
            "Epoch 8/100\n",
            "107/107 [==============================] - 0s 4ms/step - loss: 0.4641 - accuracy: 0.7864 - val_loss: 0.5906 - val_accuracy: 0.7176\n",
            "Epoch 9/100\n",
            "107/107 [==============================] - 0s 4ms/step - loss: 0.6840 - accuracy: 0.7606 - val_loss: 0.6318 - val_accuracy: 0.7086\n",
            "Epoch 10/100\n",
            "107/107 [==============================] - 0s 5ms/step - loss: 0.5128 - accuracy: 0.7819 - val_loss: 0.7030 - val_accuracy: 0.7477\n",
            "Epoch 11/100\n",
            "107/107 [==============================] - 0s 3ms/step - loss: 0.5089 - accuracy: 0.7742 - val_loss: 0.4590 - val_accuracy: 0.7681\n",
            "Epoch 12/100\n",
            "107/107 [==============================] - 0s 3ms/step - loss: 0.4288 - accuracy: 0.8023 - val_loss: 0.3886 - val_accuracy: 0.8291\n",
            "Epoch 13/100\n",
            "107/107 [==============================] - 0s 3ms/step - loss: 0.4480 - accuracy: 0.7942 - val_loss: 0.3846 - val_accuracy: 0.8313\n",
            "Epoch 14/100\n",
            "107/107 [==============================] - 0s 3ms/step - loss: 0.4465 - accuracy: 0.7944 - val_loss: 0.4587 - val_accuracy: 0.8005\n",
            "Epoch 15/100\n",
            "107/107 [==============================] - 0s 3ms/step - loss: 0.5327 - accuracy: 0.7810 - val_loss: 0.4847 - val_accuracy: 0.7628\n",
            "Epoch 16/100\n",
            "107/107 [==============================] - 0s 3ms/step - loss: 0.4713 - accuracy: 0.7910 - val_loss: 0.7130 - val_accuracy: 0.7184\n",
            "Epoch 17/100\n",
            "107/107 [==============================] - 0s 3ms/step - loss: 0.4457 - accuracy: 0.8009 - val_loss: 0.3768 - val_accuracy: 0.8313\n",
            "Epoch 18/100\n",
            "107/107 [==============================] - 0s 3ms/step - loss: 0.4157 - accuracy: 0.8070 - val_loss: 0.4388 - val_accuracy: 0.7846\n",
            "Epoch 19/100\n",
            "107/107 [==============================] - 0s 3ms/step - loss: 0.4859 - accuracy: 0.7915 - val_loss: 1.4596 - val_accuracy: 0.7003\n",
            "Epoch 20/100\n",
            "107/107 [==============================] - 0s 3ms/step - loss: 0.5414 - accuracy: 0.7823 - val_loss: 0.6176 - val_accuracy: 0.7432\n",
            "Epoch 21/100\n",
            "107/107 [==============================] - 0s 3ms/step - loss: 0.4116 - accuracy: 0.8128 - val_loss: 0.7126 - val_accuracy: 0.7244\n",
            "Epoch 22/100\n",
            "107/107 [==============================] - 0s 3ms/step - loss: 0.4541 - accuracy: 0.8002 - val_loss: 0.3632 - val_accuracy: 0.8411\n",
            "Epoch 23/100\n",
            "107/107 [==============================] - 0s 3ms/step - loss: 0.5094 - accuracy: 0.7938 - val_loss: 0.4840 - val_accuracy: 0.8050\n",
            "Epoch 24/100\n",
            "107/107 [==============================] - 0s 3ms/step - loss: 0.4940 - accuracy: 0.7921 - val_loss: 0.3617 - val_accuracy: 0.8404\n",
            "Epoch 25/100\n",
            "107/107 [==============================] - 0s 3ms/step - loss: 0.4662 - accuracy: 0.7991 - val_loss: 0.8367 - val_accuracy: 0.7093\n",
            "Epoch 26/100\n",
            "107/107 [==============================] - 0s 3ms/step - loss: 0.4609 - accuracy: 0.8072 - val_loss: 0.3604 - val_accuracy: 0.8396\n",
            "Epoch 27/100\n",
            "107/107 [==============================] - 0s 3ms/step - loss: 0.3811 - accuracy: 0.8247 - val_loss: 0.6189 - val_accuracy: 0.7636\n",
            "Epoch 28/100\n",
            "107/107 [==============================] - 0s 3ms/step - loss: 0.4664 - accuracy: 0.8056 - val_loss: 0.3593 - val_accuracy: 0.8419\n",
            "Epoch 29/100\n",
            "107/107 [==============================] - 0s 3ms/step - loss: 0.4382 - accuracy: 0.8036 - val_loss: 0.3564 - val_accuracy: 0.8411\n",
            "Epoch 30/100\n",
            "107/107 [==============================] - 0s 3ms/step - loss: 0.4035 - accuracy: 0.8185 - val_loss: 0.8579 - val_accuracy: 0.7101\n",
            "Epoch 31/100\n",
            "107/107 [==============================] - 0s 3ms/step - loss: 0.4407 - accuracy: 0.8089 - val_loss: 0.3697 - val_accuracy: 0.8366\n",
            "Epoch 32/100\n",
            "107/107 [==============================] - 0s 3ms/step - loss: 0.6316 - accuracy: 0.7755 - val_loss: 0.4116 - val_accuracy: 0.8230\n",
            "Epoch 33/100\n",
            "107/107 [==============================] - 0s 3ms/step - loss: 0.4032 - accuracy: 0.8188 - val_loss: 0.4481 - val_accuracy: 0.8110\n",
            "Epoch 34/100\n",
            "107/107 [==============================] - 0s 3ms/step - loss: 0.4914 - accuracy: 0.7913 - val_loss: 0.5709 - val_accuracy: 0.7877\n",
            "Epoch 35/100\n",
            "107/107 [==============================] - 0s 3ms/step - loss: 0.5380 - accuracy: 0.7889 - val_loss: 0.3502 - val_accuracy: 0.8426\n",
            "Epoch 36/100\n",
            "107/107 [==============================] - 0s 3ms/step - loss: 0.3898 - accuracy: 0.8247 - val_loss: 0.4017 - val_accuracy: 0.8238\n",
            "Epoch 37/100\n",
            "107/107 [==============================] - 0s 3ms/step - loss: 0.4615 - accuracy: 0.7985 - val_loss: 0.4634 - val_accuracy: 0.8072\n",
            "Epoch 38/100\n",
            "107/107 [==============================] - 0s 3ms/step - loss: 0.3882 - accuracy: 0.8218 - val_loss: 0.4446 - val_accuracy: 0.8125\n",
            "Epoch 39/100\n",
            "107/107 [==============================] - 0s 3ms/step - loss: 0.3776 - accuracy: 0.8250 - val_loss: 0.3720 - val_accuracy: 0.8381\n",
            "Epoch 40/100\n",
            "107/107 [==============================] - 0s 3ms/step - loss: 0.4198 - accuracy: 0.8107 - val_loss: 0.3673 - val_accuracy: 0.8291\n",
            "Epoch 41/100\n",
            "107/107 [==============================] - 0s 3ms/step - loss: 0.3988 - accuracy: 0.8188 - val_loss: 0.3554 - val_accuracy: 0.8351\n",
            "Epoch 42/100\n",
            "107/107 [==============================] - 0s 4ms/step - loss: 0.4181 - accuracy: 0.8175 - val_loss: 0.3465 - val_accuracy: 0.8441\n",
            "Epoch 43/100\n",
            "107/107 [==============================] - 0s 4ms/step - loss: 0.3723 - accuracy: 0.8290 - val_loss: 0.4052 - val_accuracy: 0.8095\n",
            "Epoch 44/100\n",
            "107/107 [==============================] - 0s 4ms/step - loss: 0.4053 - accuracy: 0.8203 - val_loss: 0.9563 - val_accuracy: 0.7033\n",
            "Epoch 45/100\n",
            "107/107 [==============================] - 0s 4ms/step - loss: 0.4562 - accuracy: 0.8024 - val_loss: 0.6017 - val_accuracy: 0.7590\n",
            "Epoch 46/100\n",
            "107/107 [==============================] - 0s 4ms/step - loss: 0.4027 - accuracy: 0.8147 - val_loss: 0.4329 - val_accuracy: 0.8140\n",
            "Epoch 47/100\n",
            "107/107 [==============================] - 0s 4ms/step - loss: 0.4287 - accuracy: 0.8141 - val_loss: 0.3540 - val_accuracy: 0.8404\n",
            "Epoch 48/100\n",
            "107/107 [==============================] - 0s 4ms/step - loss: 0.4080 - accuracy: 0.8111 - val_loss: 0.4131 - val_accuracy: 0.8050\n",
            "Epoch 49/100\n",
            "107/107 [==============================] - 0s 3ms/step - loss: 0.4358 - accuracy: 0.8134 - val_loss: 0.3890 - val_accuracy: 0.8215\n",
            "Epoch 50/100\n",
            "107/107 [==============================] - 0s 3ms/step - loss: 0.3751 - accuracy: 0.8271 - val_loss: 0.4467 - val_accuracy: 0.7952\n",
            "Epoch 51/100\n",
            "107/107 [==============================] - 0s 3ms/step - loss: 0.4130 - accuracy: 0.8128 - val_loss: 0.3889 - val_accuracy: 0.8321\n",
            "Epoch 52/100\n",
            "107/107 [==============================] - 0s 3ms/step - loss: 0.4057 - accuracy: 0.8164 - val_loss: 0.4213 - val_accuracy: 0.8215\n",
            "Epoch 53/100\n",
            "107/107 [==============================] - 0s 3ms/step - loss: 0.3784 - accuracy: 0.8273 - val_loss: 0.3658 - val_accuracy: 0.8268\n",
            "Epoch 54/100\n",
            "107/107 [==============================] - 0s 3ms/step - loss: 0.4161 - accuracy: 0.8115 - val_loss: 0.4451 - val_accuracy: 0.7922\n",
            "Epoch 55/100\n",
            "107/107 [==============================] - 0s 3ms/step - loss: 0.3980 - accuracy: 0.8213 - val_loss: 0.4708 - val_accuracy: 0.8072\n",
            "Epoch 56/100\n",
            "107/107 [==============================] - 0s 3ms/step - loss: 0.3923 - accuracy: 0.8277 - val_loss: 0.4381 - val_accuracy: 0.7989\n",
            "Epoch 57/100\n",
            "107/107 [==============================] - 0s 3ms/step - loss: 0.3831 - accuracy: 0.8249 - val_loss: 0.3560 - val_accuracy: 0.8456\n",
            "Epoch 58/100\n",
            "107/107 [==============================] - 0s 3ms/step - loss: 0.4639 - accuracy: 0.8058 - val_loss: 0.4375 - val_accuracy: 0.7967\n",
            "Epoch 59/100\n",
            "107/107 [==============================] - 0s 3ms/step - loss: 0.3906 - accuracy: 0.8269 - val_loss: 0.3468 - val_accuracy: 0.8486\n",
            "Epoch 60/100\n",
            "107/107 [==============================] - 0s 3ms/step - loss: 0.3702 - accuracy: 0.8322 - val_loss: 0.6531 - val_accuracy: 0.7575\n",
            "Epoch 61/100\n",
            "107/107 [==============================] - 0s 3ms/step - loss: 0.4022 - accuracy: 0.8207 - val_loss: 0.3448 - val_accuracy: 0.8441\n",
            "Epoch 62/100\n",
            "107/107 [==============================] - 0s 3ms/step - loss: 0.3756 - accuracy: 0.8294 - val_loss: 0.3626 - val_accuracy: 0.8291\n",
            "Epoch 63/100\n",
            "107/107 [==============================] - 0s 3ms/step - loss: 0.4588 - accuracy: 0.8094 - val_loss: 0.3813 - val_accuracy: 0.8373\n",
            "Epoch 64/100\n",
            "107/107 [==============================] - 0s 3ms/step - loss: 0.4354 - accuracy: 0.8134 - val_loss: 0.5755 - val_accuracy: 0.7643\n",
            "Epoch 65/100\n",
            "107/107 [==============================] - 0s 3ms/step - loss: 0.4483 - accuracy: 0.8121 - val_loss: 0.4146 - val_accuracy: 0.8230\n",
            "Epoch 66/100\n",
            "107/107 [==============================] - 0s 3ms/step - loss: 0.3720 - accuracy: 0.8301 - val_loss: 0.3470 - val_accuracy: 0.8381\n",
            "Epoch 67/100\n",
            "107/107 [==============================] - 0s 3ms/step - loss: 0.3696 - accuracy: 0.8309 - val_loss: 0.3635 - val_accuracy: 0.8291\n",
            "Epoch 68/100\n",
            "107/107 [==============================] - 0s 3ms/step - loss: 0.4138 - accuracy: 0.8126 - val_loss: 0.3529 - val_accuracy: 0.8366\n",
            "Epoch 69/100\n",
            "107/107 [==============================] - 0s 3ms/step - loss: 0.4289 - accuracy: 0.8153 - val_loss: 0.3644 - val_accuracy: 0.8426\n",
            "Epoch 70/100\n",
            "107/107 [==============================] - 0s 3ms/step - loss: 0.3986 - accuracy: 0.8271 - val_loss: 0.6126 - val_accuracy: 0.7733\n",
            "Epoch 71/100\n",
            "107/107 [==============================] - 0s 3ms/step - loss: 0.4629 - accuracy: 0.8032 - val_loss: 0.3514 - val_accuracy: 0.8456\n",
            "Epoch 72/100\n",
            "107/107 [==============================] - 0s 3ms/step - loss: 0.3996 - accuracy: 0.8279 - val_loss: 0.3464 - val_accuracy: 0.8471\n",
            "Epoch 73/100\n",
            "107/107 [==============================] - 0s 3ms/step - loss: 0.3883 - accuracy: 0.8256 - val_loss: 0.3430 - val_accuracy: 0.8502\n",
            "Epoch 74/100\n",
            "107/107 [==============================] - 0s 3ms/step - loss: 0.4173 - accuracy: 0.8132 - val_loss: 0.3676 - val_accuracy: 0.8404\n",
            "Epoch 75/100\n",
            "107/107 [==============================] - 0s 3ms/step - loss: 0.3943 - accuracy: 0.8228 - val_loss: 0.3804 - val_accuracy: 0.8253\n",
            "Epoch 76/100\n",
            "107/107 [==============================] - 0s 3ms/step - loss: 0.3789 - accuracy: 0.8269 - val_loss: 0.3444 - val_accuracy: 0.8486\n",
            "Epoch 77/100\n",
            "107/107 [==============================] - 0s 3ms/step - loss: 0.3621 - accuracy: 0.8352 - val_loss: 0.3803 - val_accuracy: 0.8366\n",
            "Epoch 78/100\n",
            "107/107 [==============================] - 0s 3ms/step - loss: 0.3718 - accuracy: 0.8339 - val_loss: 0.4258 - val_accuracy: 0.8050\n",
            "Epoch 79/100\n",
            "107/107 [==============================] - 0s 3ms/step - loss: 0.3880 - accuracy: 0.8275 - val_loss: 0.3427 - val_accuracy: 0.8441\n",
            "Epoch 80/100\n",
            "107/107 [==============================] - 0s 4ms/step - loss: 0.4352 - accuracy: 0.8094 - val_loss: 0.3560 - val_accuracy: 0.8351\n",
            "Epoch 81/100\n",
            "107/107 [==============================] - 0s 4ms/step - loss: 0.3628 - accuracy: 0.8354 - val_loss: 0.3860 - val_accuracy: 0.8230\n",
            "Epoch 82/100\n",
            "107/107 [==============================] - 0s 4ms/step - loss: 0.3699 - accuracy: 0.8301 - val_loss: 0.3558 - val_accuracy: 0.8419\n",
            "Epoch 83/100\n",
            "107/107 [==============================] - 0s 4ms/step - loss: 0.3908 - accuracy: 0.8230 - val_loss: 0.4358 - val_accuracy: 0.8027\n",
            "Epoch 84/100\n",
            "107/107 [==============================] - 0s 4ms/step - loss: 0.3891 - accuracy: 0.8294 - val_loss: 0.3530 - val_accuracy: 0.8456\n",
            "Epoch 85/100\n",
            "107/107 [==============================] - 0s 4ms/step - loss: 0.3784 - accuracy: 0.8279 - val_loss: 0.6113 - val_accuracy: 0.7575\n",
            "Epoch 86/100\n",
            "107/107 [==============================] - 0s 4ms/step - loss: 0.3893 - accuracy: 0.8239 - val_loss: 0.3420 - val_accuracy: 0.8464\n",
            "Epoch 87/100\n",
            "107/107 [==============================] - 0s 3ms/step - loss: 0.3646 - accuracy: 0.8316 - val_loss: 0.5247 - val_accuracy: 0.7741\n",
            "Epoch 88/100\n",
            "107/107 [==============================] - 0s 3ms/step - loss: 0.4028 - accuracy: 0.8217 - val_loss: 0.4086 - val_accuracy: 0.8230\n",
            "Epoch 89/100\n",
            "107/107 [==============================] - 0s 3ms/step - loss: 0.3656 - accuracy: 0.8356 - val_loss: 0.4485 - val_accuracy: 0.7989\n",
            "Epoch 90/100\n",
            "107/107 [==============================] - 0s 3ms/step - loss: 0.3636 - accuracy: 0.8326 - val_loss: 0.6478 - val_accuracy: 0.7545\n",
            "Epoch 91/100\n",
            "107/107 [==============================] - 0s 3ms/step - loss: 0.3967 - accuracy: 0.8252 - val_loss: 0.4108 - val_accuracy: 0.8072\n",
            "Epoch 92/100\n",
            "107/107 [==============================] - 0s 3ms/step - loss: 0.3691 - accuracy: 0.8335 - val_loss: 0.4528 - val_accuracy: 0.7944\n",
            "Epoch 93/100\n",
            "107/107 [==============================] - 0s 3ms/step - loss: 0.3897 - accuracy: 0.8215 - val_loss: 0.3460 - val_accuracy: 0.8389\n",
            "Epoch 94/100\n",
            "107/107 [==============================] - 0s 3ms/step - loss: 0.3786 - accuracy: 0.8281 - val_loss: 0.3570 - val_accuracy: 0.8343\n",
            "Epoch 95/100\n",
            "107/107 [==============================] - 0s 3ms/step - loss: 0.3805 - accuracy: 0.8230 - val_loss: 0.4045 - val_accuracy: 0.8080\n",
            "Epoch 96/100\n",
            "107/107 [==============================] - 0s 3ms/step - loss: 0.3666 - accuracy: 0.8307 - val_loss: 0.3452 - val_accuracy: 0.8486\n",
            "Epoch 97/100\n",
            "107/107 [==============================] - 0s 3ms/step - loss: 0.3585 - accuracy: 0.8377 - val_loss: 0.3581 - val_accuracy: 0.8298\n",
            "Epoch 98/100\n",
            "107/107 [==============================] - 0s 3ms/step - loss: 0.3591 - accuracy: 0.8356 - val_loss: 0.3430 - val_accuracy: 0.8411\n",
            "Epoch 99/100\n",
            "107/107 [==============================] - 0s 3ms/step - loss: 0.3625 - accuracy: 0.8354 - val_loss: 0.3517 - val_accuracy: 0.8404\n",
            "Epoch 100/100\n",
            "107/107 [==============================] - 0s 3ms/step - loss: 0.4054 - accuracy: 0.8207 - val_loss: 0.3923 - val_accuracy: 0.8200\n"
          ]
        }
      ]
    },
    {
      "cell_type": "code",
      "source": [
        "y_pred1 = model.predict(x_test)\n",
        "y_pred1 = np.where(y_pred1>0.5, 1, 0)\n",
        "accuracy_score(y_test,y_pred1)"
      ],
      "metadata": {
        "colab": {
          "base_uri": "https://localhost:8080/"
        },
        "id": "iyQQmSeL93A7",
        "outputId": "f3eace4e-edad-42d5-9872-c5250bd3522f"
      },
      "execution_count": 207,
      "outputs": [
        {
          "output_type": "stream",
          "name": "stdout",
          "text": [
            "89/89 [==============================] - 0s 1ms/step\n"
          ]
        },
        {
          "output_type": "execute_result",
          "data": {
            "text/plain": [
              "0.8004216444132115"
            ]
          },
          "metadata": {},
          "execution_count": 207
        }
      ]
    },
    {
      "cell_type": "code",
      "source": [
        "model = Sequential()\n",
        "model.add(Dense(30,activation='relu',input_dim=30))\n",
        "model.add(Dense(25, activation = 'relu'))\n",
        "model.add(Dense(1,activation='sigmoid'))\n",
        "model.compile(optimizer='Adam',loss='binary_crossentropy',metrics=['accuracy'])\n",
        "history = model.fit(x_train,y_train,batch_size=50,epochs=100, verbose=1,validation_split=0.2)"
      ],
      "metadata": {
        "colab": {
          "base_uri": "https://localhost:8080/"
        },
        "id": "tsySWL_J97Xk",
        "outputId": "ccc35602-9999-4fc3-df81-ef675285928c"
      },
      "execution_count": 208,
      "outputs": [
        {
          "output_type": "stream",
          "name": "stdout",
          "text": [
            "Epoch 1/100\n",
            "107/107 [==============================] - 1s 5ms/step - loss: 6.1915 - accuracy: 0.6305 - val_loss: 0.8856 - val_accuracy: 0.6965\n",
            "Epoch 2/100\n",
            "107/107 [==============================] - 0s 3ms/step - loss: 0.9120 - accuracy: 0.7218 - val_loss: 0.4479 - val_accuracy: 0.7929\n",
            "Epoch 3/100\n",
            "107/107 [==============================] - 0s 3ms/step - loss: 0.9648 - accuracy: 0.7301 - val_loss: 0.4439 - val_accuracy: 0.8005\n",
            "Epoch 4/100\n",
            "107/107 [==============================] - 0s 3ms/step - loss: 0.7469 - accuracy: 0.7542 - val_loss: 1.0364 - val_accuracy: 0.6980\n",
            "Epoch 5/100\n",
            "107/107 [==============================] - 0s 3ms/step - loss: 0.5613 - accuracy: 0.7733 - val_loss: 0.4630 - val_accuracy: 0.8020\n",
            "Epoch 6/100\n",
            "107/107 [==============================] - 0s 2ms/step - loss: 0.9488 - accuracy: 0.7452 - val_loss: 1.5130 - val_accuracy: 0.6709\n",
            "Epoch 7/100\n",
            "107/107 [==============================] - 0s 3ms/step - loss: 0.8067 - accuracy: 0.7582 - val_loss: 0.4658 - val_accuracy: 0.7967\n",
            "Epoch 8/100\n",
            "107/107 [==============================] - 0s 3ms/step - loss: 0.6195 - accuracy: 0.7838 - val_loss: 1.1324 - val_accuracy: 0.7056\n",
            "Epoch 9/100\n",
            "107/107 [==============================] - 0s 3ms/step - loss: 0.8540 - accuracy: 0.7642 - val_loss: 0.6880 - val_accuracy: 0.7899\n",
            "Epoch 10/100\n",
            "107/107 [==============================] - 0s 3ms/step - loss: 0.7401 - accuracy: 0.7780 - val_loss: 0.4034 - val_accuracy: 0.8253\n",
            "Epoch 11/100\n",
            "107/107 [==============================] - 0s 3ms/step - loss: 0.5286 - accuracy: 0.7962 - val_loss: 0.5946 - val_accuracy: 0.7726\n",
            "Epoch 12/100\n",
            "107/107 [==============================] - 0s 4ms/step - loss: 0.8960 - accuracy: 0.7576 - val_loss: 1.0311 - val_accuracy: 0.7824\n",
            "Epoch 13/100\n",
            "107/107 [==============================] - 0s 4ms/step - loss: 0.7237 - accuracy: 0.7727 - val_loss: 0.4082 - val_accuracy: 0.8253\n",
            "Epoch 14/100\n",
            "107/107 [==============================] - 0s 4ms/step - loss: 0.6192 - accuracy: 0.7842 - val_loss: 0.5582 - val_accuracy: 0.7982\n",
            "Epoch 15/100\n",
            "107/107 [==============================] - 0s 4ms/step - loss: 0.4735 - accuracy: 0.8019 - val_loss: 0.4082 - val_accuracy: 0.8148\n",
            "Epoch 16/100\n",
            "107/107 [==============================] - 0s 4ms/step - loss: 0.5260 - accuracy: 0.7949 - val_loss: 0.9141 - val_accuracy: 0.7252\n",
            "Epoch 17/100\n",
            "107/107 [==============================] - 0s 4ms/step - loss: 0.5376 - accuracy: 0.7927 - val_loss: 0.4922 - val_accuracy: 0.8027\n",
            "Epoch 18/100\n",
            "107/107 [==============================] - 0s 4ms/step - loss: 0.7971 - accuracy: 0.7757 - val_loss: 1.1679 - val_accuracy: 0.7026\n",
            "Epoch 19/100\n",
            "107/107 [==============================] - 0s 3ms/step - loss: 0.6870 - accuracy: 0.7866 - val_loss: 3.1556 - val_accuracy: 0.6416\n",
            "Epoch 20/100\n",
            "107/107 [==============================] - 0s 3ms/step - loss: 0.7833 - accuracy: 0.7812 - val_loss: 1.3500 - val_accuracy: 0.7440\n",
            "Epoch 21/100\n",
            "107/107 [==============================] - 0s 3ms/step - loss: 0.6139 - accuracy: 0.7983 - val_loss: 0.3852 - val_accuracy: 0.8238\n",
            "Epoch 22/100\n",
            "107/107 [==============================] - 0s 3ms/step - loss: 0.7427 - accuracy: 0.7774 - val_loss: 0.8944 - val_accuracy: 0.7402\n",
            "Epoch 23/100\n",
            "107/107 [==============================] - 0s 3ms/step - loss: 0.7410 - accuracy: 0.7806 - val_loss: 1.0485 - val_accuracy: 0.7553\n",
            "Epoch 24/100\n",
            "107/107 [==============================] - 0s 3ms/step - loss: 0.6396 - accuracy: 0.7927 - val_loss: 0.6299 - val_accuracy: 0.7892\n",
            "Epoch 25/100\n",
            "107/107 [==============================] - 0s 3ms/step - loss: 0.8438 - accuracy: 0.7759 - val_loss: 0.7207 - val_accuracy: 0.7929\n",
            "Epoch 26/100\n",
            "107/107 [==============================] - 0s 3ms/step - loss: 0.8777 - accuracy: 0.7738 - val_loss: 0.5523 - val_accuracy: 0.7839\n",
            "Epoch 27/100\n",
            "107/107 [==============================] - 0s 3ms/step - loss: 0.5667 - accuracy: 0.7955 - val_loss: 0.3870 - val_accuracy: 0.8404\n",
            "Epoch 28/100\n",
            "107/107 [==============================] - 0s 3ms/step - loss: 0.5901 - accuracy: 0.7992 - val_loss: 0.4323 - val_accuracy: 0.8102\n",
            "Epoch 29/100\n",
            "107/107 [==============================] - 0s 3ms/step - loss: 0.9279 - accuracy: 0.7734 - val_loss: 0.3999 - val_accuracy: 0.8351\n",
            "Epoch 30/100\n",
            "107/107 [==============================] - 0s 3ms/step - loss: 0.4927 - accuracy: 0.8145 - val_loss: 0.6289 - val_accuracy: 0.7846\n",
            "Epoch 31/100\n",
            "107/107 [==============================] - 0s 3ms/step - loss: 0.5849 - accuracy: 0.8019 - val_loss: 0.4320 - val_accuracy: 0.8110\n",
            "Epoch 32/100\n",
            "107/107 [==============================] - 0s 3ms/step - loss: 0.5625 - accuracy: 0.8104 - val_loss: 0.6970 - val_accuracy: 0.7816\n",
            "Epoch 33/100\n",
            "107/107 [==============================] - 0s 3ms/step - loss: 1.1591 - accuracy: 0.7623 - val_loss: 0.5347 - val_accuracy: 0.8133\n",
            "Epoch 34/100\n",
            "107/107 [==============================] - 0s 3ms/step - loss: 0.5344 - accuracy: 0.8126 - val_loss: 0.3903 - val_accuracy: 0.8381\n",
            "Epoch 35/100\n",
            "107/107 [==============================] - 0s 3ms/step - loss: 0.4820 - accuracy: 0.8185 - val_loss: 0.5266 - val_accuracy: 0.8065\n",
            "Epoch 36/100\n",
            "107/107 [==============================] - 0s 3ms/step - loss: 0.4425 - accuracy: 0.8196 - val_loss: 0.3936 - val_accuracy: 0.8358\n",
            "Epoch 37/100\n",
            "107/107 [==============================] - 0s 3ms/step - loss: 0.4396 - accuracy: 0.8226 - val_loss: 0.6405 - val_accuracy: 0.7816\n",
            "Epoch 38/100\n",
            "107/107 [==============================] - 0s 3ms/step - loss: 0.7041 - accuracy: 0.7889 - val_loss: 0.3642 - val_accuracy: 0.8426\n",
            "Epoch 39/100\n",
            "107/107 [==============================] - 0s 3ms/step - loss: 0.4538 - accuracy: 0.8202 - val_loss: 0.3542 - val_accuracy: 0.8381\n",
            "Epoch 40/100\n",
            "107/107 [==============================] - 0s 3ms/step - loss: 0.6328 - accuracy: 0.7962 - val_loss: 0.4456 - val_accuracy: 0.8223\n",
            "Epoch 41/100\n",
            "107/107 [==============================] - 0s 3ms/step - loss: 0.9162 - accuracy: 0.7782 - val_loss: 0.4006 - val_accuracy: 0.8366\n",
            "Epoch 42/100\n",
            "107/107 [==============================] - 0s 3ms/step - loss: 0.4677 - accuracy: 0.8245 - val_loss: 0.3618 - val_accuracy: 0.8351\n",
            "Epoch 43/100\n",
            "107/107 [==============================] - 0s 3ms/step - loss: 0.4847 - accuracy: 0.8194 - val_loss: 0.6497 - val_accuracy: 0.7839\n",
            "Epoch 44/100\n",
            "107/107 [==============================] - 0s 3ms/step - loss: 0.4716 - accuracy: 0.8213 - val_loss: 1.0089 - val_accuracy: 0.7282\n",
            "Epoch 45/100\n",
            "107/107 [==============================] - 0s 3ms/step - loss: 0.5726 - accuracy: 0.8134 - val_loss: 0.4413 - val_accuracy: 0.8200\n",
            "Epoch 46/100\n",
            "107/107 [==============================] - 0s 3ms/step - loss: 0.5789 - accuracy: 0.8087 - val_loss: 0.4391 - val_accuracy: 0.8087\n",
            "Epoch 47/100\n",
            "107/107 [==============================] - 0s 3ms/step - loss: 0.4934 - accuracy: 0.8145 - val_loss: 1.7024 - val_accuracy: 0.6800\n",
            "Epoch 48/100\n",
            "107/107 [==============================] - 0s 3ms/step - loss: 0.8291 - accuracy: 0.7759 - val_loss: 0.7574 - val_accuracy: 0.7794\n",
            "Epoch 49/100\n",
            "107/107 [==============================] - 0s 3ms/step - loss: 0.6232 - accuracy: 0.8004 - val_loss: 0.4756 - val_accuracy: 0.8117\n",
            "Epoch 50/100\n",
            "107/107 [==============================] - 0s 3ms/step - loss: 0.6463 - accuracy: 0.7994 - val_loss: 0.6772 - val_accuracy: 0.7929\n",
            "Epoch 51/100\n",
            "107/107 [==============================] - 0s 4ms/step - loss: 0.9861 - accuracy: 0.7859 - val_loss: 0.3690 - val_accuracy: 0.8389\n",
            "Epoch 52/100\n",
            "107/107 [==============================] - 0s 4ms/step - loss: 0.5196 - accuracy: 0.8147 - val_loss: 0.3782 - val_accuracy: 0.8396\n",
            "Epoch 53/100\n",
            "107/107 [==============================] - 0s 4ms/step - loss: 0.4941 - accuracy: 0.8156 - val_loss: 0.6997 - val_accuracy: 0.7718\n",
            "Epoch 54/100\n",
            "107/107 [==============================] - 0s 4ms/step - loss: 0.5863 - accuracy: 0.8047 - val_loss: 0.6296 - val_accuracy: 0.7666\n",
            "Epoch 55/100\n",
            "107/107 [==============================] - 0s 4ms/step - loss: 0.5486 - accuracy: 0.8053 - val_loss: 0.4279 - val_accuracy: 0.8148\n",
            "Epoch 56/100\n",
            "107/107 [==============================] - 0s 4ms/step - loss: 0.5546 - accuracy: 0.8056 - val_loss: 0.5985 - val_accuracy: 0.7771\n",
            "Epoch 57/100\n",
            "107/107 [==============================] - 0s 4ms/step - loss: 0.5711 - accuracy: 0.8045 - val_loss: 0.3554 - val_accuracy: 0.8449\n",
            "Epoch 58/100\n",
            "107/107 [==============================] - 0s 3ms/step - loss: 0.6542 - accuracy: 0.8011 - val_loss: 0.3668 - val_accuracy: 0.8306\n",
            "Epoch 59/100\n",
            "107/107 [==============================] - 0s 3ms/step - loss: 0.5375 - accuracy: 0.8147 - val_loss: 0.5019 - val_accuracy: 0.8027\n",
            "Epoch 60/100\n",
            "107/107 [==============================] - 0s 3ms/step - loss: 0.4806 - accuracy: 0.8132 - val_loss: 1.1423 - val_accuracy: 0.7244\n",
            "Epoch 61/100\n",
            "107/107 [==============================] - 0s 3ms/step - loss: 0.4309 - accuracy: 0.8266 - val_loss: 0.4424 - val_accuracy: 0.8155\n",
            "Epoch 62/100\n",
            "107/107 [==============================] - 0s 3ms/step - loss: 0.5462 - accuracy: 0.8077 - val_loss: 0.4403 - val_accuracy: 0.8238\n",
            "Epoch 63/100\n",
            "107/107 [==============================] - 0s 3ms/step - loss: 0.6056 - accuracy: 0.7947 - val_loss: 0.3930 - val_accuracy: 0.8238\n",
            "Epoch 64/100\n",
            "107/107 [==============================] - 0s 3ms/step - loss: 0.5305 - accuracy: 0.8147 - val_loss: 0.5751 - val_accuracy: 0.7952\n",
            "Epoch 65/100\n",
            "107/107 [==============================] - 0s 3ms/step - loss: 0.6848 - accuracy: 0.7898 - val_loss: 0.7750 - val_accuracy: 0.7711\n",
            "Epoch 66/100\n",
            "107/107 [==============================] - 0s 3ms/step - loss: 0.5803 - accuracy: 0.8058 - val_loss: 1.3503 - val_accuracy: 0.7033\n",
            "Epoch 67/100\n",
            "107/107 [==============================] - 0s 3ms/step - loss: 0.5381 - accuracy: 0.8217 - val_loss: 0.3726 - val_accuracy: 0.8396\n",
            "Epoch 68/100\n",
            "107/107 [==============================] - 0s 3ms/step - loss: 0.4643 - accuracy: 0.8200 - val_loss: 0.4848 - val_accuracy: 0.8133\n",
            "Epoch 69/100\n",
            "107/107 [==============================] - 0s 3ms/step - loss: 0.6293 - accuracy: 0.7981 - val_loss: 0.3745 - val_accuracy: 0.8313\n",
            "Epoch 70/100\n",
            "107/107 [==============================] - 0s 3ms/step - loss: 0.5077 - accuracy: 0.8153 - val_loss: 0.3573 - val_accuracy: 0.8404\n",
            "Epoch 71/100\n",
            "107/107 [==============================] - 0s 3ms/step - loss: 0.4393 - accuracy: 0.8292 - val_loss: 0.4787 - val_accuracy: 0.8140\n",
            "Epoch 72/100\n",
            "107/107 [==============================] - 0s 3ms/step - loss: 0.4990 - accuracy: 0.8177 - val_loss: 1.1085 - val_accuracy: 0.7523\n",
            "Epoch 73/100\n",
            "107/107 [==============================] - 0s 3ms/step - loss: 0.6556 - accuracy: 0.7934 - val_loss: 0.3555 - val_accuracy: 0.8343\n",
            "Epoch 74/100\n",
            "107/107 [==============================] - 0s 3ms/step - loss: 0.4883 - accuracy: 0.8202 - val_loss: 0.5975 - val_accuracy: 0.7884\n",
            "Epoch 75/100\n",
            "107/107 [==============================] - 0s 3ms/step - loss: 0.7218 - accuracy: 0.7940 - val_loss: 0.4860 - val_accuracy: 0.8223\n",
            "Epoch 76/100\n",
            "107/107 [==============================] - 0s 3ms/step - loss: 0.4505 - accuracy: 0.8230 - val_loss: 0.5045 - val_accuracy: 0.7997\n",
            "Epoch 77/100\n",
            "107/107 [==============================] - 0s 3ms/step - loss: 0.5185 - accuracy: 0.8115 - val_loss: 0.4004 - val_accuracy: 0.8351\n",
            "Epoch 78/100\n",
            "107/107 [==============================] - 0s 3ms/step - loss: 0.5609 - accuracy: 0.8021 - val_loss: 0.3550 - val_accuracy: 0.8343\n",
            "Epoch 79/100\n",
            "107/107 [==============================] - 0s 3ms/step - loss: 0.4220 - accuracy: 0.8279 - val_loss: 0.3487 - val_accuracy: 0.8396\n",
            "Epoch 80/100\n",
            "107/107 [==============================] - 0s 3ms/step - loss: 0.6361 - accuracy: 0.8038 - val_loss: 0.4063 - val_accuracy: 0.8389\n",
            "Epoch 81/100\n",
            "107/107 [==============================] - 0s 3ms/step - loss: 0.4417 - accuracy: 0.8286 - val_loss: 0.3666 - val_accuracy: 0.8464\n",
            "Epoch 82/100\n",
            "107/107 [==============================] - 0s 3ms/step - loss: 0.4600 - accuracy: 0.8228 - val_loss: 0.4494 - val_accuracy: 0.8193\n",
            "Epoch 83/100\n",
            "107/107 [==============================] - 0s 3ms/step - loss: 0.4459 - accuracy: 0.8209 - val_loss: 0.3766 - val_accuracy: 0.8276\n",
            "Epoch 84/100\n",
            "107/107 [==============================] - 0s 3ms/step - loss: 0.6096 - accuracy: 0.8024 - val_loss: 0.6035 - val_accuracy: 0.7779\n",
            "Epoch 85/100\n",
            "107/107 [==============================] - 0s 3ms/step - loss: 0.6197 - accuracy: 0.7960 - val_loss: 1.0131 - val_accuracy: 0.7688\n",
            "Epoch 86/100\n",
            "107/107 [==============================] - 0s 3ms/step - loss: 0.7078 - accuracy: 0.8000 - val_loss: 0.4547 - val_accuracy: 0.8148\n",
            "Epoch 87/100\n",
            "107/107 [==============================] - 0s 3ms/step - loss: 0.7107 - accuracy: 0.7942 - val_loss: 0.4241 - val_accuracy: 0.8291\n",
            "Epoch 88/100\n",
            "107/107 [==============================] - 0s 3ms/step - loss: 0.4766 - accuracy: 0.8211 - val_loss: 1.2980 - val_accuracy: 0.7086\n",
            "Epoch 89/100\n",
            "107/107 [==============================] - 0s 3ms/step - loss: 0.5736 - accuracy: 0.8111 - val_loss: 0.4015 - val_accuracy: 0.8373\n",
            "Epoch 90/100\n",
            "107/107 [==============================] - 0s 4ms/step - loss: 0.5079 - accuracy: 0.8147 - val_loss: 0.8272 - val_accuracy: 0.7733\n",
            "Epoch 91/100\n",
            "107/107 [==============================] - 0s 4ms/step - loss: 0.8783 - accuracy: 0.7808 - val_loss: 0.4398 - val_accuracy: 0.8328\n",
            "Epoch 92/100\n",
            "107/107 [==============================] - 0s 4ms/step - loss: 0.4769 - accuracy: 0.8153 - val_loss: 0.6986 - val_accuracy: 0.7718\n",
            "Epoch 93/100\n",
            "107/107 [==============================] - 0s 4ms/step - loss: 0.5106 - accuracy: 0.8179 - val_loss: 0.4727 - val_accuracy: 0.8245\n",
            "Epoch 94/100\n",
            "107/107 [==============================] - 0s 4ms/step - loss: 0.4484 - accuracy: 0.8220 - val_loss: 0.3573 - val_accuracy: 0.8381\n",
            "Epoch 95/100\n",
            "107/107 [==============================] - 1s 5ms/step - loss: 0.5804 - accuracy: 0.8030 - val_loss: 0.4597 - val_accuracy: 0.8208\n",
            "Epoch 96/100\n",
            "107/107 [==============================] - 0s 4ms/step - loss: 0.4515 - accuracy: 0.8196 - val_loss: 0.3466 - val_accuracy: 0.8404\n",
            "Epoch 97/100\n",
            "107/107 [==============================] - 0s 3ms/step - loss: 0.4499 - accuracy: 0.8209 - val_loss: 0.8440 - val_accuracy: 0.7508\n",
            "Epoch 98/100\n",
            "107/107 [==============================] - 0s 3ms/step - loss: 0.5007 - accuracy: 0.8141 - val_loss: 0.3457 - val_accuracy: 0.8434\n",
            "Epoch 99/100\n",
            "107/107 [==============================] - 0s 3ms/step - loss: 0.6796 - accuracy: 0.8002 - val_loss: 0.3885 - val_accuracy: 0.8245\n",
            "Epoch 100/100\n",
            "107/107 [==============================] - 0s 3ms/step - loss: 0.4616 - accuracy: 0.8209 - val_loss: 0.3601 - val_accuracy: 0.8464\n"
          ]
        }
      ]
    },
    {
      "cell_type": "code",
      "source": [
        "y_pred2 = model.predict(x_test)\n",
        "y_pred2 = np.where(y_pred2>0.5, 1, 0)\n",
        "accuracy_score(y_test,y_pred2)"
      ],
      "metadata": {
        "colab": {
          "base_uri": "https://localhost:8080/"
        },
        "id": "9xZ31Raq-T3y",
        "outputId": "c1dc517f-61f7-490f-f426-df418d0c66ca"
      },
      "execution_count": 209,
      "outputs": [
        {
          "output_type": "stream",
          "name": "stdout",
          "text": [
            "89/89 [==============================] - 0s 1ms/step\n"
          ]
        },
        {
          "output_type": "execute_result",
          "data": {
            "text/plain": [
              "0.8418833450456782"
            ]
          },
          "metadata": {},
          "execution_count": 209
        }
      ]
    },
    {
      "cell_type": "code",
      "source": [],
      "metadata": {
        "id": "KacT-8kg-bCz"
      },
      "execution_count": 209,
      "outputs": []
    }
  ]
}