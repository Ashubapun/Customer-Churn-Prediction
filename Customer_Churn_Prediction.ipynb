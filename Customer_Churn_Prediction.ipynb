{
  "nbformat": 4,
  "nbformat_minor": 0,
  "metadata": {
    "colab": {
      "provenance": [],
      "authorship_tag": "ABX9TyNe2c9eqhWPnPWmNzjBOpa9",
      "include_colab_link": true
    },
    "kernelspec": {
      "name": "python3",
      "display_name": "Python 3"
    },
    "language_info": {
      "name": "python"
    }
  },
  "cells": [
    {
      "cell_type": "markdown",
      "metadata": {
        "id": "view-in-github",
        "colab_type": "text"
      },
      "source": [
        "<a href=\"https://colab.research.google.com/github/Ashubapun/Customer-Churn-Prediction/blob/main/Customer_Churn_Prediction.ipynb\" target=\"_parent\"><img src=\"https://colab.research.google.com/assets/colab-badge.svg\" alt=\"Open In Colab\"/></a>"
      ]
    },
    {
      "cell_type": "code",
      "execution_count": 164,
      "metadata": {
        "id": "lmvvOii2KhnA"
      },
      "outputs": [],
      "source": [
        "import numpy as np\n",
        "import pandas as pd\n",
        "import matplotlib.pyplot as plt\n",
        "%matplotlib inline\n",
        "import seaborn as sns\n",
        "import plotly.express as px"
      ]
    },
    {
      "cell_type": "code",
      "source": [
        "df = pd.read_csv('/content/Churn_Modelling (1).csv')\n",
        "df"
      ],
      "metadata": {
        "colab": {
          "base_uri": "https://localhost:8080/",
          "height": 487
        },
        "id": "ZAZej5kQNr8v",
        "outputId": "550e40ca-2a9e-4b6a-af4f-905f164803b0"
      },
      "execution_count": 165,
      "outputs": [
        {
          "output_type": "execute_result",
          "data": {
            "text/plain": [
              "      RowNumber  CustomerId    Surname  CreditScore Geography  Gender  Age  \\\n",
              "0             1    15634602   Hargrave          619    France  Female   42   \n",
              "1             2    15647311       Hill          608     Spain  Female   41   \n",
              "2             3    15619304       Onio          502    France  Female   42   \n",
              "3             4    15701354       Boni          699    France  Female   39   \n",
              "4             5    15737888   Mitchell          850     Spain  Female   43   \n",
              "...         ...         ...        ...          ...       ...     ...  ...   \n",
              "9995       9996    15606229   Obijiaku          771    France    Male   39   \n",
              "9996       9997    15569892  Johnstone          516    France    Male   35   \n",
              "9997       9998    15584532        Liu          709    France  Female   36   \n",
              "9998       9999    15682355  Sabbatini          772   Germany    Male   42   \n",
              "9999      10000    15628319     Walker          792    France  Female   28   \n",
              "\n",
              "      Tenure    Balance  NumOfProducts  HasCrCard  IsActiveMember  \\\n",
              "0          2       0.00              1          1               1   \n",
              "1          1   83807.86              1          0               1   \n",
              "2          8  159660.80              3          1               0   \n",
              "3          1       0.00              2          0               0   \n",
              "4          2  125510.82              1          1               1   \n",
              "...      ...        ...            ...        ...             ...   \n",
              "9995       5       0.00              2          1               0   \n",
              "9996      10   57369.61              1          1               1   \n",
              "9997       7       0.00              1          0               1   \n",
              "9998       3   75075.31              2          1               0   \n",
              "9999       4  130142.79              1          1               0   \n",
              "\n",
              "      EstimatedSalary  Exited  \n",
              "0           101348.88       1  \n",
              "1           112542.58       0  \n",
              "2           113931.57       1  \n",
              "3            93826.63       0  \n",
              "4            79084.10       0  \n",
              "...               ...     ...  \n",
              "9995         96270.64       0  \n",
              "9996        101699.77       0  \n",
              "9997         42085.58       1  \n",
              "9998         92888.52       1  \n",
              "9999         38190.78       0  \n",
              "\n",
              "[10000 rows x 14 columns]"
            ],
            "text/html": [
              "\n",
              "  <div id=\"df-4811a93b-8447-41de-9b60-99f059190ee4\">\n",
              "    <div class=\"colab-df-container\">\n",
              "      <div>\n",
              "<style scoped>\n",
              "    .dataframe tbody tr th:only-of-type {\n",
              "        vertical-align: middle;\n",
              "    }\n",
              "\n",
              "    .dataframe tbody tr th {\n",
              "        vertical-align: top;\n",
              "    }\n",
              "\n",
              "    .dataframe thead th {\n",
              "        text-align: right;\n",
              "    }\n",
              "</style>\n",
              "<table border=\"1\" class=\"dataframe\">\n",
              "  <thead>\n",
              "    <tr style=\"text-align: right;\">\n",
              "      <th></th>\n",
              "      <th>RowNumber</th>\n",
              "      <th>CustomerId</th>\n",
              "      <th>Surname</th>\n",
              "      <th>CreditScore</th>\n",
              "      <th>Geography</th>\n",
              "      <th>Gender</th>\n",
              "      <th>Age</th>\n",
              "      <th>Tenure</th>\n",
              "      <th>Balance</th>\n",
              "      <th>NumOfProducts</th>\n",
              "      <th>HasCrCard</th>\n",
              "      <th>IsActiveMember</th>\n",
              "      <th>EstimatedSalary</th>\n",
              "      <th>Exited</th>\n",
              "    </tr>\n",
              "  </thead>\n",
              "  <tbody>\n",
              "    <tr>\n",
              "      <th>0</th>\n",
              "      <td>1</td>\n",
              "      <td>15634602</td>\n",
              "      <td>Hargrave</td>\n",
              "      <td>619</td>\n",
              "      <td>France</td>\n",
              "      <td>Female</td>\n",
              "      <td>42</td>\n",
              "      <td>2</td>\n",
              "      <td>0.00</td>\n",
              "      <td>1</td>\n",
              "      <td>1</td>\n",
              "      <td>1</td>\n",
              "      <td>101348.88</td>\n",
              "      <td>1</td>\n",
              "    </tr>\n",
              "    <tr>\n",
              "      <th>1</th>\n",
              "      <td>2</td>\n",
              "      <td>15647311</td>\n",
              "      <td>Hill</td>\n",
              "      <td>608</td>\n",
              "      <td>Spain</td>\n",
              "      <td>Female</td>\n",
              "      <td>41</td>\n",
              "      <td>1</td>\n",
              "      <td>83807.86</td>\n",
              "      <td>1</td>\n",
              "      <td>0</td>\n",
              "      <td>1</td>\n",
              "      <td>112542.58</td>\n",
              "      <td>0</td>\n",
              "    </tr>\n",
              "    <tr>\n",
              "      <th>2</th>\n",
              "      <td>3</td>\n",
              "      <td>15619304</td>\n",
              "      <td>Onio</td>\n",
              "      <td>502</td>\n",
              "      <td>France</td>\n",
              "      <td>Female</td>\n",
              "      <td>42</td>\n",
              "      <td>8</td>\n",
              "      <td>159660.80</td>\n",
              "      <td>3</td>\n",
              "      <td>1</td>\n",
              "      <td>0</td>\n",
              "      <td>113931.57</td>\n",
              "      <td>1</td>\n",
              "    </tr>\n",
              "    <tr>\n",
              "      <th>3</th>\n",
              "      <td>4</td>\n",
              "      <td>15701354</td>\n",
              "      <td>Boni</td>\n",
              "      <td>699</td>\n",
              "      <td>France</td>\n",
              "      <td>Female</td>\n",
              "      <td>39</td>\n",
              "      <td>1</td>\n",
              "      <td>0.00</td>\n",
              "      <td>2</td>\n",
              "      <td>0</td>\n",
              "      <td>0</td>\n",
              "      <td>93826.63</td>\n",
              "      <td>0</td>\n",
              "    </tr>\n",
              "    <tr>\n",
              "      <th>4</th>\n",
              "      <td>5</td>\n",
              "      <td>15737888</td>\n",
              "      <td>Mitchell</td>\n",
              "      <td>850</td>\n",
              "      <td>Spain</td>\n",
              "      <td>Female</td>\n",
              "      <td>43</td>\n",
              "      <td>2</td>\n",
              "      <td>125510.82</td>\n",
              "      <td>1</td>\n",
              "      <td>1</td>\n",
              "      <td>1</td>\n",
              "      <td>79084.10</td>\n",
              "      <td>0</td>\n",
              "    </tr>\n",
              "    <tr>\n",
              "      <th>...</th>\n",
              "      <td>...</td>\n",
              "      <td>...</td>\n",
              "      <td>...</td>\n",
              "      <td>...</td>\n",
              "      <td>...</td>\n",
              "      <td>...</td>\n",
              "      <td>...</td>\n",
              "      <td>...</td>\n",
              "      <td>...</td>\n",
              "      <td>...</td>\n",
              "      <td>...</td>\n",
              "      <td>...</td>\n",
              "      <td>...</td>\n",
              "      <td>...</td>\n",
              "    </tr>\n",
              "    <tr>\n",
              "      <th>9995</th>\n",
              "      <td>9996</td>\n",
              "      <td>15606229</td>\n",
              "      <td>Obijiaku</td>\n",
              "      <td>771</td>\n",
              "      <td>France</td>\n",
              "      <td>Male</td>\n",
              "      <td>39</td>\n",
              "      <td>5</td>\n",
              "      <td>0.00</td>\n",
              "      <td>2</td>\n",
              "      <td>1</td>\n",
              "      <td>0</td>\n",
              "      <td>96270.64</td>\n",
              "      <td>0</td>\n",
              "    </tr>\n",
              "    <tr>\n",
              "      <th>9996</th>\n",
              "      <td>9997</td>\n",
              "      <td>15569892</td>\n",
              "      <td>Johnstone</td>\n",
              "      <td>516</td>\n",
              "      <td>France</td>\n",
              "      <td>Male</td>\n",
              "      <td>35</td>\n",
              "      <td>10</td>\n",
              "      <td>57369.61</td>\n",
              "      <td>1</td>\n",
              "      <td>1</td>\n",
              "      <td>1</td>\n",
              "      <td>101699.77</td>\n",
              "      <td>0</td>\n",
              "    </tr>\n",
              "    <tr>\n",
              "      <th>9997</th>\n",
              "      <td>9998</td>\n",
              "      <td>15584532</td>\n",
              "      <td>Liu</td>\n",
              "      <td>709</td>\n",
              "      <td>France</td>\n",
              "      <td>Female</td>\n",
              "      <td>36</td>\n",
              "      <td>7</td>\n",
              "      <td>0.00</td>\n",
              "      <td>1</td>\n",
              "      <td>0</td>\n",
              "      <td>1</td>\n",
              "      <td>42085.58</td>\n",
              "      <td>1</td>\n",
              "    </tr>\n",
              "    <tr>\n",
              "      <th>9998</th>\n",
              "      <td>9999</td>\n",
              "      <td>15682355</td>\n",
              "      <td>Sabbatini</td>\n",
              "      <td>772</td>\n",
              "      <td>Germany</td>\n",
              "      <td>Male</td>\n",
              "      <td>42</td>\n",
              "      <td>3</td>\n",
              "      <td>75075.31</td>\n",
              "      <td>2</td>\n",
              "      <td>1</td>\n",
              "      <td>0</td>\n",
              "      <td>92888.52</td>\n",
              "      <td>1</td>\n",
              "    </tr>\n",
              "    <tr>\n",
              "      <th>9999</th>\n",
              "      <td>10000</td>\n",
              "      <td>15628319</td>\n",
              "      <td>Walker</td>\n",
              "      <td>792</td>\n",
              "      <td>France</td>\n",
              "      <td>Female</td>\n",
              "      <td>28</td>\n",
              "      <td>4</td>\n",
              "      <td>130142.79</td>\n",
              "      <td>1</td>\n",
              "      <td>1</td>\n",
              "      <td>0</td>\n",
              "      <td>38190.78</td>\n",
              "      <td>0</td>\n",
              "    </tr>\n",
              "  </tbody>\n",
              "</table>\n",
              "<p>10000 rows × 14 columns</p>\n",
              "</div>\n",
              "      <button class=\"colab-df-convert\" onclick=\"convertToInteractive('df-4811a93b-8447-41de-9b60-99f059190ee4')\"\n",
              "              title=\"Convert this dataframe to an interactive table.\"\n",
              "              style=\"display:none;\">\n",
              "        \n",
              "  <svg xmlns=\"http://www.w3.org/2000/svg\" height=\"24px\"viewBox=\"0 0 24 24\"\n",
              "       width=\"24px\">\n",
              "    <path d=\"M0 0h24v24H0V0z\" fill=\"none\"/>\n",
              "    <path d=\"M18.56 5.44l.94 2.06.94-2.06 2.06-.94-2.06-.94-.94-2.06-.94 2.06-2.06.94zm-11 1L8.5 8.5l.94-2.06 2.06-.94-2.06-.94L8.5 2.5l-.94 2.06-2.06.94zm10 10l.94 2.06.94-2.06 2.06-.94-2.06-.94-.94-2.06-.94 2.06-2.06.94z\"/><path d=\"M17.41 7.96l-1.37-1.37c-.4-.4-.92-.59-1.43-.59-.52 0-1.04.2-1.43.59L10.3 9.45l-7.72 7.72c-.78.78-.78 2.05 0 2.83L4 21.41c.39.39.9.59 1.41.59.51 0 1.02-.2 1.41-.59l7.78-7.78 2.81-2.81c.8-.78.8-2.07 0-2.86zM5.41 20L4 18.59l7.72-7.72 1.47 1.35L5.41 20z\"/>\n",
              "  </svg>\n",
              "      </button>\n",
              "      \n",
              "  <style>\n",
              "    .colab-df-container {\n",
              "      display:flex;\n",
              "      flex-wrap:wrap;\n",
              "      gap: 12px;\n",
              "    }\n",
              "\n",
              "    .colab-df-convert {\n",
              "      background-color: #E8F0FE;\n",
              "      border: none;\n",
              "      border-radius: 50%;\n",
              "      cursor: pointer;\n",
              "      display: none;\n",
              "      fill: #1967D2;\n",
              "      height: 32px;\n",
              "      padding: 0 0 0 0;\n",
              "      width: 32px;\n",
              "    }\n",
              "\n",
              "    .colab-df-convert:hover {\n",
              "      background-color: #E2EBFA;\n",
              "      box-shadow: 0px 1px 2px rgba(60, 64, 67, 0.3), 0px 1px 3px 1px rgba(60, 64, 67, 0.15);\n",
              "      fill: #174EA6;\n",
              "    }\n",
              "\n",
              "    [theme=dark] .colab-df-convert {\n",
              "      background-color: #3B4455;\n",
              "      fill: #D2E3FC;\n",
              "    }\n",
              "\n",
              "    [theme=dark] .colab-df-convert:hover {\n",
              "      background-color: #434B5C;\n",
              "      box-shadow: 0px 1px 3px 1px rgba(0, 0, 0, 0.15);\n",
              "      filter: drop-shadow(0px 1px 2px rgba(0, 0, 0, 0.3));\n",
              "      fill: #FFFFFF;\n",
              "    }\n",
              "  </style>\n",
              "\n",
              "      <script>\n",
              "        const buttonEl =\n",
              "          document.querySelector('#df-4811a93b-8447-41de-9b60-99f059190ee4 button.colab-df-convert');\n",
              "        buttonEl.style.display =\n",
              "          google.colab.kernel.accessAllowed ? 'block' : 'none';\n",
              "\n",
              "        async function convertToInteractive(key) {\n",
              "          const element = document.querySelector('#df-4811a93b-8447-41de-9b60-99f059190ee4');\n",
              "          const dataTable =\n",
              "            await google.colab.kernel.invokeFunction('convertToInteractive',\n",
              "                                                     [key], {});\n",
              "          if (!dataTable) return;\n",
              "\n",
              "          const docLinkHtml = 'Like what you see? Visit the ' +\n",
              "            '<a target=\"_blank\" href=https://colab.research.google.com/notebooks/data_table.ipynb>data table notebook</a>'\n",
              "            + ' to learn more about interactive tables.';\n",
              "          element.innerHTML = '';\n",
              "          dataTable['output_type'] = 'display_data';\n",
              "          await google.colab.output.renderOutput(dataTable, element);\n",
              "          const docLink = document.createElement('div');\n",
              "          docLink.innerHTML = docLinkHtml;\n",
              "          element.appendChild(docLink);\n",
              "        }\n",
              "      </script>\n",
              "    </div>\n",
              "  </div>\n",
              "  "
            ]
          },
          "metadata": {},
          "execution_count": 165
        }
      ]
    },
    {
      "cell_type": "code",
      "source": [
        "df.columns"
      ],
      "metadata": {
        "colab": {
          "base_uri": "https://localhost:8080/"
        },
        "id": "yhespMhzNy7V",
        "outputId": "0bf8dd81-3554-4490-d6e4-69ca2ed87fe3"
      },
      "execution_count": 166,
      "outputs": [
        {
          "output_type": "execute_result",
          "data": {
            "text/plain": [
              "Index(['RowNumber', 'CustomerId', 'Surname', 'CreditScore', 'Geography',\n",
              "       'Gender', 'Age', 'Tenure', 'Balance', 'NumOfProducts', 'HasCrCard',\n",
              "       'IsActiveMember', 'EstimatedSalary', 'Exited'],\n",
              "      dtype='object')"
            ]
          },
          "metadata": {},
          "execution_count": 166
        }
      ]
    },
    {
      "cell_type": "code",
      "source": [
        "df.info()"
      ],
      "metadata": {
        "colab": {
          "base_uri": "https://localhost:8080/"
        },
        "id": "cXIBm421N3W9",
        "outputId": "b69ff970-28ed-448f-f302-bde4ca96589d"
      },
      "execution_count": 167,
      "outputs": [
        {
          "output_type": "stream",
          "name": "stdout",
          "text": [
            "<class 'pandas.core.frame.DataFrame'>\n",
            "RangeIndex: 10000 entries, 0 to 9999\n",
            "Data columns (total 14 columns):\n",
            " #   Column           Non-Null Count  Dtype  \n",
            "---  ------           --------------  -----  \n",
            " 0   RowNumber        10000 non-null  int64  \n",
            " 1   CustomerId       10000 non-null  int64  \n",
            " 2   Surname          10000 non-null  object \n",
            " 3   CreditScore      10000 non-null  int64  \n",
            " 4   Geography        10000 non-null  object \n",
            " 5   Gender           10000 non-null  object \n",
            " 6   Age              10000 non-null  int64  \n",
            " 7   Tenure           10000 non-null  int64  \n",
            " 8   Balance          10000 non-null  float64\n",
            " 9   NumOfProducts    10000 non-null  int64  \n",
            " 10  HasCrCard        10000 non-null  int64  \n",
            " 11  IsActiveMember   10000 non-null  int64  \n",
            " 12  EstimatedSalary  10000 non-null  float64\n",
            " 13  Exited           10000 non-null  int64  \n",
            "dtypes: float64(2), int64(9), object(3)\n",
            "memory usage: 1.1+ MB\n"
          ]
        }
      ]
    },
    {
      "cell_type": "code",
      "source": [
        "df.drop(columns = ['RowNumber',\t'CustomerId',\t'Surname'], inplace = True)"
      ],
      "metadata": {
        "id": "dWxgv7whN7aE"
      },
      "execution_count": 168,
      "outputs": []
    },
    {
      "cell_type": "code",
      "source": [
        "df.head()"
      ],
      "metadata": {
        "colab": {
          "base_uri": "https://localhost:8080/",
          "height": 206
        },
        "id": "7Bc_0OkTOPC1",
        "outputId": "665ca8df-6cb3-4bca-a0c2-bc1c9107a385"
      },
      "execution_count": 169,
      "outputs": [
        {
          "output_type": "execute_result",
          "data": {
            "text/plain": [
              "   CreditScore Geography  Gender  Age  Tenure    Balance  NumOfProducts  \\\n",
              "0          619    France  Female   42       2       0.00              1   \n",
              "1          608     Spain  Female   41       1   83807.86              1   \n",
              "2          502    France  Female   42       8  159660.80              3   \n",
              "3          699    France  Female   39       1       0.00              2   \n",
              "4          850     Spain  Female   43       2  125510.82              1   \n",
              "\n",
              "   HasCrCard  IsActiveMember  EstimatedSalary  Exited  \n",
              "0          1               1        101348.88       1  \n",
              "1          0               1        112542.58       0  \n",
              "2          1               0        113931.57       1  \n",
              "3          0               0         93826.63       0  \n",
              "4          1               1         79084.10       0  "
            ],
            "text/html": [
              "\n",
              "  <div id=\"df-ed291ad6-641a-48ff-9a04-9d3e63b15a56\">\n",
              "    <div class=\"colab-df-container\">\n",
              "      <div>\n",
              "<style scoped>\n",
              "    .dataframe tbody tr th:only-of-type {\n",
              "        vertical-align: middle;\n",
              "    }\n",
              "\n",
              "    .dataframe tbody tr th {\n",
              "        vertical-align: top;\n",
              "    }\n",
              "\n",
              "    .dataframe thead th {\n",
              "        text-align: right;\n",
              "    }\n",
              "</style>\n",
              "<table border=\"1\" class=\"dataframe\">\n",
              "  <thead>\n",
              "    <tr style=\"text-align: right;\">\n",
              "      <th></th>\n",
              "      <th>CreditScore</th>\n",
              "      <th>Geography</th>\n",
              "      <th>Gender</th>\n",
              "      <th>Age</th>\n",
              "      <th>Tenure</th>\n",
              "      <th>Balance</th>\n",
              "      <th>NumOfProducts</th>\n",
              "      <th>HasCrCard</th>\n",
              "      <th>IsActiveMember</th>\n",
              "      <th>EstimatedSalary</th>\n",
              "      <th>Exited</th>\n",
              "    </tr>\n",
              "  </thead>\n",
              "  <tbody>\n",
              "    <tr>\n",
              "      <th>0</th>\n",
              "      <td>619</td>\n",
              "      <td>France</td>\n",
              "      <td>Female</td>\n",
              "      <td>42</td>\n",
              "      <td>2</td>\n",
              "      <td>0.00</td>\n",
              "      <td>1</td>\n",
              "      <td>1</td>\n",
              "      <td>1</td>\n",
              "      <td>101348.88</td>\n",
              "      <td>1</td>\n",
              "    </tr>\n",
              "    <tr>\n",
              "      <th>1</th>\n",
              "      <td>608</td>\n",
              "      <td>Spain</td>\n",
              "      <td>Female</td>\n",
              "      <td>41</td>\n",
              "      <td>1</td>\n",
              "      <td>83807.86</td>\n",
              "      <td>1</td>\n",
              "      <td>0</td>\n",
              "      <td>1</td>\n",
              "      <td>112542.58</td>\n",
              "      <td>0</td>\n",
              "    </tr>\n",
              "    <tr>\n",
              "      <th>2</th>\n",
              "      <td>502</td>\n",
              "      <td>France</td>\n",
              "      <td>Female</td>\n",
              "      <td>42</td>\n",
              "      <td>8</td>\n",
              "      <td>159660.80</td>\n",
              "      <td>3</td>\n",
              "      <td>1</td>\n",
              "      <td>0</td>\n",
              "      <td>113931.57</td>\n",
              "      <td>1</td>\n",
              "    </tr>\n",
              "    <tr>\n",
              "      <th>3</th>\n",
              "      <td>699</td>\n",
              "      <td>France</td>\n",
              "      <td>Female</td>\n",
              "      <td>39</td>\n",
              "      <td>1</td>\n",
              "      <td>0.00</td>\n",
              "      <td>2</td>\n",
              "      <td>0</td>\n",
              "      <td>0</td>\n",
              "      <td>93826.63</td>\n",
              "      <td>0</td>\n",
              "    </tr>\n",
              "    <tr>\n",
              "      <th>4</th>\n",
              "      <td>850</td>\n",
              "      <td>Spain</td>\n",
              "      <td>Female</td>\n",
              "      <td>43</td>\n",
              "      <td>2</td>\n",
              "      <td>125510.82</td>\n",
              "      <td>1</td>\n",
              "      <td>1</td>\n",
              "      <td>1</td>\n",
              "      <td>79084.10</td>\n",
              "      <td>0</td>\n",
              "    </tr>\n",
              "  </tbody>\n",
              "</table>\n",
              "</div>\n",
              "      <button class=\"colab-df-convert\" onclick=\"convertToInteractive('df-ed291ad6-641a-48ff-9a04-9d3e63b15a56')\"\n",
              "              title=\"Convert this dataframe to an interactive table.\"\n",
              "              style=\"display:none;\">\n",
              "        \n",
              "  <svg xmlns=\"http://www.w3.org/2000/svg\" height=\"24px\"viewBox=\"0 0 24 24\"\n",
              "       width=\"24px\">\n",
              "    <path d=\"M0 0h24v24H0V0z\" fill=\"none\"/>\n",
              "    <path d=\"M18.56 5.44l.94 2.06.94-2.06 2.06-.94-2.06-.94-.94-2.06-.94 2.06-2.06.94zm-11 1L8.5 8.5l.94-2.06 2.06-.94-2.06-.94L8.5 2.5l-.94 2.06-2.06.94zm10 10l.94 2.06.94-2.06 2.06-.94-2.06-.94-.94-2.06-.94 2.06-2.06.94z\"/><path d=\"M17.41 7.96l-1.37-1.37c-.4-.4-.92-.59-1.43-.59-.52 0-1.04.2-1.43.59L10.3 9.45l-7.72 7.72c-.78.78-.78 2.05 0 2.83L4 21.41c.39.39.9.59 1.41.59.51 0 1.02-.2 1.41-.59l7.78-7.78 2.81-2.81c.8-.78.8-2.07 0-2.86zM5.41 20L4 18.59l7.72-7.72 1.47 1.35L5.41 20z\"/>\n",
              "  </svg>\n",
              "      </button>\n",
              "      \n",
              "  <style>\n",
              "    .colab-df-container {\n",
              "      display:flex;\n",
              "      flex-wrap:wrap;\n",
              "      gap: 12px;\n",
              "    }\n",
              "\n",
              "    .colab-df-convert {\n",
              "      background-color: #E8F0FE;\n",
              "      border: none;\n",
              "      border-radius: 50%;\n",
              "      cursor: pointer;\n",
              "      display: none;\n",
              "      fill: #1967D2;\n",
              "      height: 32px;\n",
              "      padding: 0 0 0 0;\n",
              "      width: 32px;\n",
              "    }\n",
              "\n",
              "    .colab-df-convert:hover {\n",
              "      background-color: #E2EBFA;\n",
              "      box-shadow: 0px 1px 2px rgba(60, 64, 67, 0.3), 0px 1px 3px 1px rgba(60, 64, 67, 0.15);\n",
              "      fill: #174EA6;\n",
              "    }\n",
              "\n",
              "    [theme=dark] .colab-df-convert {\n",
              "      background-color: #3B4455;\n",
              "      fill: #D2E3FC;\n",
              "    }\n",
              "\n",
              "    [theme=dark] .colab-df-convert:hover {\n",
              "      background-color: #434B5C;\n",
              "      box-shadow: 0px 1px 3px 1px rgba(0, 0, 0, 0.15);\n",
              "      filter: drop-shadow(0px 1px 2px rgba(0, 0, 0, 0.3));\n",
              "      fill: #FFFFFF;\n",
              "    }\n",
              "  </style>\n",
              "\n",
              "      <script>\n",
              "        const buttonEl =\n",
              "          document.querySelector('#df-ed291ad6-641a-48ff-9a04-9d3e63b15a56 button.colab-df-convert');\n",
              "        buttonEl.style.display =\n",
              "          google.colab.kernel.accessAllowed ? 'block' : 'none';\n",
              "\n",
              "        async function convertToInteractive(key) {\n",
              "          const element = document.querySelector('#df-ed291ad6-641a-48ff-9a04-9d3e63b15a56');\n",
              "          const dataTable =\n",
              "            await google.colab.kernel.invokeFunction('convertToInteractive',\n",
              "                                                     [key], {});\n",
              "          if (!dataTable) return;\n",
              "\n",
              "          const docLinkHtml = 'Like what you see? Visit the ' +\n",
              "            '<a target=\"_blank\" href=https://colab.research.google.com/notebooks/data_table.ipynb>data table notebook</a>'\n",
              "            + ' to learn more about interactive tables.';\n",
              "          element.innerHTML = '';\n",
              "          dataTable['output_type'] = 'display_data';\n",
              "          await google.colab.output.renderOutput(dataTable, element);\n",
              "          const docLink = document.createElement('div');\n",
              "          docLink.innerHTML = docLinkHtml;\n",
              "          element.appendChild(docLink);\n",
              "        }\n",
              "      </script>\n",
              "    </div>\n",
              "  </div>\n",
              "  "
            ]
          },
          "metadata": {},
          "execution_count": 169
        }
      ]
    },
    {
      "cell_type": "code",
      "source": [
        "df['Geography'].value_counts()"
      ],
      "metadata": {
        "colab": {
          "base_uri": "https://localhost:8080/"
        },
        "id": "BCHoEW6LOQok",
        "outputId": "efc8bd49-e1c4-479d-ac26-a4b03d132d45"
      },
      "execution_count": 170,
      "outputs": [
        {
          "output_type": "execute_result",
          "data": {
            "text/plain": [
              "France     5014\n",
              "Germany    2509\n",
              "Spain      2477\n",
              "Name: Geography, dtype: int64"
            ]
          },
          "metadata": {},
          "execution_count": 170
        }
      ]
    },
    {
      "cell_type": "code",
      "source": [
        "df['Gender'].value_counts()"
      ],
      "metadata": {
        "colab": {
          "base_uri": "https://localhost:8080/"
        },
        "id": "kfLQtr-ROaqU",
        "outputId": "52b777d0-ce1d-4956-b411-cf921adb6529"
      },
      "execution_count": 171,
      "outputs": [
        {
          "output_type": "execute_result",
          "data": {
            "text/plain": [
              "Male      5457\n",
              "Female    4543\n",
              "Name: Gender, dtype: int64"
            ]
          },
          "metadata": {},
          "execution_count": 171
        }
      ]
    },
    {
      "cell_type": "code",
      "source": [
        "df['Exited'].value_counts()"
      ],
      "metadata": {
        "colab": {
          "base_uri": "https://localhost:8080/"
        },
        "id": "HIRNXPduOito",
        "outputId": "0a901fb1-4bf6-4889-cf32-9ac7eb3c87d1"
      },
      "execution_count": 172,
      "outputs": [
        {
          "output_type": "execute_result",
          "data": {
            "text/plain": [
              "0    7963\n",
              "1    2037\n",
              "Name: Exited, dtype: int64"
            ]
          },
          "metadata": {},
          "execution_count": 172
        }
      ]
    },
    {
      "cell_type": "code",
      "source": [
        "sns.countplot(data = df, x = df['Exited'])"
      ],
      "metadata": {
        "colab": {
          "base_uri": "https://localhost:8080/",
          "height": 466
        },
        "id": "Q8U7W8s8OwqY",
        "outputId": "a0301dc7-abe8-4a53-d332-6720b20abf7c"
      },
      "execution_count": 173,
      "outputs": [
        {
          "output_type": "execute_result",
          "data": {
            "text/plain": [
              "<Axes: xlabel='Exited', ylabel='count'>"
            ]
          },
          "metadata": {},
          "execution_count": 173
        },
        {
          "output_type": "display_data",
          "data": {
            "text/plain": [
              "<Figure size 640x480 with 1 Axes>"
            ],
            "image/png": "[encoded data removed]"
          },
          "metadata": {}
        }
      ]
    },
    {
      "cell_type": "code",
      "source": [
        "df = pd.get_dummies(df,columns=['Geography','Gender'],drop_first=True)"
      ],
      "metadata": {
        "id": "AmDuk33qRpaj"
      },
      "execution_count": 174,
      "outputs": []
    },
    {
      "cell_type": "code",
      "source": [
        "df.shape"
      ],
      "metadata": {
        "colab": {
          "base_uri": "https://localhost:8080/"
        },
        "id": "4Q_PhAnTVzeD",
        "outputId": "81e8feea-57fe-42ec-da70-ace700962ec2"
      },
      "execution_count": 175,
      "outputs": [
        {
          "output_type": "execute_result",
          "data": {
            "text/plain": [
              "(10000, 12)"
            ]
          },
          "metadata": {},
          "execution_count": 175
        }
      ]
    },
    {
      "cell_type": "code",
      "source": [
        "df_x = df.drop(columns = 'Exited')\n",
        "df_y = df['Exited']"
      ],
      "metadata": {
        "id": "hjP1Ww7HVtYS"
      },
      "execution_count": 176,
      "outputs": []
    },
    {
      "cell_type": "code",
      "source": [
        "df_x.head()"
      ],
      "metadata": {
        "colab": {
          "base_uri": "https://localhost:8080/",
          "height": 206
        },
        "id": "KMDPzGkKR3ox",
        "outputId": "f30af485-ad65-4c9c-d2a7-84a40cb37bcb"
      },
      "execution_count": 177,
      "outputs": [
        {
          "output_type": "execute_result",
          "data": {
            "text/plain": [
              "   CreditScore  Age  Tenure    Balance  NumOfProducts  HasCrCard  \\\n",
              "0          619   42       2       0.00              1          1   \n",
              "1          608   41       1   83807.86              1          0   \n",
              "2          502   42       8  159660.80              3          1   \n",
              "3          699   39       1       0.00              2          0   \n",
              "4          850   43       2  125510.82              1          1   \n",
              "\n",
              "   IsActiveMember  EstimatedSalary  Geography_Germany  Geography_Spain  \\\n",
              "0               1        101348.88                  0                0   \n",
              "1               1        112542.58                  0                1   \n",
              "2               0        113931.57                  0                0   \n",
              "3               0         93826.63                  0                0   \n",
              "4               1         79084.10                  0                1   \n",
              "\n",
              "   Gender_Male  \n",
              "0            0  \n",
              "1            0  \n",
              "2            0  \n",
              "3            0  \n",
              "4            0  "
            ],
            "text/html": [
              "\n",
              "  <div id=\"df-da18496d-780f-421b-a938-de65491447f3\">\n",
              "    <div class=\"colab-df-container\">\n",
              "      <div>\n",
              "<style scoped>\n",
              "    .dataframe tbody tr th:only-of-type {\n",
              "        vertical-align: middle;\n",
              "    }\n",
              "\n",
              "    .dataframe tbody tr th {\n",
              "        vertical-align: top;\n",
              "    }\n",
              "\n",
              "    .dataframe thead th {\n",
              "        text-align: right;\n",
              "    }\n",
              "</style>\n",
              "<table border=\"1\" class=\"dataframe\">\n",
              "  <thead>\n",
              "    <tr style=\"text-align: right;\">\n",
              "      <th></th>\n",
              "      <th>CreditScore</th>\n",
              "      <th>Age</th>\n",
              "      <th>Tenure</th>\n",
              "      <th>Balance</th>\n",
              "      <th>NumOfProducts</th>\n",
              "      <th>HasCrCard</th>\n",
              "      <th>IsActiveMember</th>\n",
              "      <th>EstimatedSalary</th>\n",
              "      <th>Geography_Germany</th>\n",
              "      <th>Geography_Spain</th>\n",
              "      <th>Gender_Male</th>\n",
              "    </tr>\n",
              "  </thead>\n",
              "  <tbody>\n",
              "    <tr>\n",
              "      <th>0</th>\n",
              "      <td>619</td>\n",
              "      <td>42</td>\n",
              "      <td>2</td>\n",
              "      <td>0.00</td>\n",
              "      <td>1</td>\n",
              "      <td>1</td>\n",
              "      <td>1</td>\n",
              "      <td>101348.88</td>\n",
              "      <td>0</td>\n",
              "      <td>0</td>\n",
              "      <td>0</td>\n",
              "    </tr>\n",
              "    <tr>\n",
              "      <th>1</th>\n",
              "      <td>608</td>\n",
              "      <td>41</td>\n",
              "      <td>1</td>\n",
              "      <td>83807.86</td>\n",
              "      <td>1</td>\n",
              "      <td>0</td>\n",
              "      <td>1</td>\n",
              "      <td>112542.58</td>\n",
              "      <td>0</td>\n",
              "      <td>1</td>\n",
              "      <td>0</td>\n",
              "    </tr>\n",
              "    <tr>\n",
              "      <th>2</th>\n",
              "      <td>502</td>\n",
              "      <td>42</td>\n",
              "      <td>8</td>\n",
              "      <td>159660.80</td>\n",
              "      <td>3</td>\n",
              "      <td>1</td>\n",
              "      <td>0</td>\n",
              "      <td>113931.57</td>\n",
              "      <td>0</td>\n",
              "      <td>0</td>\n",
              "      <td>0</td>\n",
              "    </tr>\n",
              "    <tr>\n",
              "      <th>3</th>\n",
              "      <td>699</td>\n",
              "      <td>39</td>\n",
              "      <td>1</td>\n",
              "      <td>0.00</td>\n",
              "      <td>2</td>\n",
              "      <td>0</td>\n",
              "      <td>0</td>\n",
              "      <td>93826.63</td>\n",
              "      <td>0</td>\n",
              "      <td>0</td>\n",
              "      <td>0</td>\n",
              "    </tr>\n",
              "    <tr>\n",
              "      <th>4</th>\n",
              "      <td>850</td>\n",
              "      <td>43</td>\n",
              "      <td>2</td>\n",
              "      <td>125510.82</td>\n",
              "      <td>1</td>\n",
              "      <td>1</td>\n",
              "      <td>1</td>\n",
              "      <td>79084.10</td>\n",
              "      <td>0</td>\n",
              "      <td>1</td>\n",
              "      <td>0</td>\n",
              "    </tr>\n",
              "  </tbody>\n",
              "</table>\n",
              "</div>\n",
              "      <button class=\"colab-df-convert\" onclick=\"convertToInteractive('df-da18496d-780f-421b-a938-de65491447f3')\"\n",
              "              title=\"Convert this dataframe to an interactive table.\"\n",
              "              style=\"display:none;\">\n",
              "        \n",
              "  <svg xmlns=\"http://www.w3.org/2000/svg\" height=\"24px\"viewBox=\"0 0 24 24\"\n",
              "       width=\"24px\">\n",
              "    <path d=\"M0 0h24v24H0V0z\" fill=\"none\"/>\n",
              "    <path d=\"M18.56 5.44l.94 2.06.94-2.06 2.06-.94-2.06-.94-.94-2.06-.94 2.06-2.06.94zm-11 1L8.5 8.5l.94-2.06 2.06-.94-2.06-.94L8.5 2.5l-.94 2.06-2.06.94zm10 10l.94 2.06.94-2.06 2.06-.94-2.06-.94-.94-2.06-.94 2.06-2.06.94z\"/><path d=\"M17.41 7.96l-1.37-1.37c-.4-.4-.92-.59-1.43-.59-.52 0-1.04.2-1.43.59L10.3 9.45l-7.72 7.72c-.78.78-.78 2.05 0 2.83L4 21.41c.39.39.9.59 1.41.59.51 0 1.02-.2 1.41-.59l7.78-7.78 2.81-2.81c.8-.78.8-2.07 0-2.86zM5.41 20L4 18.59l7.72-7.72 1.47 1.35L5.41 20z\"/>\n",
              "  </svg>\n",
              "      </button>\n",
              "      \n",
              "  <style>\n",
              "    .colab-df-container {\n",
              "      display:flex;\n",
              "      flex-wrap:wrap;\n",
              "      gap: 12px;\n",
              "    }\n",
              "\n",
              "    .colab-df-convert {\n",
              "      background-color: #E8F0FE;\n",
              "      border: none;\n",
              "      border-radius: 50%;\n",
              "      cursor: pointer;\n",
              "      display: none;\n",
              "      fill: #1967D2;\n",
              "      height: 32px;\n",
              "      padding: 0 0 0 0;\n",
              "      width: 32px;\n",
              "    }\n",
              "\n",
              "    .colab-df-convert:hover {\n",
              "      background-color: #E2EBFA;\n",
              "      box-shadow: 0px 1px 2px rgba(60, 64, 67, 0.3), 0px 1px 3px 1px rgba(60, 64, 67, 0.15);\n",
              "      fill: #174EA6;\n",
              "    }\n",
              "\n",
              "    [theme=dark] .colab-df-convert {\n",
              "      background-color: #3B4455;\n",
              "      fill: #D2E3FC;\n",
              "    }\n",
              "\n",
              "    [theme=dark] .colab-df-convert:hover {\n",
              "      background-color: #434B5C;\n",
              "      box-shadow: 0px 1px 3px 1px rgba(0, 0, 0, 0.15);\n",
              "      filter: drop-shadow(0px 1px 2px rgba(0, 0, 0, 0.3));\n",
              "      fill: #FFFFFF;\n",
              "    }\n",
              "  </style>\n",
              "\n",
              "      <script>\n",
              "        const buttonEl =\n",
              "          document.querySelector('#df-da18496d-780f-421b-a938-de65491447f3 button.colab-df-convert');\n",
              "        buttonEl.style.display =\n",
              "          google.colab.kernel.accessAllowed ? 'block' : 'none';\n",
              "\n",
              "        async function convertToInteractive(key) {\n",
              "          const element = document.querySelector('#df-da18496d-780f-421b-a938-de65491447f3');\n",
              "          const dataTable =\n",
              "            await google.colab.kernel.invokeFunction('convertToInteractive',\n",
              "                                                     [key], {});\n",
              "          if (!dataTable) return;\n",
              "\n",
              "          const docLinkHtml = 'Like what you see? Visit the ' +\n",
              "            '<a target=\"_blank\" href=https://colab.research.google.com/notebooks/data_table.ipynb>data table notebook</a>'\n",
              "            + ' to learn more about interactive tables.';\n",
              "          element.innerHTML = '';\n",
              "          dataTable['output_type'] = 'display_data';\n",
              "          await google.colab.output.renderOutput(dataTable, element);\n",
              "          const docLink = document.createElement('div');\n",
              "          docLink.innerHTML = docLinkHtml;\n",
              "          element.appendChild(docLink);\n",
              "        }\n",
              "      </script>\n",
              "    </div>\n",
              "  </div>\n",
              "  "
            ]
          },
          "metadata": {},
          "execution_count": 177
        }
      ]
    },
    {
      "cell_type": "code",
      "source": [
        "df_x.shape"
      ],
      "metadata": {
        "colab": {
          "base_uri": "https://localhost:8080/"
        },
        "id": "GeKRKW28R7KY",
        "outputId": "8ca71a07-611d-4966-acd3-b8aa45f7b7d0"
      },
      "execution_count": 178,
      "outputs": [
        {
          "output_type": "execute_result",
          "data": {
            "text/plain": [
              "(10000, 11)"
            ]
          },
          "metadata": {},
          "execution_count": 178
        }
      ]
    },
    {
      "cell_type": "markdown",
      "source": [
        "# Handling Imbalanced Data"
      ],
      "metadata": {
        "id": "2x9LHyFePQrt"
      }
    },
    {
      "cell_type": "code",
      "source": [
        "# from imblearn.combine import SMOTETomek\n",
        "# # Implementing Oversampling for Handling Imbalanced \n",
        "# smt = SMOTETomek(random_state=42)\n",
        "# x, y = smt.fit_resample(df_x,df_y)"
      ],
      "metadata": {
        "id": "v3BiH4mwPLBm"
      },
      "execution_count": 179,
      "outputs": []
    },
    {
      "cell_type": "code",
      "source": [
        "## RandomOverSampler to handle imbalanced data\n",
        "from imblearn.over_sampling import RandomOverSampler\n",
        "ros =  RandomOverSampler(sampling_strategy = 1.0)\n",
        "X_train_res, Y_train_res = ros.fit_resample(df_x, df_y)"
      ],
      "metadata": {
        "id": "AwmNdDHXQj7O"
      },
      "execution_count": 180,
      "outputs": []
    },
    {
      "cell_type": "code",
      "source": [
        "X_train_res"
      ],
      "metadata": {
        "colab": {
          "base_uri": "https://localhost:8080/",
          "height": 467
        },
        "id": "6qSt-RrqSMWH",
        "outputId": "bb842154-a0c9-4d66-f13b-4131ff91e74b"
      },
      "execution_count": 181,
      "outputs": [
        {
          "output_type": "execute_result",
          "data": {
            "text/plain": [
              "       CreditScore  Age  Tenure    Balance  NumOfProducts  HasCrCard  \\\n",
              "0              619   42       2       0.00              1          1   \n",
              "1              608   41       1   83807.86              1          0   \n",
              "2              502   42       8  159660.80              3          1   \n",
              "3              699   39       1       0.00              2          0   \n",
              "4              850   43       2  125510.82              1          1   \n",
              "...            ...  ...     ...        ...            ...        ...   \n",
              "15921          641   33       2  146193.60              2          1   \n",
              "15922          718   41       1       0.00              2          0   \n",
              "15923          590   37       0   64345.21              1          0   \n",
              "15924          608   41       3   89763.84              1          0   \n",
              "15925          641   35       2  103711.56              1          0   \n",
              "\n",
              "       IsActiveMember  EstimatedSalary  Geography_Germany  Geography_Spain  \\\n",
              "0                   1        101348.88                  0                0   \n",
              "1                   1        112542.58                  0                1   \n",
              "2                   0        113931.57                  0                0   \n",
              "3                   0         93826.63                  0                0   \n",
              "4                   1         79084.10                  0                1   \n",
              "...               ...              ...                ...              ...   \n",
              "15921               1         55796.83                  0                0   \n",
              "15922               1         27509.52                  0                0   \n",
              "15923               1         61759.33                  0                1   \n",
              "15924               0        199304.74                  0                1   \n",
              "15925               1        192464.21                  1                0   \n",
              "\n",
              "       Gender_Male  \n",
              "0                0  \n",
              "1                0  \n",
              "2                0  \n",
              "3                0  \n",
              "4                0  \n",
              "...            ...  \n",
              "15921            1  \n",
              "15922            0  \n",
              "15923            0  \n",
              "15924            0  \n",
              "15925            1  \n",
              "\n",
              "[15926 rows x 11 columns]"
            ],
            "text/html": [
              "\n",
              "  <div id=\"df-b1250577-c6ea-4d53-a016-9b4543947c0d\">\n",
              "    <div class=\"colab-df-container\">\n",
              "      <div>\n",
              "<style scoped>\n",
              "    .dataframe tbody tr th:only-of-type {\n",
              "        vertical-align: middle;\n",
              "    }\n",
              "\n",
              "    .dataframe tbody tr th {\n",
              "        vertical-align: top;\n",
              "    }\n",
              "\n",
              "    .dataframe thead th {\n",
              "        text-align: right;\n",
              "    }\n",
              "</style>\n",
              "<table border=\"1\" class=\"dataframe\">\n",
              "  <thead>\n",
              "    <tr style=\"text-align: right;\">\n",
              "      <th></th>\n",
              "      <th>CreditScore</th>\n",
              "      <th>Age</th>\n",
              "      <th>Tenure</th>\n",
              "      <th>Balance</th>\n",
              "      <th>NumOfProducts</th>\n",
              "      <th>HasCrCard</th>\n",
              "      <th>IsActiveMember</th>\n",
              "      <th>EstimatedSalary</th>\n",
              "      <th>Geography_Germany</th>\n",
              "      <th>Geography_Spain</th>\n",
              "      <th>Gender_Male</th>\n",
              "    </tr>\n",
              "  </thead>\n",
              "  <tbody>\n",
              "    <tr>\n",
              "      <th>0</th>\n",
              "      <td>619</td>\n",
              "      <td>42</td>\n",
              "      <td>2</td>\n",
              "      <td>0.00</td>\n",
              "      <td>1</td>\n",
              "      <td>1</td>\n",
              "      <td>1</td>\n",
              "      <td>101348.88</td>\n",
              "      <td>0</td>\n",
              "      <td>0</td>\n",
              "      <td>0</td>\n",
              "    </tr>\n",
              "    <tr>\n",
              "      <th>1</th>\n",
              "      <td>608</td>\n",
              "      <td>41</td>\n",
              "      <td>1</td>\n",
              "      <td>83807.86</td>\n",
              "      <td>1</td>\n",
              "      <td>0</td>\n",
              "      <td>1</td>\n",
              "      <td>112542.58</td>\n",
              "      <td>0</td>\n",
              "      <td>1</td>\n",
              "      <td>0</td>\n",
              "    </tr>\n",
              "    <tr>\n",
              "      <th>2</th>\n",
              "      <td>502</td>\n",
              "      <td>42</td>\n",
              "      <td>8</td>\n",
              "      <td>159660.80</td>\n",
              "      <td>3</td>\n",
              "      <td>1</td>\n",
              "      <td>0</td>\n",
              "      <td>113931.57</td>\n",
              "      <td>0</td>\n",
              "      <td>0</td>\n",
              "      <td>0</td>\n",
              "    </tr>\n",
              "    <tr>\n",
              "      <th>3</th>\n",
              "      <td>699</td>\n",
              "      <td>39</td>\n",
              "      <td>1</td>\n",
              "      <td>0.00</td>\n",
              "      <td>2</td>\n",
              "      <td>0</td>\n",
              "      <td>0</td>\n",
              "      <td>93826.63</td>\n",
              "      <td>0</td>\n",
              "      <td>0</td>\n",
              "      <td>0</td>\n",
              "    </tr>\n",
              "    <tr>\n",
              "      <th>4</th>\n",
              "      <td>850</td>\n",
              "      <td>43</td>\n",
              "      <td>2</td>\n",
              "      <td>125510.82</td>\n",
              "      <td>1</td>\n",
              "      <td>1</td>\n",
              "      <td>1</td>\n",
              "      <td>79084.10</td>\n",
              "      <td>0</td>\n",
              "      <td>1</td>\n",
              "      <td>0</td>\n",
              "    </tr>\n",
              "    <tr>\n",
              "      <th>...</th>\n",
              "      <td>...</td>\n",
              "      <td>...</td>\n",
              "      <td>...</td>\n",
              "      <td>...</td>\n",
              "      <td>...</td>\n",
              "      <td>...</td>\n",
              "      <td>...</td>\n",
              "      <td>...</td>\n",
              "      <td>...</td>\n",
              "      <td>...</td>\n",
              "      <td>...</td>\n",
              "    </tr>\n",
              "    <tr>\n",
              "      <th>15921</th>\n",
              "      <td>641</td>\n",
              "      <td>33</td>\n",
              "      <td>2</td>\n",
              "      <td>146193.60</td>\n",
              "      <td>2</td>\n",
              "      <td>1</td>\n",
              "      <td>1</td>\n",
              "      <td>55796.83</td>\n",
              "      <td>0</td>\n",
              "      <td>0</td>\n",
              "      <td>1</td>\n",
              "    </tr>\n",
              "    <tr>\n",
              "      <th>15922</th>\n",
              "      <td>718</td>\n",
              "      <td>41</td>\n",
              "      <td>1</td>\n",
              "      <td>0.00</td>\n",
              "      <td>2</td>\n",
              "      <td>0</td>\n",
              "      <td>1</td>\n",
              "      <td>27509.52</td>\n",
              "      <td>0</td>\n",
              "      <td>0</td>\n",
              "      <td>0</td>\n",
              "    </tr>\n",
              "    <tr>\n",
              "      <th>15923</th>\n",
              "      <td>590</td>\n",
              "      <td>37</td>\n",
              "      <td>0</td>\n",
              "      <td>64345.21</td>\n",
              "      <td>1</td>\n",
              "      <td>0</td>\n",
              "      <td>1</td>\n",
              "      <td>61759.33</td>\n",
              "      <td>0</td>\n",
              "      <td>1</td>\n",
              "      <td>0</td>\n",
              "    </tr>\n",
              "    <tr>\n",
              "      <th>15924</th>\n",
              "      <td>608</td>\n",
              "      <td>41</td>\n",
              "      <td>3</td>\n",
              "      <td>89763.84</td>\n",
              "      <td>1</td>\n",
              "      <td>0</td>\n",
              "      <td>0</td>\n",
              "      <td>199304.74</td>\n",
              "      <td>0</td>\n",
              "      <td>1</td>\n",
              "      <td>0</td>\n",
              "    </tr>\n",
              "    <tr>\n",
              "      <th>15925</th>\n",
              "      <td>641</td>\n",
              "      <td>35</td>\n",
              "      <td>2</td>\n",
              "      <td>103711.56</td>\n",
              "      <td>1</td>\n",
              "      <td>0</td>\n",
              "      <td>1</td>\n",
              "      <td>192464.21</td>\n",
              "      <td>1</td>\n",
              "      <td>0</td>\n",
              "      <td>1</td>\n",
              "    </tr>\n",
              "  </tbody>\n",
              "</table>\n",
              "<p>15926 rows × 11 columns</p>\n",
              "</div>\n",
              "      <button class=\"colab-df-convert\" onclick=\"convertToInteractive('df-b1250577-c6ea-4d53-a016-9b4543947c0d')\"\n",
              "              title=\"Convert this dataframe to an interactive table.\"\n",
              "              style=\"display:none;\">\n",
              "        \n",
              "  <svg xmlns=\"http://www.w3.org/2000/svg\" height=\"24px\"viewBox=\"0 0 24 24\"\n",
              "       width=\"24px\">\n",
              "    <path d=\"M0 0h24v24H0V0z\" fill=\"none\"/>\n",
              "    <path d=\"M18.56 5.44l.94 2.06.94-2.06 2.06-.94-2.06-.94-.94-2.06-.94 2.06-2.06.94zm-11 1L8.5 8.5l.94-2.06 2.06-.94-2.06-.94L8.5 2.5l-.94 2.06-2.06.94zm10 10l.94 2.06.94-2.06 2.06-.94-2.06-.94-.94-2.06-.94 2.06-2.06.94z\"/><path d=\"M17.41 7.96l-1.37-1.37c-.4-.4-.92-.59-1.43-.59-.52 0-1.04.2-1.43.59L10.3 9.45l-7.72 7.72c-.78.78-.78 2.05 0 2.83L4 21.41c.39.39.9.59 1.41.59.51 0 1.02-.2 1.41-.59l7.78-7.78 2.81-2.81c.8-.78.8-2.07 0-2.86zM5.41 20L4 18.59l7.72-7.72 1.47 1.35L5.41 20z\"/>\n",
              "  </svg>\n",
              "      </button>\n",
              "      \n",
              "  <style>\n",
              "    .colab-df-container {\n",
              "      display:flex;\n",
              "      flex-wrap:wrap;\n",
              "      gap: 12px;\n",
              "    }\n",
              "\n",
              "    .colab-df-convert {\n",
              "      background-color: #E8F0FE;\n",
              "      border: none;\n",
              "      border-radius: 50%;\n",
              "      cursor: pointer;\n",
              "      display: none;\n",
              "      fill: #1967D2;\n",
              "      height: 32px;\n",
              "      padding: 0 0 0 0;\n",
              "      width: 32px;\n",
              "    }\n",
              "\n",
              "    .colab-df-convert:hover {\n",
              "      background-color: #E2EBFA;\n",
              "      box-shadow: 0px 1px 2px rgba(60, 64, 67, 0.3), 0px 1px 3px 1px rgba(60, 64, 67, 0.15);\n",
              "      fill: #174EA6;\n",
              "    }\n",
              "\n",
              "    [theme=dark] .colab-df-convert {\n",
              "      background-color: #3B4455;\n",
              "      fill: #D2E3FC;\n",
              "    }\n",
              "\n",
              "    [theme=dark] .colab-df-convert:hover {\n",
              "      background-color: #434B5C;\n",
              "      box-shadow: 0px 1px 3px 1px rgba(0, 0, 0, 0.15);\n",
              "      filter: drop-shadow(0px 1px 2px rgba(0, 0, 0, 0.3));\n",
              "      fill: #FFFFFF;\n",
              "    }\n",
              "  </style>\n",
              "\n",
              "      <script>\n",
              "        const buttonEl =\n",
              "          document.querySelector('#df-b1250577-c6ea-4d53-a016-9b4543947c0d button.colab-df-convert');\n",
              "        buttonEl.style.display =\n",
              "          google.colab.kernel.accessAllowed ? 'block' : 'none';\n",
              "\n",
              "        async function convertToInteractive(key) {\n",
              "          const element = document.querySelector('#df-b1250577-c6ea-4d53-a016-9b4543947c0d');\n",
              "          const dataTable =\n",
              "            await google.colab.kernel.invokeFunction('convertToInteractive',\n",
              "                                                     [key], {});\n",
              "          if (!dataTable) return;\n",
              "\n",
              "          const docLinkHtml = 'Like what you see? Visit the ' +\n",
              "            '<a target=\"_blank\" href=https://colab.research.google.com/notebooks/data_table.ipynb>data table notebook</a>'\n",
              "            + ' to learn more about interactive tables.';\n",
              "          element.innerHTML = '';\n",
              "          dataTable['output_type'] = 'display_data';\n",
              "          await google.colab.output.renderOutput(dataTable, element);\n",
              "          const docLink = document.createElement('div');\n",
              "          docLink.innerHTML = docLinkHtml;\n",
              "          element.appendChild(docLink);\n",
              "        }\n",
              "      </script>\n",
              "    </div>\n",
              "  </div>\n",
              "  "
            ]
          },
          "metadata": {},
          "execution_count": 181
        }
      ]
    },
    {
      "cell_type": "code",
      "source": [
        "Y_train_res"
      ],
      "metadata": {
        "colab": {
          "base_uri": "https://localhost:8080/"
        },
        "id": "IsiyM7PeS343",
        "outputId": "514c6c6f-313f-4849-831c-97dfb8e78372"
      },
      "execution_count": 182,
      "outputs": [
        {
          "output_type": "execute_result",
          "data": {
            "text/plain": [
              "0        1\n",
              "1        0\n",
              "2        1\n",
              "3        0\n",
              "4        0\n",
              "        ..\n",
              "15921    1\n",
              "15922    1\n",
              "15923    1\n",
              "15924    1\n",
              "15925    1\n",
              "Name: Exited, Length: 15926, dtype: int64"
            ]
          },
          "metadata": {},
          "execution_count": 182
        }
      ]
    },
    {
      "cell_type": "markdown",
      "source": [
        "**Test train split**"
      ],
      "metadata": {
        "id": "p9wQfPiZTHxY"
      }
    },
    {
      "cell_type": "code",
      "source": [
        "from sklearn.model_selection import train_test_split\n",
        "x_train, x_test, y_train, y_test = train_test_split(X_train_res, Y_train_res, random_state = 1, test_size = 0.25)"
      ],
      "metadata": {
        "id": "ANN9RGdZS6dh"
      },
      "execution_count": 183,
      "outputs": []
    },
    {
      "cell_type": "code",
      "source": [
        "x_train.shape, y_train.shape"
      ],
      "metadata": {
        "colab": {
          "base_uri": "https://localhost:8080/"
        },
        "id": "x2G1XIHVTjCQ",
        "outputId": "f4afaca1-7b1d-4386-c5ec-fdd33025f4bf"
      },
      "execution_count": 184,
      "outputs": [
        {
          "output_type": "execute_result",
          "data": {
            "text/plain": [
              "((11944, 11), (11944,))"
            ]
          },
          "metadata": {},
          "execution_count": 184
        }
      ]
    },
    {
      "cell_type": "code",
      "source": [
        "x_test.shape, y_test.shape"
      ],
      "metadata": {
        "colab": {
          "base_uri": "https://localhost:8080/"
        },
        "id": "JFEL7tgcUM-E",
        "outputId": "0ba44056-d80a-45d7-e3cf-21e348f744b0"
      },
      "execution_count": 185,
      "outputs": [
        {
          "output_type": "execute_result",
          "data": {
            "text/plain": [
              "((3982, 11), (3982,))"
            ]
          },
          "metadata": {},
          "execution_count": 185
        }
      ]
    },
    {
      "cell_type": "markdown",
      "source": [
        "**Scaling the x_train and x_test**"
      ],
      "metadata": {
        "id": "Q-wJqNvaUcVe"
      }
    },
    {
      "cell_type": "code",
      "source": [
        "from sklearn.preprocessing import StandardScaler\n",
        "scaler = StandardScaler()\n",
        "\n",
        "x_train = scaler.fit_transform(x_train)\n",
        "x_test = scaler.transform(x_test)"
      ],
      "metadata": {
        "id": "kT8CiiEWUS8W"
      },
      "execution_count": 186,
      "outputs": []
    },
    {
      "cell_type": "code",
      "source": [
        "import tensorflow\n",
        "from tensorflow import keras\n",
        "from tensorflow.keras import Sequential \n",
        "from tensorflow.keras.layers import Dense"
      ],
      "metadata": {
        "id": "BcbqIz1-Un8C"
      },
      "execution_count": 187,
      "outputs": []
    },
    {
      "cell_type": "code",
      "source": [
        "model = Sequential()\n",
        "model.add(Dense(11,activation='relu',input_dim=11))\n",
        "model.add(Dense(1,activation='sigmoid'))"
      ],
      "metadata": {
        "id": "7mklYhqNUtG_"
      },
      "execution_count": 188,
      "outputs": []
    },
    {
      "cell_type": "code",
      "source": [
        "model.summary()"
      ],
      "metadata": {
        "colab": {
          "base_uri": "https://localhost:8080/"
        },
        "id": "C-AzIsrfZFj-",
        "outputId": "ba0325cb-fdf0-48f5-e87f-a71e9e0ceedf"
      },
      "execution_count": 189,
      "outputs": [
        {
          "output_type": "stream",
          "name": "stdout",
          "text": [
            "Model: \"sequential_4\"\n",
            "_________________________________________________________________\n",
            " Layer (type)                Output Shape              Param #   \n",
            "=================================================================\n",
            " dense_9 (Dense)             (None, 11)                132       \n",
            "                                                                 \n",
            " dense_10 (Dense)            (None, 1)                 12        \n",
            "                                                                 \n",
            "=================================================================\n",
            "Total params: 144\n",
            "Trainable params: 144\n",
            "Non-trainable params: 0\n",
            "_________________________________________________________________\n"
          ]
        }
      ]
    },
    {
      "cell_type": "code",
      "source": [
        "model.compile(optimizer='Adam',loss='binary_crossentropy',metrics=['accuracy'])"
      ],
      "metadata": {
        "id": "XKJO4KQPZIgU"
      },
      "execution_count": 190,
      "outputs": []
    },
    {
      "cell_type": "code",
      "source": [
        "history = model.fit(x_train,y_train,batch_size=50,epochs=50, verbose=1,validation_split=0.2)"
      ],
      "metadata": {
        "colab": {
          "base_uri": "https://localhost:8080/"
        },
        "id": "CGu6brHMZPRy",
        "outputId": "019c6a0a-c50b-4ad3-f35c-50a4f8f1ce92"
      },
      "execution_count": 197,
      "outputs": [
        {
          "output_type": "stream",
          "name": "stdout",
          "text": [
            "Epoch 1/50\n",
            "192/192 [==============================] - 1s 7ms/step - loss: 0.5241 - accuracy: 0.7401 - val_loss: 0.5227 - val_accuracy: 0.7501\n",
            "Epoch 2/50\n",
            "192/192 [==============================] - 1s 7ms/step - loss: 0.5123 - accuracy: 0.7481 - val_loss: 0.5077 - val_accuracy: 0.7522\n",
            "Epoch 3/50\n",
            "192/192 [==============================] - 1s 6ms/step - loss: 0.5014 - accuracy: 0.7546 - val_loss: 0.4956 - val_accuracy: 0.7656\n",
            "Epoch 4/50\n",
            "192/192 [==============================] - 2s 10ms/step - loss: 0.4929 - accuracy: 0.7542 - val_loss: 0.4875 - val_accuracy: 0.7677\n",
            "Epoch 5/50\n",
            "192/192 [==============================] - 2s 12ms/step - loss: 0.4864 - accuracy: 0.7588 - val_loss: 0.4810 - val_accuracy: 0.7731\n",
            "Epoch 6/50\n",
            "192/192 [==============================] - 1s 6ms/step - loss: 0.4815 - accuracy: 0.7609 - val_loss: 0.4757 - val_accuracy: 0.7744\n",
            "Epoch 7/50\n",
            "192/192 [==============================] - 1s 7ms/step - loss: 0.4776 - accuracy: 0.7637 - val_loss: 0.4714 - val_accuracy: 0.7727\n",
            "Epoch 8/50\n",
            "192/192 [==============================] - 1s 7ms/step - loss: 0.4752 - accuracy: 0.7630 - val_loss: 0.4686 - val_accuracy: 0.7794\n",
            "Epoch 9/50\n",
            "192/192 [==============================] - 1s 4ms/step - loss: 0.4721 - accuracy: 0.7653 - val_loss: 0.4666 - val_accuracy: 0.7815\n",
            "Epoch 10/50\n",
            "192/192 [==============================] - 1s 3ms/step - loss: 0.4702 - accuracy: 0.7658 - val_loss: 0.4657 - val_accuracy: 0.7878\n",
            "Epoch 11/50\n",
            "192/192 [==============================] - 1s 3ms/step - loss: 0.4682 - accuracy: 0.7667 - val_loss: 0.4628 - val_accuracy: 0.7903\n",
            "Epoch 12/50\n",
            "192/192 [==============================] - 0s 2ms/step - loss: 0.4669 - accuracy: 0.7663 - val_loss: 0.4613 - val_accuracy: 0.7899\n",
            "Epoch 13/50\n",
            "192/192 [==============================] - 1s 3ms/step - loss: 0.4657 - accuracy: 0.7680 - val_loss: 0.4611 - val_accuracy: 0.7878\n",
            "Epoch 14/50\n",
            "192/192 [==============================] - 1s 3ms/step - loss: 0.4649 - accuracy: 0.7666 - val_loss: 0.4595 - val_accuracy: 0.7911\n",
            "Epoch 15/50\n",
            "192/192 [==============================] - 1s 3ms/step - loss: 0.4641 - accuracy: 0.7673 - val_loss: 0.4589 - val_accuracy: 0.7907\n",
            "Epoch 16/50\n",
            "192/192 [==============================] - 1s 3ms/step - loss: 0.4633 - accuracy: 0.7695 - val_loss: 0.4580 - val_accuracy: 0.7886\n",
            "Epoch 17/50\n",
            "192/192 [==============================] - 1s 3ms/step - loss: 0.4627 - accuracy: 0.7703 - val_loss: 0.4578 - val_accuracy: 0.7895\n",
            "Epoch 18/50\n",
            "192/192 [==============================] - 1s 3ms/step - loss: 0.4621 - accuracy: 0.7678 - val_loss: 0.4579 - val_accuracy: 0.7911\n",
            "Epoch 19/50\n",
            "192/192 [==============================] - 1s 4ms/step - loss: 0.4620 - accuracy: 0.7695 - val_loss: 0.4569 - val_accuracy: 0.7911\n",
            "Epoch 20/50\n",
            "192/192 [==============================] - 1s 4ms/step - loss: 0.4613 - accuracy: 0.7700 - val_loss: 0.4570 - val_accuracy: 0.7915\n",
            "Epoch 21/50\n",
            "192/192 [==============================] - 1s 4ms/step - loss: 0.4611 - accuracy: 0.7683 - val_loss: 0.4560 - val_accuracy: 0.7882\n",
            "Epoch 22/50\n",
            "192/192 [==============================] - 1s 3ms/step - loss: 0.4605 - accuracy: 0.7700 - val_loss: 0.4559 - val_accuracy: 0.7890\n",
            "Epoch 23/50\n",
            "192/192 [==============================] - 1s 3ms/step - loss: 0.4602 - accuracy: 0.7690 - val_loss: 0.4556 - val_accuracy: 0.7882\n",
            "Epoch 24/50\n",
            "192/192 [==============================] - 1s 3ms/step - loss: 0.4597 - accuracy: 0.7680 - val_loss: 0.4553 - val_accuracy: 0.7869\n",
            "Epoch 25/50\n",
            "192/192 [==============================] - 1s 3ms/step - loss: 0.4597 - accuracy: 0.7686 - val_loss: 0.4563 - val_accuracy: 0.7878\n",
            "Epoch 26/50\n",
            "192/192 [==============================] - 1s 4ms/step - loss: 0.4593 - accuracy: 0.7710 - val_loss: 0.4556 - val_accuracy: 0.7899\n",
            "Epoch 27/50\n",
            "192/192 [==============================] - 1s 3ms/step - loss: 0.4591 - accuracy: 0.7709 - val_loss: 0.4554 - val_accuracy: 0.7907\n",
            "Epoch 28/50\n",
            "192/192 [==============================] - 0s 3ms/step - loss: 0.4589 - accuracy: 0.7707 - val_loss: 0.4553 - val_accuracy: 0.7869\n",
            "Epoch 29/50\n",
            "192/192 [==============================] - 1s 3ms/step - loss: 0.4584 - accuracy: 0.7696 - val_loss: 0.4551 - val_accuracy: 0.7882\n",
            "Epoch 30/50\n",
            "192/192 [==============================] - 1s 3ms/step - loss: 0.4582 - accuracy: 0.7706 - val_loss: 0.4550 - val_accuracy: 0.7890\n",
            "Epoch 31/50\n",
            "192/192 [==============================] - 1s 3ms/step - loss: 0.4578 - accuracy: 0.7710 - val_loss: 0.4551 - val_accuracy: 0.7857\n",
            "Epoch 32/50\n",
            "192/192 [==============================] - 1s 3ms/step - loss: 0.4576 - accuracy: 0.7686 - val_loss: 0.4548 - val_accuracy: 0.7865\n",
            "Epoch 33/50\n",
            "192/192 [==============================] - 1s 3ms/step - loss: 0.4575 - accuracy: 0.7712 - val_loss: 0.4551 - val_accuracy: 0.7869\n",
            "Epoch 34/50\n",
            "192/192 [==============================] - 1s 3ms/step - loss: 0.4575 - accuracy: 0.7710 - val_loss: 0.4543 - val_accuracy: 0.7874\n",
            "Epoch 35/50\n",
            "192/192 [==============================] - 1s 3ms/step - loss: 0.4573 - accuracy: 0.7720 - val_loss: 0.4543 - val_accuracy: 0.7853\n",
            "Epoch 36/50\n",
            "192/192 [==============================] - 1s 4ms/step - loss: 0.4571 - accuracy: 0.7726 - val_loss: 0.4543 - val_accuracy: 0.7853\n",
            "Epoch 37/50\n",
            "192/192 [==============================] - 1s 3ms/step - loss: 0.4569 - accuracy: 0.7713 - val_loss: 0.4552 - val_accuracy: 0.7874\n",
            "Epoch 38/50\n",
            "192/192 [==============================] - 0s 2ms/step - loss: 0.4564 - accuracy: 0.7710 - val_loss: 0.4549 - val_accuracy: 0.7844\n",
            "Epoch 39/50\n",
            "192/192 [==============================] - 1s 4ms/step - loss: 0.4566 - accuracy: 0.7729 - val_loss: 0.4537 - val_accuracy: 0.7840\n",
            "Epoch 40/50\n",
            "192/192 [==============================] - 1s 4ms/step - loss: 0.4564 - accuracy: 0.7731 - val_loss: 0.4536 - val_accuracy: 0.7857\n",
            "Epoch 41/50\n",
            "192/192 [==============================] - 1s 4ms/step - loss: 0.4564 - accuracy: 0.7718 - val_loss: 0.4525 - val_accuracy: 0.7878\n",
            "Epoch 42/50\n",
            "192/192 [==============================] - 1s 4ms/step - loss: 0.4563 - accuracy: 0.7724 - val_loss: 0.4531 - val_accuracy: 0.7832\n",
            "Epoch 43/50\n",
            "192/192 [==============================] - 1s 3ms/step - loss: 0.4559 - accuracy: 0.7750 - val_loss: 0.4533 - val_accuracy: 0.7878\n",
            "Epoch 44/50\n",
            "192/192 [==============================] - 1s 3ms/step - loss: 0.4560 - accuracy: 0.7740 - val_loss: 0.4526 - val_accuracy: 0.7836\n",
            "Epoch 45/50\n",
            "192/192 [==============================] - 0s 2ms/step - loss: 0.4557 - accuracy: 0.7734 - val_loss: 0.4540 - val_accuracy: 0.7882\n",
            "Epoch 46/50\n",
            "192/192 [==============================] - 0s 2ms/step - loss: 0.4558 - accuracy: 0.7750 - val_loss: 0.4526 - val_accuracy: 0.7844\n",
            "Epoch 47/50\n",
            "192/192 [==============================] - 1s 3ms/step - loss: 0.4557 - accuracy: 0.7754 - val_loss: 0.4529 - val_accuracy: 0.7853\n",
            "Epoch 48/50\n",
            "192/192 [==============================] - 1s 3ms/step - loss: 0.4554 - accuracy: 0.7760 - val_loss: 0.4531 - val_accuracy: 0.7886\n",
            "Epoch 49/50\n",
            "192/192 [==============================] - 1s 4ms/step - loss: 0.4550 - accuracy: 0.7739 - val_loss: 0.4522 - val_accuracy: 0.7840\n",
            "Epoch 50/50\n",
            "192/192 [==============================] - 1s 4ms/step - loss: 0.4551 - accuracy: 0.7734 - val_loss: 0.4524 - val_accuracy: 0.7844\n"
          ]
        }
      ]
    },
    {
      "cell_type": "code",
      "source": [
        "model.layers[0].get_weights()"
      ],
      "metadata": {
        "colab": {
          "base_uri": "https://localhost:8080/"
        },
        "id": "EF1M1W98cn5y",
        "outputId": "e1b4d67a-ae64-4ee3-cbb9-ba64bc38ead2"
      },
      "execution_count": 198,
      "outputs": [
        {
          "output_type": "execute_result",
          "data": {
            "text/plain": [
              "[array([[ 0.12519945,  0.15218247,  0.1604561 , -0.14930893,  0.22961687,\n",
              "         -0.18438703, -0.10571232,  0.4534762 , -0.43474677,  0.5255669 ,\n",
              "          0.04999818],\n",
              "        [-0.7488295 ,  0.8312884 , -0.00880423, -0.56806463, -0.10828977,\n",
              "         -0.47928745, -0.8342141 , -0.01550424,  0.50872785, -0.59651726,\n",
              "         -0.21209015],\n",
              "        [ 0.0895956 ,  0.30848798,  0.32434   , -0.27959728,  0.05990913,\n",
              "          0.21891181, -0.19876185, -0.07235117, -0.35740623, -0.33333004,\n",
              "         -0.4124425 ],\n",
              "        [-0.17136782, -0.21321559, -0.02325908, -0.3406117 ,  0.11676418,\n",
              "         -0.33611292,  0.02527318, -0.12605362,  0.64607006, -0.36131102,\n",
              "         -0.92130077],\n",
              "        [-0.3355416 ,  0.33806244, -1.5488929 ,  0.07655904,  1.5553277 ,\n",
              "          0.00864064,  0.03300606, -0.07123827,  1.142593  ,  0.08397532,\n",
              "         -1.4402335 ],\n",
              "        [ 0.12647396,  0.2208817 , -0.04755678, -0.43401036, -0.12510814,\n",
              "          0.13365915, -0.00445762,  0.1546055 ,  0.07370444, -0.37752986,\n",
              "         -0.02752297],\n",
              "        [-0.22618568,  1.2150702 , -0.15371318, -0.07874647,  0.09782761,\n",
              "          0.41500813, -0.5425268 ,  0.5110907 , -0.63336456,  0.25058722,\n",
              "         -0.23038995],\n",
              "        [-0.03128581,  0.25725842,  0.3416291 , -0.50314623, -0.06075154,\n",
              "         -0.282855  ,  0.2523267 , -0.45005524,  0.11015499,  0.40643683,\n",
              "         -0.22895752],\n",
              "        [-0.327249  , -0.3201102 , -0.34388357, -0.08665286, -0.19276483,\n",
              "          0.11257695, -0.11309569, -0.70879394, -0.14508764,  0.1730607 ,\n",
              "          0.7128364 ],\n",
              "        [ 0.24920537,  0.24171767, -0.0853681 ,  0.4780042 ,  0.05030884,\n",
              "         -0.69038975, -0.28496873, -0.31212708,  0.1493189 , -0.07693282,\n",
              "          0.00591729],\n",
              "        [ 0.34989223,  0.19446914, -0.01701113, -0.37480652,  0.00614378,\n",
              "          0.38787156, -0.19784503,  0.06806097, -0.34600964,  0.41254696,\n",
              "          0.17432779]], dtype=float32),\n",
              " array([ 0.5847963 , -0.35741782,  0.1798975 ,  0.5677431 , -0.9828837 ,\n",
              "        -0.08418708,  0.9577939 ,  0.43400022,  0.19127274,  0.36001688,\n",
              "         0.25162163], dtype=float32)]"
            ]
          },
          "metadata": {},
          "execution_count": 198
        }
      ]
    },
    {
      "cell_type": "code",
      "source": [
        "model.layers[1].get_weights()"
      ],
      "metadata": {
        "colab": {
          "base_uri": "https://localhost:8080/"
        },
        "id": "dhbncytic1D_",
        "outputId": "33a7a8c7-5b49-4dd2-e790-4f47e3f0586b"
      },
      "execution_count": 199,
      "outputs": [
        {
          "output_type": "execute_result",
          "data": {
            "text/plain": [
              "[array([[-0.6129289 ],\n",
              "        [-0.58053404],\n",
              "        [ 0.89588517],\n",
              "        [-0.29222795],\n",
              "        [ 1.5285834 ],\n",
              "        [-0.57932454],\n",
              "        [-0.73261994],\n",
              "        [-0.15223847],\n",
              "        [ 0.65446866],\n",
              "        [-0.45586577],\n",
              "        [ 1.0370307 ]], dtype=float32),\n",
              " array([0.10049492], dtype=float32)]"
            ]
          },
          "metadata": {},
          "execution_count": 199
        }
      ]
    },
    {
      "cell_type": "code",
      "source": [
        "y_pred = model.predict(x_test)\n",
        "y_pred"
      ],
      "metadata": {
        "colab": {
          "base_uri": "https://localhost:8080/"
        },
        "id": "rfHXqi4sZRhQ",
        "outputId": "c97c3713-0262-40a8-f3f8-ff73e7924694"
      },
      "execution_count": 200,
      "outputs": [
        {
          "output_type": "stream",
          "name": "stdout",
          "text": [
            "125/125 [==============================] - 0s 2ms/step\n"
          ]
        },
        {
          "output_type": "execute_result",
          "data": {
            "text/plain": [
              "array([[0.26406324],\n",
              "       [0.83380425],\n",
              "       [0.9519859 ],\n",
              "       ...,\n",
              "       [0.05245766],\n",
              "       [0.32127202],\n",
              "       [0.01109781]], dtype=float32)"
            ]
          },
          "metadata": {},
          "execution_count": 200
        }
      ]
    },
    {
      "cell_type": "code",
      "source": [
        "# y_pred = y_pred.argmax(axis=-1)\n",
        "y_pred = np.where(y_pred>0.5, 1, 0)"
      ],
      "metadata": {
        "id": "aX7P23I0ZsdM"
      },
      "execution_count": 201,
      "outputs": []
    },
    {
      "cell_type": "code",
      "source": [
        "from sklearn.metrics import accuracy_score\n",
        "accuracy_score(y_test,y_pred)"
      ],
      "metadata": {
        "colab": {
          "base_uri": "https://localhost:8080/"
        },
        "id": "zRNK6ykwZwSm",
        "outputId": "97ff0b55-472f-4f17-9c79-4831ea358406"
      },
      "execution_count": 202,
      "outputs": [
        {
          "output_type": "execute_result",
          "data": {
            "text/plain": [
              "0.7712204922149674"
            ]
          },
          "metadata": {},
          "execution_count": 202
        }
      ]
    },
    {
      "cell_type": "code",
      "source": [
        "model = Sequential()\n",
        "model.add(Dense(11,activation='relu',input_dim=11))\n",
        "model.add(Dense(11, activation = 'relu'))\n",
        "model.add(Dense(1,activation='sigmoid'))\n",
        "model.compile(optimizer='Adam',loss='binary_crossentropy',metrics=['accuracy'])\n",
        "history = model.fit(x_train,y_train,batch_size=50,epochs=100, verbose=1,validation_split=0.2)\n",
        "y_pred1 = model.predict(x_test)\n",
        "y_pred1"
      ],
      "metadata": {
        "id": "1bIiqclfZ36x",
        "colab": {
          "base_uri": "https://localhost:8080/"
        },
        "outputId": "208218ad-9b88-497a-e484-d1f272899008"
      },
      "execution_count": 210,
      "outputs": [
        {
          "output_type": "stream",
          "name": "stdout",
          "text": [
            "Epoch 1/100\n",
            "192/192 [==============================] - 2s 4ms/step - loss: 0.6806 - accuracy: 0.5861 - val_loss: 0.6245 - val_accuracy: 0.6547\n",
            "Epoch 2/100\n",
            "192/192 [==============================] - 1s 5ms/step - loss: 0.6020 - accuracy: 0.6851 - val_loss: 0.5829 - val_accuracy: 0.6961\n",
            "Epoch 3/100\n",
            "192/192 [==============================] - 1s 5ms/step - loss: 0.5707 - accuracy: 0.7076 - val_loss: 0.5638 - val_accuracy: 0.7103\n",
            "Epoch 4/100\n",
            "192/192 [==============================] - 1s 5ms/step - loss: 0.5555 - accuracy: 0.7196 - val_loss: 0.5493 - val_accuracy: 0.7258\n",
            "Epoch 5/100\n",
            "192/192 [==============================] - 1s 3ms/step - loss: 0.5429 - accuracy: 0.7282 - val_loss: 0.5358 - val_accuracy: 0.7321\n",
            "Epoch 6/100\n",
            "192/192 [==============================] - 0s 3ms/step - loss: 0.5250 - accuracy: 0.7380 - val_loss: 0.5129 - val_accuracy: 0.7547\n",
            "Epoch 7/100\n",
            "192/192 [==============================] - 1s 3ms/step - loss: 0.5023 - accuracy: 0.7545 - val_loss: 0.4894 - val_accuracy: 0.7668\n",
            "Epoch 8/100\n",
            "192/192 [==============================] - 1s 4ms/step - loss: 0.4847 - accuracy: 0.7663 - val_loss: 0.4759 - val_accuracy: 0.7781\n",
            "Epoch 9/100\n",
            "192/192 [==============================] - 1s 3ms/step - loss: 0.4741 - accuracy: 0.7701 - val_loss: 0.4664 - val_accuracy: 0.7832\n",
            "Epoch 10/100\n",
            "192/192 [==============================] - 1s 3ms/step - loss: 0.4685 - accuracy: 0.7726 - val_loss: 0.4634 - val_accuracy: 0.7857\n",
            "Epoch 11/100\n",
            "192/192 [==============================] - 1s 3ms/step - loss: 0.4641 - accuracy: 0.7741 - val_loss: 0.4595 - val_accuracy: 0.7836\n",
            "Epoch 12/100\n",
            "192/192 [==============================] - 1s 3ms/step - loss: 0.4616 - accuracy: 0.7762 - val_loss: 0.4586 - val_accuracy: 0.7853\n",
            "Epoch 13/100\n",
            "192/192 [==============================] - 1s 3ms/step - loss: 0.4589 - accuracy: 0.7769 - val_loss: 0.4572 - val_accuracy: 0.7903\n",
            "Epoch 14/100\n",
            "192/192 [==============================] - 1s 3ms/step - loss: 0.4580 - accuracy: 0.7761 - val_loss: 0.4544 - val_accuracy: 0.7874\n",
            "Epoch 15/100\n",
            "192/192 [==============================] - 1s 3ms/step - loss: 0.4561 - accuracy: 0.7785 - val_loss: 0.4524 - val_accuracy: 0.7903\n",
            "Epoch 16/100\n",
            "192/192 [==============================] - 1s 3ms/step - loss: 0.4549 - accuracy: 0.7795 - val_loss: 0.4518 - val_accuracy: 0.7941\n",
            "Epoch 17/100\n",
            "192/192 [==============================] - 1s 3ms/step - loss: 0.4540 - accuracy: 0.7788 - val_loss: 0.4505 - val_accuracy: 0.7966\n",
            "Epoch 18/100\n",
            "192/192 [==============================] - 1s 3ms/step - loss: 0.4530 - accuracy: 0.7776 - val_loss: 0.4504 - val_accuracy: 0.7953\n",
            "Epoch 19/100\n",
            "192/192 [==============================] - 1s 3ms/step - loss: 0.4514 - accuracy: 0.7782 - val_loss: 0.4488 - val_accuracy: 0.7932\n",
            "Epoch 20/100\n",
            "192/192 [==============================] - 1s 3ms/step - loss: 0.4505 - accuracy: 0.7799 - val_loss: 0.4495 - val_accuracy: 0.7899\n",
            "Epoch 21/100\n",
            "192/192 [==============================] - 1s 4ms/step - loss: 0.4500 - accuracy: 0.7815 - val_loss: 0.4489 - val_accuracy: 0.7920\n",
            "Epoch 22/100\n",
            "192/192 [==============================] - 1s 4ms/step - loss: 0.4493 - accuracy: 0.7817 - val_loss: 0.4485 - val_accuracy: 0.7903\n",
            "Epoch 23/100\n",
            "192/192 [==============================] - 1s 5ms/step - loss: 0.4484 - accuracy: 0.7796 - val_loss: 0.4486 - val_accuracy: 0.7903\n",
            "Epoch 24/100\n",
            "192/192 [==============================] - 1s 4ms/step - loss: 0.4478 - accuracy: 0.7834 - val_loss: 0.4478 - val_accuracy: 0.7924\n",
            "Epoch 25/100\n",
            "192/192 [==============================] - 1s 3ms/step - loss: 0.4472 - accuracy: 0.7816 - val_loss: 0.4461 - val_accuracy: 0.7924\n",
            "Epoch 26/100\n",
            "192/192 [==============================] - 0s 3ms/step - loss: 0.4466 - accuracy: 0.7823 - val_loss: 0.4455 - val_accuracy: 0.7878\n",
            "Epoch 27/100\n",
            "192/192 [==============================] - 1s 3ms/step - loss: 0.4462 - accuracy: 0.7822 - val_loss: 0.4465 - val_accuracy: 0.7865\n",
            "Epoch 28/100\n",
            "192/192 [==============================] - 1s 3ms/step - loss: 0.4457 - accuracy: 0.7822 - val_loss: 0.4441 - val_accuracy: 0.7899\n",
            "Epoch 29/100\n",
            "192/192 [==============================] - 1s 3ms/step - loss: 0.4451 - accuracy: 0.7829 - val_loss: 0.4455 - val_accuracy: 0.7874\n",
            "Epoch 30/100\n",
            "192/192 [==============================] - 0s 2ms/step - loss: 0.4449 - accuracy: 0.7822 - val_loss: 0.4464 - val_accuracy: 0.7865\n",
            "Epoch 31/100\n",
            "192/192 [==============================] - 1s 3ms/step - loss: 0.4444 - accuracy: 0.7844 - val_loss: 0.4450 - val_accuracy: 0.7882\n",
            "Epoch 32/100\n",
            "192/192 [==============================] - 1s 3ms/step - loss: 0.4439 - accuracy: 0.7834 - val_loss: 0.4447 - val_accuracy: 0.7899\n",
            "Epoch 33/100\n",
            "192/192 [==============================] - 1s 3ms/step - loss: 0.4432 - accuracy: 0.7835 - val_loss: 0.4441 - val_accuracy: 0.7945\n",
            "Epoch 34/100\n",
            "192/192 [==============================] - 1s 3ms/step - loss: 0.4431 - accuracy: 0.7852 - val_loss: 0.4435 - val_accuracy: 0.7915\n",
            "Epoch 35/100\n",
            "192/192 [==============================] - 1s 3ms/step - loss: 0.4425 - accuracy: 0.7865 - val_loss: 0.4445 - val_accuracy: 0.7832\n",
            "Epoch 36/100\n",
            "192/192 [==============================] - 1s 3ms/step - loss: 0.4424 - accuracy: 0.7833 - val_loss: 0.4453 - val_accuracy: 0.7869\n",
            "Epoch 37/100\n",
            "192/192 [==============================] - 1s 3ms/step - loss: 0.4417 - accuracy: 0.7843 - val_loss: 0.4429 - val_accuracy: 0.7949\n",
            "Epoch 38/100\n",
            "192/192 [==============================] - 0s 3ms/step - loss: 0.4409 - accuracy: 0.7841 - val_loss: 0.4434 - val_accuracy: 0.7861\n",
            "Epoch 39/100\n",
            "192/192 [==============================] - 0s 3ms/step - loss: 0.4406 - accuracy: 0.7867 - val_loss: 0.4422 - val_accuracy: 0.7890\n",
            "Epoch 40/100\n",
            "192/192 [==============================] - 0s 2ms/step - loss: 0.4404 - accuracy: 0.7859 - val_loss: 0.4445 - val_accuracy: 0.7878\n",
            "Epoch 41/100\n",
            "192/192 [==============================] - 1s 3ms/step - loss: 0.4404 - accuracy: 0.7879 - val_loss: 0.4425 - val_accuracy: 0.7874\n",
            "Epoch 42/100\n",
            "192/192 [==============================] - 1s 3ms/step - loss: 0.4398 - accuracy: 0.7853 - val_loss: 0.4416 - val_accuracy: 0.7848\n",
            "Epoch 43/100\n",
            "192/192 [==============================] - 1s 4ms/step - loss: 0.4390 - accuracy: 0.7866 - val_loss: 0.4416 - val_accuracy: 0.7907\n",
            "Epoch 44/100\n",
            "192/192 [==============================] - 1s 5ms/step - loss: 0.4388 - accuracy: 0.7883 - val_loss: 0.4402 - val_accuracy: 0.7907\n",
            "Epoch 45/100\n",
            "192/192 [==============================] - 1s 4ms/step - loss: 0.4378 - accuracy: 0.7889 - val_loss: 0.4428 - val_accuracy: 0.7915\n",
            "Epoch 46/100\n",
            "192/192 [==============================] - 1s 3ms/step - loss: 0.4380 - accuracy: 0.7863 - val_loss: 0.4409 - val_accuracy: 0.7882\n",
            "Epoch 47/100\n",
            "192/192 [==============================] - 0s 3ms/step - loss: 0.4380 - accuracy: 0.7864 - val_loss: 0.4412 - val_accuracy: 0.7920\n",
            "Epoch 48/100\n",
            "192/192 [==============================] - 0s 2ms/step - loss: 0.4374 - accuracy: 0.7904 - val_loss: 0.4412 - val_accuracy: 0.7924\n",
            "Epoch 49/100\n",
            "192/192 [==============================] - 0s 3ms/step - loss: 0.4370 - accuracy: 0.7889 - val_loss: 0.4419 - val_accuracy: 0.7920\n",
            "Epoch 50/100\n",
            "192/192 [==============================] - 1s 3ms/step - loss: 0.4369 - accuracy: 0.7901 - val_loss: 0.4423 - val_accuracy: 0.7941\n",
            "Epoch 51/100\n",
            "192/192 [==============================] - 1s 3ms/step - loss: 0.4366 - accuracy: 0.7857 - val_loss: 0.4398 - val_accuracy: 0.7895\n",
            "Epoch 52/100\n",
            "192/192 [==============================] - 0s 2ms/step - loss: 0.4363 - accuracy: 0.7887 - val_loss: 0.4413 - val_accuracy: 0.7957\n",
            "Epoch 53/100\n",
            "192/192 [==============================] - 1s 3ms/step - loss: 0.4362 - accuracy: 0.7895 - val_loss: 0.4403 - val_accuracy: 0.7932\n",
            "Epoch 54/100\n",
            "192/192 [==============================] - 1s 3ms/step - loss: 0.4365 - accuracy: 0.7898 - val_loss: 0.4423 - val_accuracy: 0.7945\n",
            "Epoch 55/100\n",
            "192/192 [==============================] - 1s 3ms/step - loss: 0.4356 - accuracy: 0.7893 - val_loss: 0.4380 - val_accuracy: 0.7903\n",
            "Epoch 56/100\n",
            "192/192 [==============================] - 1s 3ms/step - loss: 0.4354 - accuracy: 0.7910 - val_loss: 0.4385 - val_accuracy: 0.7882\n",
            "Epoch 57/100\n",
            "192/192 [==============================] - 1s 3ms/step - loss: 0.4351 - accuracy: 0.7891 - val_loss: 0.4405 - val_accuracy: 0.7961\n",
            "Epoch 58/100\n",
            "192/192 [==============================] - 1s 3ms/step - loss: 0.4348 - accuracy: 0.7911 - val_loss: 0.4381 - val_accuracy: 0.7999\n",
            "Epoch 59/100\n",
            "192/192 [==============================] - 0s 2ms/step - loss: 0.4354 - accuracy: 0.7886 - val_loss: 0.4384 - val_accuracy: 0.7907\n",
            "Epoch 60/100\n",
            "192/192 [==============================] - 0s 3ms/step - loss: 0.4346 - accuracy: 0.7892 - val_loss: 0.4386 - val_accuracy: 0.7928\n",
            "Epoch 61/100\n",
            "192/192 [==============================] - 0s 2ms/step - loss: 0.4340 - accuracy: 0.7887 - val_loss: 0.4398 - val_accuracy: 0.7945\n",
            "Epoch 62/100\n",
            "192/192 [==============================] - 1s 3ms/step - loss: 0.4343 - accuracy: 0.7898 - val_loss: 0.4385 - val_accuracy: 0.7911\n",
            "Epoch 63/100\n",
            "192/192 [==============================] - 0s 2ms/step - loss: 0.4340 - accuracy: 0.7903 - val_loss: 0.4387 - val_accuracy: 0.7945\n",
            "Epoch 64/100\n",
            "192/192 [==============================] - 1s 4ms/step - loss: 0.4337 - accuracy: 0.7924 - val_loss: 0.4373 - val_accuracy: 0.7974\n",
            "Epoch 65/100\n",
            "192/192 [==============================] - 1s 4ms/step - loss: 0.4338 - accuracy: 0.7898 - val_loss: 0.4383 - val_accuracy: 0.7966\n",
            "Epoch 66/100\n",
            "192/192 [==============================] - 1s 4ms/step - loss: 0.4330 - accuracy: 0.7891 - val_loss: 0.4387 - val_accuracy: 0.7970\n",
            "Epoch 67/100\n",
            "192/192 [==============================] - 1s 5ms/step - loss: 0.4331 - accuracy: 0.7903 - val_loss: 0.4372 - val_accuracy: 0.7961\n",
            "Epoch 68/100\n",
            "192/192 [==============================] - 1s 3ms/step - loss: 0.4331 - accuracy: 0.7906 - val_loss: 0.4358 - val_accuracy: 0.7949\n",
            "Epoch 69/100\n",
            "192/192 [==============================] - 1s 3ms/step - loss: 0.4327 - accuracy: 0.7941 - val_loss: 0.4366 - val_accuracy: 0.7966\n",
            "Epoch 70/100\n",
            "192/192 [==============================] - 1s 3ms/step - loss: 0.4324 - accuracy: 0.7897 - val_loss: 0.4352 - val_accuracy: 0.7941\n",
            "Epoch 71/100\n",
            "192/192 [==============================] - 1s 3ms/step - loss: 0.4322 - accuracy: 0.7909 - val_loss: 0.4403 - val_accuracy: 0.7978\n",
            "Epoch 72/100\n",
            "192/192 [==============================] - 1s 3ms/step - loss: 0.4317 - accuracy: 0.7916 - val_loss: 0.4348 - val_accuracy: 0.7978\n",
            "Epoch 73/100\n",
            "192/192 [==============================] - 1s 3ms/step - loss: 0.4319 - accuracy: 0.7897 - val_loss: 0.4357 - val_accuracy: 0.7949\n",
            "Epoch 74/100\n",
            "192/192 [==============================] - 0s 3ms/step - loss: 0.4315 - accuracy: 0.7910 - val_loss: 0.4344 - val_accuracy: 0.7995\n",
            "Epoch 75/100\n",
            "192/192 [==============================] - 1s 3ms/step - loss: 0.4312 - accuracy: 0.7892 - val_loss: 0.4361 - val_accuracy: 0.7941\n",
            "Epoch 76/100\n",
            "192/192 [==============================] - 0s 3ms/step - loss: 0.4310 - accuracy: 0.7903 - val_loss: 0.4365 - val_accuracy: 0.7915\n",
            "Epoch 77/100\n",
            "192/192 [==============================] - 0s 3ms/step - loss: 0.4307 - accuracy: 0.7910 - val_loss: 0.4365 - val_accuracy: 0.7991\n",
            "Epoch 78/100\n",
            "192/192 [==============================] - 0s 2ms/step - loss: 0.4312 - accuracy: 0.7910 - val_loss: 0.4344 - val_accuracy: 0.7966\n",
            "Epoch 79/100\n",
            "192/192 [==============================] - 1s 3ms/step - loss: 0.4308 - accuracy: 0.7917 - val_loss: 0.4347 - val_accuracy: 0.7941\n",
            "Epoch 80/100\n",
            "192/192 [==============================] - 0s 3ms/step - loss: 0.4304 - accuracy: 0.7920 - val_loss: 0.4338 - val_accuracy: 0.7999\n",
            "Epoch 81/100\n",
            "192/192 [==============================] - 0s 3ms/step - loss: 0.4302 - accuracy: 0.7903 - val_loss: 0.4340 - val_accuracy: 0.7991\n",
            "Epoch 82/100\n",
            "192/192 [==============================] - 0s 2ms/step - loss: 0.4298 - accuracy: 0.7922 - val_loss: 0.4367 - val_accuracy: 0.7982\n",
            "Epoch 83/100\n",
            "192/192 [==============================] - 1s 3ms/step - loss: 0.4299 - accuracy: 0.7928 - val_loss: 0.4338 - val_accuracy: 0.7970\n",
            "Epoch 84/100\n",
            "192/192 [==============================] - 1s 3ms/step - loss: 0.4297 - accuracy: 0.7916 - val_loss: 0.4336 - val_accuracy: 0.8016\n",
            "Epoch 85/100\n",
            "192/192 [==============================] - 1s 3ms/step - loss: 0.4290 - accuracy: 0.7904 - val_loss: 0.4333 - val_accuracy: 0.7978\n",
            "Epoch 86/100\n",
            "192/192 [==============================] - 1s 5ms/step - loss: 0.4289 - accuracy: 0.7913 - val_loss: 0.4316 - val_accuracy: 0.7932\n",
            "Epoch 87/100\n",
            "192/192 [==============================] - 1s 4ms/step - loss: 0.4295 - accuracy: 0.7922 - val_loss: 0.4310 - val_accuracy: 0.8016\n",
            "Epoch 88/100\n",
            "192/192 [==============================] - 1s 5ms/step - loss: 0.4288 - accuracy: 0.7927 - val_loss: 0.4342 - val_accuracy: 0.7991\n",
            "Epoch 89/100\n",
            "192/192 [==============================] - 1s 4ms/step - loss: 0.4285 - accuracy: 0.7901 - val_loss: 0.4316 - val_accuracy: 0.7970\n",
            "Epoch 90/100\n",
            "192/192 [==============================] - 1s 3ms/step - loss: 0.4279 - accuracy: 0.7929 - val_loss: 0.4318 - val_accuracy: 0.7974\n",
            "Epoch 91/100\n",
            "192/192 [==============================] - 1s 3ms/step - loss: 0.4283 - accuracy: 0.7929 - val_loss: 0.4303 - val_accuracy: 0.7995\n",
            "Epoch 92/100\n",
            "192/192 [==============================] - 1s 3ms/step - loss: 0.4275 - accuracy: 0.7932 - val_loss: 0.4314 - val_accuracy: 0.7995\n",
            "Epoch 93/100\n",
            "192/192 [==============================] - 1s 3ms/step - loss: 0.4269 - accuracy: 0.7936 - val_loss: 0.4336 - val_accuracy: 0.8012\n",
            "Epoch 94/100\n",
            "192/192 [==============================] - 1s 3ms/step - loss: 0.4267 - accuracy: 0.7926 - val_loss: 0.4297 - val_accuracy: 0.8016\n",
            "Epoch 95/100\n",
            "192/192 [==============================] - 1s 3ms/step - loss: 0.4268 - accuracy: 0.7927 - val_loss: 0.4295 - val_accuracy: 0.7995\n",
            "Epoch 96/100\n",
            "192/192 [==============================] - 1s 3ms/step - loss: 0.4265 - accuracy: 0.7934 - val_loss: 0.4291 - val_accuracy: 0.8024\n",
            "Epoch 97/100\n",
            "192/192 [==============================] - 1s 3ms/step - loss: 0.4256 - accuracy: 0.7946 - val_loss: 0.4281 - val_accuracy: 0.8016\n",
            "Epoch 98/100\n",
            "192/192 [==============================] - 1s 3ms/step - loss: 0.4251 - accuracy: 0.7961 - val_loss: 0.4296 - val_accuracy: 0.8024\n",
            "Epoch 99/100\n",
            "192/192 [==============================] - 1s 3ms/step - loss: 0.4244 - accuracy: 0.7967 - val_loss: 0.4294 - val_accuracy: 0.8037\n",
            "Epoch 100/100\n",
            "192/192 [==============================] - 1s 3ms/step - loss: 0.4242 - accuracy: 0.7963 - val_loss: 0.4288 - val_accuracy: 0.7978\n",
            "125/125 [==============================] - 0s 1ms/step\n"
          ]
        },
        {
          "output_type": "execute_result",
          "data": {
            "text/plain": [
              "array([[0.24417463],\n",
              "       [0.9489436 ],\n",
              "       [0.9898557 ],\n",
              "       ...,\n",
              "       [0.02146873],\n",
              "       [0.19058378],\n",
              "       [0.15915035]], dtype=float32)"
            ]
          },
          "metadata": {},
          "execution_count": 210
        }
      ]
    },
    {
      "cell_type": "code",
      "source": [
        "y_pred1 = np.where(y_pred1>0.5, 1, 0)\n",
        "from sklearn.metrics import accuracy_score\n",
        "accuracy_score(y_test,y_pred1)"
      ],
      "metadata": {
        "colab": {
          "base_uri": "https://localhost:8080/"
        },
        "id": "7RTozzGf4zme",
        "outputId": "d3e8cd7a-a68e-4a31-9aa7-39c4d4531236"
      },
      "execution_count": 211,
      "outputs": [
        {
          "output_type": "execute_result",
          "data": {
            "text/plain": [
              "0.7780010045203415"
            ]
          },
          "metadata": {},
          "execution_count": 211
        }
      ]
    },
    {
      "cell_type": "code",
      "source": [],
      "metadata": {
        "id": "N9CX-VKP5EFj"
      },
      "execution_count": null,
      "outputs": []
    }
  ]
}